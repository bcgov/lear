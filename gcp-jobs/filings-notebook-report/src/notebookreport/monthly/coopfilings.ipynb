{
 "cells": [
  {
   "cell_type": "markdown",
   "metadata": {
    "collapsed": false
   },
   "source": [
    "# Filings Monthly Stats"
   ]
  },
  {
   "cell_type": "markdown",
   "metadata": {
    "collapsed": false
   },
   "source": [
    "We need to load in these libraries into our notebook in order to query, load, manipulate and view the data"
   ]
  },
  {
   "cell_type": "code",
   "execution_count": null,
   "metadata": {
    "collapsed": false,
    "pycharm": {
     "is_executing": false,
     "name": "#%%\n"
    }
   },
   "outputs": [],
   "source": [
    "import os\n",
    "from datetime import datetime\n",
    "from dotenv import load_dotenv, find_dotenv\n",
    "from dateutil.relativedelta import relativedelta\n",
    "\n",
    "%load_ext sql\n",
    "%config SqlMagic.displaylimit = 5\n",
    "%config SqlMagic.style = '_DEPRECATED_DEFAULT'\n",
    "# this will load all the envars from a .env file located in the project root (api)\n",
    "%load_ext dotenv\n",
    "load_dotenv(find_dotenv())\n"
   ]
  },
  {
   "cell_type": "markdown",
   "metadata": {
    "collapsed": false
   },
   "source": [
    "This will create the connection to the database and prep the jupyter magic for SQL"
   ]
  },
  {
   "cell_type": "code",
   "execution_count": null,
   "metadata": {
    "collapsed": false,
    "pycharm": {
     "is_executing": false,
     "name": "#%%\n"
    }
   },
   "outputs": [],
   "source": [
    "PG_USER=os.getenv(\"PG_USER\", \"\")\n",
    "PG_PASSWORD=os.getenv(\"PG_PASSWORD\", \"\")\n",
    "PG_HOST=os.getenv(\"PG_HOST\", \"\")\n",
    "PG_PORT=os.getenv(\"PG_PORT\", \"5432\")\n",
    "PG_DB_NAME=os.getenv(\"PG_DB_NAME\", \"\")\n",
    "PG_SOCKET=os.getenv(\"PG_SOCKET\", \"\")\n",
    "\n",
    "if PG_SOCKET != \"\":\n",
    "    import pg8000\n",
    "    connect_to_db = f\"postgresql+pg8000://{PG_USER}:{PG_PASSWORD}@/{PG_DB_NAME}?unix_sock={PG_SOCKET}/.s.PGSQL.5432\"\n",
    "else:\n",
    "    connect_to_db = f\"postgresql://{PG_USER}:{PG_PASSWORD}@{PG_HOST}:{PG_PORT}/{PG_DB_NAME}\"\n",
    "\n",
    "print(connect_to_db)\n",
    "%sql $connect_to_db"
   ]
  },
  {
   "cell_type": "markdown",
   "metadata": {
    "collapsed": false
   },
   "source": [
    "Simplest query to run to ensure our libraries are loaded and our DB connection is working"
   ]
  },
  {
   "cell_type": "code",
   "execution_count": null,
   "metadata": {
    "collapsed": false,
    "pycharm": {
     "is_executing": false,
     "name": "#%%\n"
    }
   },
   "outputs": [],
   "source": [
    "%%sql \n",
    "select now() AT TIME ZONE 'PST' as current_date"
   ]
  },
  {
   "cell_type": "markdown",
   "metadata": {
    "collapsed": false
   },
   "source": [
    "monthly total before running time."
   ]
  },
  {
   "cell_type": "code",
   "execution_count": null,
   "metadata": {
    "collapsed": false,
    "pycharm": {
     "is_executing": false,
     "name": "#%%\n"
    }
   },
   "outputs": [],
   "source": [
    "%%sql stat_filings_monthly_completed  <<\n",
    "WITH Detail AS \n",
    "(\n",
    "    SELECT b.identifier AS COOPERATIVE_NUMBER\n",
    "           , b.legal_name AS COOPERATIVE_NAME\n",
    "           , COUNT(b.identifier) AS FILINGS_TOTAL_COMPLETED\n",
    "           , STRING_AGG(f.filing_type, ', ')  AS FILING_TYPES_COMPLETED\n",
    "    FROM businesses b,\n",
    "    filings f\n",
    "    WHERE b.id = f.business_id\n",
    "    AND b.legal_type='CP'\n",
    "    AND f.status='COMPLETED'\n",
    "    AND date(f.completion_date at time zone 'utc' at time zone 'pst')  > date(current_date - 1 - interval '1 months')    \n",
    "    AND date(f.completion_date at time zone 'utc' at time zone 'pst')  <= date(current_date - 1)\n",
    "    GROUP BY b.identifier, b.legal_name    \n",
    ")\n",
    "\n",
    "SELECT * FROM Detail\n",
    "UNION ALL\n",
    "SELECT 'SUM' identifier, null, sum(FILINGS_TOTAL_COMPLETED) AS count, null\n",
    "from Detail;\n"
   ]
  },
  {
   "cell_type": "code",
   "execution_count": null,
   "metadata": {
    "collapsed": false,
    "pycharm": {
     "is_executing": false,
     "name": "#%%\n"
    }
   },
   "outputs": [],
   "source": [
    "edt = stat_filings_monthly_completed.DataFrame()"
   ]
  },
  {
   "cell_type": "code",
   "execution_count": null,
   "metadata": {
    "collapsed": false,
    "pycharm": {
     "is_executing": false,
     "name": "#%%\n"
    }
   },
   "outputs": [],
   "source": []
  },
  {
   "cell_type": "markdown",
   "metadata": {
    "collapsed": false
   },
   "source": [
    "Save to CSV"
   ]
  },
  {
   "cell_type": "code",
   "execution_count": null,
   "metadata": {
    "collapsed": false,
    "pycharm": {
     "is_executing": false,
     "name": "#%%\n"
    }
   },
   "outputs": [],
   "source": [
    "last_month = datetime.now() - relativedelta(months=1)\n",
    "filename = os.path.join(os.getcwd(), r\"data/\")+\"coop_filings_monthly_stats_for_\" + format(last_month, \"%B_%Y\") +\".csv\"\n",
    "edt.to_csv(filename, sep=\",\", encoding=\"utf-8\", index=False)"
   ]
  },
  {
   "cell_type": "code",
   "execution_count": null,
   "metadata": {
    "collapsed": false,
    "pycharm": {
     "is_executing": false,
     "name": "#%%\n"
    }
   },
   "outputs": [],
   "source": []
  }
 ],
 "metadata": {
  "celltoolbar": "Tags",
  "kernelspec": {
   "display_name": "Python 3.13.0 64-bit",
   "language": "python",
   "name": "python3"
  },
  "language_info": {
   "codemirror_mode": {
    "name": "ipython",
    "version": 3
   },
   "file_extension": ".py",
   "mimetype": "text/x-python",
   "name": "python",
   "nbconvert_exporter": "python",
   "pygments_lexer": "ipython3",
   "version": "3.13.0"
  },
  "pycharm": {
   "stem_cell": {
    "cell_type": "raw",
    "metadata": {
     "collapsed": false
    },
    "source": []
   }
  },
  "vscode": {
   "interpreter": {
    "hash": "fcb35bce15c55b4cacb5112e543368f86c7f98ed17acd45e6841ee83ed1df6e3"
   }
  }
 },
 "nbformat": 4,
 "nbformat_minor": 2
}
