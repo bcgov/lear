{
 "cells": [
  {
   "cell_type": "markdown",
   "metadata": {
    "collapsed": false
   },
   "source": [
    "# Filings Daily Stats"
   ]
  },
  {
   "cell_type": "markdown",
   "metadata": {
    "collapsed": false
   },
   "source": [
    "We need to load in these libraries into our notebook in order to query, load, manipulate and view the data"
   ]
  },
  {
   "cell_type": "code",
   "execution_count": null,
   "metadata": {
    "collapsed": false,
    "pycharm": {
     "is_executing": false,
     "name": "#%%\n"
    }
   },
   "outputs": [],
   "source": [
    "import os\n",
    "from datetime import datetime, timedelta\n",
    "from dotenv import load_dotenv, find_dotenv\n",
    "\n",
    "\n",
    "%load_ext sql\n",
    "%config SqlMagic.displaylimit = 5\n",
    "%config SqlMagic.style = '_DEPRECATED_DEFAULT'\n",
    "# this will load all the envars from a .env file located in the project root (api)\n",
    "%load_ext dotenv\n",
    "load_dotenv(find_dotenv())"
   ]
  },
  {
   "cell_type": "markdown",
   "metadata": {
    "collapsed": false
   },
   "source": [
    "This will create the connection to the database and prep the jupyter magic for SQL"
   ]
  },
  {
   "cell_type": "code",
   "execution_count": null,
   "metadata": {
    "collapsed": false,
    "pycharm": {
     "is_executing": false,
     "name": "#%%\n"
    }
   },
   "outputs": [],
   "source": [
    "PG_USER=os.getenv(\"PG_USER\", \"\")\n",
    "PG_PASSWORD=os.getenv(\"PG_PASSWORD\", \"\")\n",
    "PG_HOST=os.getenv(\"PG_HOST\", \"\")\n",
    "PG_PORT=os.getenv(\"PG_PORT\", \"5432\")\n",
    "PG_DB_NAME=os.getenv(\"PG_DB_NAME\", \"\")\n",
    "PG_SOCKET=os.getenv(\"PG_SOCKET\", \"\")\n",
    "\n",
    "if PG_SOCKET != \"\":\n",
    "    import pg8000\n",
    "    connect_to_db = f\"postgresql+pg8000://{PG_USER}:{PG_PASSWORD}@/{PG_DB_NAME}?unix_sock={PG_SOCKET}/.s.PGSQL.5432\"\n",
    "else:\n",
    "    connect_to_db = f\"postgresql://{PG_USER}:{PG_PASSWORD}@{PG_HOST}:{PG_PORT}/{PG_DB_NAME}\"\n",
    "\n",
    "print(connect_to_db)\n",
    "%sql $connect_to_db"
   ]
  },
  {
   "cell_type": "markdown",
   "metadata": {
    "collapsed": false
   },
   "source": [
    "Simplest query to run to ensure our libraries are loaded and our DB connection is working"
   ]
  },
  {
   "cell_type": "code",
   "execution_count": null,
   "metadata": {
    "collapsed": false,
    "pycharm": {
     "is_executing": false,
     "name": "#%%\n"
    }
   },
   "outputs": [],
   "source": [
    "%%sql \n",
    "select now() AT TIME ZONE 'PST' as current_date"
   ]
  },
  {
   "cell_type": "markdown",
   "metadata": {
    "collapsed": false
   },
   "source": [
    "monthly total before running time."
   ]
  },
  {
   "cell_type": "code",
   "execution_count": null,
   "metadata": {
    "collapsed": false,
    "pycharm": {
     "is_executing": false,
     "name": "#%%\n"
    }
   },
   "outputs": [],
   "source": [
    "%%sql stat_incorp_filings_daily_completed  <<\n",
    "SELECT b.identifier AS INCORPORATION_NUMBER\n",
    "       , b.legal_name AS INCORPORATION_NAME\n",
    "       , u.username AS FILING_USER\n",
    "       , f.status \n",
    "       , f.filing_date at time zone 'utc' at time zone 'pst' AS FILING_TIMESTAMP_PST\n",
    "       , f.effective_date at time zone 'utc' at time zone 'pst' AS EFFECTIVE_TIMESTAMP_PST\n",
    "FROM businesses b, filings f, users u \n",
    "WHERE b.id = f.business_id \n",
    "AND f.filing_type='incorporationApplication'\n",
    "AND f.submitter_id=u.id \n",
    "AND date(f.filing_date at time zone 'utc' at time zone 'pst') = date(current_date-1)\n",
    "ORDER BY FILING_TIMESTAMP_PST;"
   ]
  },
  {
   "cell_type": "code",
   "execution_count": null,
   "metadata": {
    "collapsed": false,
    "pycharm": {
     "is_executing": false,
     "name": "#%%\n"
    }
   },
   "outputs": [],
   "source": [
    "incorp_edt = stat_incorp_filings_daily_completed.DataFrame()\n",
    "\n",
    "datestr = datetime.strftime(datetime.now()-timedelta(1), \"%Y-%m-%d\")\n",
    "filename =  os.path.join(os.getcwd(), r\"data/\")+\"incorporation_filings_daily_stats_\" + datestr +\".csv\"\n",
    "\n",
    "with open(filename, \"w\") as f:\n",
    "    if incorp_edt.empty:\n",
    "        f.write(\"No Data Retrieved for Incorporation Application on \" + datestr)         \n",
    "    else:  \n",
    "        f.write(\"Incorporation Application(s) on \" + datestr + \":\\n\")            \n",
    "        incorp_edt.to_csv(f, sep=\",\", encoding=\"utf-8\", index=False)  \n",
    "    f.write(\"\\n\\n\")   "
   ]
  },
  {
   "cell_type": "code",
   "execution_count": null,
   "metadata": {
    "collapsed": false,
    "pycharm": {
     "is_executing": false,
     "name": "#%%\n"
    }
   },
   "outputs": [],
   "source": [
    "%%sql stat_benefit_filings_daily_completed  <<\n",
    "SELECT b.identifier AS INCORPORATION_NUMBER\n",
    "       , b.legal_name AS INCORPORATION_NAME\n",
    "       , u.username AS FILING_USER\n",
    "       , f.status \n",
    "       , f.filing_date at time zone 'utc' at time zone 'pst' AS FILING_TIMESTAMP_PST\n",
    "       , f.effective_date at time zone 'utc' at time zone 'pst' AS EFFECTIVE_TIMESTAMP_PST\n",
    "FROM businesses b, filings f, users u \n",
    "WHERE b.id = f.business_id \n",
    "AND b.legal_type='BEN'\n",
    "AND f.filing_type='alteration'\n",
    "AND f.submitter_id=u.id \n",
    "AND date(f.filing_date at time zone 'utc' at time zone 'pst') = date(current_date-1)\n",
    "ORDER BY FILING_TIMESTAMP_PST;"
   ]
  },
  {
   "cell_type": "code",
   "execution_count": null,
   "metadata": {},
   "outputs": [],
   "source": [
    "benefit_edt = stat_benefit_filings_daily_completed.DataFrame()\n",
    "\n",
    "with open(filename, \"a\") as f:  \n",
    "    if benefit_edt.empty:\n",
    "        f.write(\"No Data Retrieved for Alterations to Benefit Company on \" + datestr)         \n",
    "    else: \n",
    "        f.write(\"Alterations to Benefit Company on \" + datestr + \":\\n\")  \n",
    "        benefit_edt.to_csv(f, sep=\",\", encoding=\"utf-8\", index=False) \n",
    "    f.write(\"\\n\\n\")  "
   ]
  },
  {
   "cell_type": "code",
   "execution_count": null,
   "metadata": {},
   "outputs": [],
   "source": [
    "%%sql stat_bc_company_filings_daily_completed  <<\n",
    "SELECT b.identifier AS INCORPORATION_NUMBER\n",
    "       , b.legal_name AS INCORPORATION_NAME\n",
    "       , u.username AS FILING_USER\n",
    "       , f.status \n",
    "       , f.filing_date at time zone 'utc' at time zone 'pst' AS FILING_TIMESTAMP_PST\n",
    "       , f.effective_date at time zone 'utc' at time zone 'pst' AS EFFECTIVE_TIMESTAMP_PST\n",
    "FROM businesses b, filings f, users u \n",
    "WHERE b.id = f.business_id \n",
    "AND b.legal_type='BC'\n",
    "AND f.filing_type='alteration'\n",
    "AND f.submitter_id=u.id \n",
    "AND date(f.filing_date at time zone 'utc' at time zone 'pst') = date(current_date-1)\n",
    "ORDER BY FILING_TIMESTAMP_PST;"
   ]
  },
  {
   "cell_type": "code",
   "execution_count": null,
   "metadata": {},
   "outputs": [],
   "source": [
    "bc_company_edt = stat_bc_company_filings_daily_completed.DataFrame()\n",
    "\n",
    "with open(filename, \"a\") as f:  \n",
    "    if bc_company_edt.empty:\n",
    "        f.write(\"No Data Retrieved for Alterations to BC Limited Company on \" + datestr)         \n",
    "    else: \n",
    "        f.write(\"Alterations to BC Limited Company on \" + datestr + \":\\n\")  \n",
    "        bc_company_edt.to_csv(f, sep=\",\", encoding=\"utf-8\", index=False) \n",
    "    f.write(\"\\n\\n\")    "
   ]
  },
  {
   "cell_type": "code",
   "execution_count": null,
   "metadata": {},
   "outputs": [],
   "source": [
    "%%sql stat_benefit_corporations_total_completed  <<\n",
    "SELECT count(*) \n",
    "FROM businesses b\n",
    "WHERE b.legal_type='BEN';"
   ]
  },
  {
   "cell_type": "code",
   "execution_count": null,
   "metadata": {},
   "outputs": [],
   "source": [
    "with open(filename, \"a\") as f:  \n",
    "    f.write(\"The Total Number of Benefit Companies to Date:\\n\")\n",
    "    stat_benefit_corporations_total_completed.DataFrame().to_csv(f, sep=\",\", encoding=\"utf-8\", index=False) "
   ]
  }
 ],
 "metadata": {
  "celltoolbar": "Tags",
  "kernelspec": {
   "display_name": "Python 3.13.0 64-bit",
   "language": "python",
   "name": "python3"
  },
  "language_info": {
   "codemirror_mode": {
    "name": "ipython",
    "version": 3
   },
   "file_extension": ".py",
   "mimetype": "text/x-python",
   "name": "python",
   "nbconvert_exporter": "python",
   "pygments_lexer": "ipython3",
   "version": "3.13.0"
  },
  "pycharm": {
   "stem_cell": {
    "cell_type": "raw",
    "metadata": {
     "collapsed": false
    },
    "source": []
   }
  },
  "vscode": {
   "interpreter": {
    "hash": "fcb35bce15c55b4cacb5112e543368f86c7f98ed17acd45e6841ee83ed1df6e3"
   }
  }
 },
 "nbformat": 4,
 "nbformat_minor": 2
}
