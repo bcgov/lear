{
 "metadata": {
  "language_info": {
   "codemirror_mode": {
    "name": "ipython",
    "version": 3
   },
   "file_extension": ".py",
   "mimetype": "text/x-python",
   "name": "python",
   "nbconvert_exporter": "python",
   "pygments_lexer": "ipython3",
   "version": 3
  },
  "orig_nbformat": 2,
  "kernelspec": {
   "name": "python_defaultSpec_1595630246224",
   "display_name": "Python 3.8.2 64-bit"
  }
 },
 "nbformat": 4,
 "nbformat_minor": 2,
 "cells": [
  {
   "cell_type": "markdown",
   "metadata": {},
   "source": [
    "# Alteration Filing\n",
    "## Follow these steps to complete the alteration filing for a corporation in lear\n",
    "\n",
    "**Note:** Before running these steps this corporation will need to be loaded into lear by using the data_loader located in *lear/lear-db/test_data/data_loader.py*."
   ]
  },
  {
   "cell_type": "markdown",
   "metadata": {},
   "source": [
    "## Setup the environment"
   ]
  },
  {
   "cell_type": "code",
   "execution_count": null,
   "metadata": {},
   "outputs": [],
   "source": [
    "%run ./bcr-business-setup.ipynb"
   ]
  },
  {
   "cell_type": "markdown",
   "metadata": {},
   "source": [
    "## Set the business identifier\n",
    "**eg. BC1234567**"
   ]
  },
  {
   "cell_type": "code",
   "execution_count": null,
   "metadata": {},
   "outputs": [],
   "source": [
    "identifier = 'BC1234567'"
   ]
  },
  {
   "cell_type": "markdown",
   "metadata": {},
   "source": [
    "## Verify business info is correct"
   ]
  },
  {
   "cell_type": "code",
   "execution_count": null,
   "metadata": {},
   "outputs": [],
   "source": [
    "business = legal_api.models.Business.find_by_identifier(identifier)\n",
    "business.id, business.identifier, business.legal_name, business.legal_type"
   ]
  },
  {
   "cell_type": "markdown",
   "metadata": {},
   "source": [
    "## Fill out the filing json for the alteration"
   ]
  },
  {
   "cell_type": "markdown",
   "metadata": {},
   "source": [
    "### Base filing json for alteration"
   ]
  },
  {
   "cell_type": "code",
   "execution_count": null,
   "metadata": {},
   "outputs": [],
   "source": [
    "filing_json = {\n",
    "    'filing': {\n",
    "        'header': {\n",
    "            'name': 'alteration',\n",
    "            'certifiedBy': <name_of_person_filing>,\n",
    "            'date': <yyyy-mm-dd>,  # today\n",
    "            'effectiveDate': <datetime>,  # 1970-01-01T00:00:00+00:00\n",
    "        },\n",
    "        'business': {\n",
    "            'identifier': business.identifier,\n",
    "            'legalName': business.legal_name,\n",
    "            'legalType': business.legal_type\n",
    "        },\n",
    "        'alteration': {\n",
    "            'provisionsRemoved': <bool>\n",
    "            'business': {\n",
    "                'corpType': 'benefitCompany',\n",
    "            }\n",
    "        }\n",
    "    }\n",
    "}"
   ]
  },
  {
   "cell_type": "markdown",
   "metadata": {},
   "source": [
    "### Add on name request if required"
   ]
  },
  {
   "cell_type": "code",
   "execution_count": null,
   "metadata": {},
   "outputs": [],
   "source": [
    "name_request = {\n",
    "    'legalName': <new_name>,\n",
    "    'nrNumber': <nr_number>,\n",
    "    'legalType': 'BC'\n",
    "}\n",
    "# filing_json['filing']['alteration']['nameRequest'] = name_request"
   ]
  },
  {
   "cell_type": "markdown",
   "metadata": {},
   "source": [
    "### Add on name translations if required"
   ]
  },
  {
   "cell_type": "code",
   "execution_count": null,
   "metadata": {},
   "outputs": [],
   "source": [
    "# new_name_translations = [<new_translation1>, <etc>]\n",
    "# modified_translations = [\n",
    "#     {\n",
    "#         'oldValue': <old_translation>,\n",
    "#         'newValue': <new_translation>\n",
    "#     }\n",
    "# ]\n",
    "# ceased_translations = [<existing_translation1>, <etc>]\n",
    "\n",
    "name_translations = {\n",
    "    # 'new': new_name_translations,\n",
    "    # 'modified': modified_translations,\n",
    "    # 'ceased': ceased_translations\n",
    "}\n",
    "\n",
    "# filing_json['filing']['alteration']['nameTranslations'] = name_translations"
   ]
  },
  {
   "cell_type": "markdown",
   "metadata": {},
   "source": [
    "### Add on alter share structure if required\n",
    "\n",
    "#### Make base json"
   ]
  },
  {
   "cell_type": "code",
   "execution_count": null,
   "metadata": {},
   "outputs": [],
   "source": [
    "share_structure = {\n",
    "    'resolutionDates': [<yyyy-mm-dd>, <etc.>],\n",
    "    'shareClasses': []  # keep this empty\n",
    "}"
   ]
  },
  {
   "cell_type": "markdown",
   "metadata": {},
   "source": [
    "#### Create share classes and series json"
   ]
  },
  {
   "cell_type": "code",
   "execution_count": null,
   "metadata": {},
   "outputs": [],
   "source": [
    "new_share_class = {\n",
    "    'name': <class_name>,\n",
    "    'priority': <int>,\n",
    "    'hasMaximumShares': <bool>,\n",
    "    'maxNumberOfShares': <int or null>,\n",
    "    'hasParValue': <bool>,\n",
    "    'parValue': <float>,\n",
    "    'hasRightsOrRestrictions': <bool>,\n",
    "    'currency': <string ('CAD')>,\n",
    "    'series': []  # keep this empty\n",
    "}"
   ]
  },
  {
   "cell_type": "markdown",
   "metadata": {},
   "source": [
    "*repeat below for each series in the above class*"
   ]
  },
  {
   "cell_type": "code",
   "execution_count": null,
   "metadata": {},
   "outputs": [],
   "source": [
    "new_share_series = {\n",
    "    'name': <class_name>,\n",
    "    'priority': <int>,\n",
    "    'hasMaximumShares': <bool>,\n",
    "    'maxNumberOfShares': <int or null>,\n",
    "    'hasRightsOrRestrictions': <bool>\n",
    "}\n",
    "new_share_class['series'].append(new_share_series)"
   ]
  },
  {
   "cell_type": "markdown",
   "metadata": {},
   "source": [
    "*do not execute until all needed series were added to the new class*"
   ]
  },
  {
   "cell_type": "code",
   "execution_count": null,
   "metadata": {},
   "outputs": [],
   "source": [
    "share_structure['shareClasses'].append(new_share_class)"
   ]
  },
  {
   "cell_type": "markdown",
   "metadata": {},
   "source": [
    "*only execute after all classes were added (repeat above steps as necessary)* "
   ]
  },
  {
   "cell_type": "code",
   "execution_count": null,
   "metadata": {},
   "outputs": [],
   "source": [
    "# filing_json['filing']['alteration']['shareStructure'] = share_structure"
   ]
  },
  {
   "cell_type": "markdown",
   "metadata": {},
   "source": [
    "## Create the alteration filing"
   ]
  },
  {
   "cell_type": "code",
   "execution_count": null,
   "metadata": {},
   "outputs": [],
   "source": [
    "alteration = Filing()\n",
    "alteration.filing_date = datetime.datetime.utcnow()\n",
    "alteration.effective_date = datetime.datetime.fromisoformat(filing.filing_json['filing']['header']['effectiveDate'])\n",
    "alteration.filing_json = filing_json\n",
    "alteration.business_id = business.id\n",
    "# alteration.submitter_id = \n",
    "# alteration.payment_status_code =\n",
    "# alteration.payment_token =\n",
    "# alteration.payment_completion_date =\n",
    "alteration.save()"
   ]
  },
  {
   "cell_type": "markdown",
   "metadata": {},
   "source": [
    "## Verify filing info saved correctly\n"
   ]
  },
  {
   "cell_type": "code",
   "execution_count": null,
   "metadata": {},
   "outputs": [],
   "source": [
    "alteration.filing_date, alteration.effective_date, alteration.business_id, alteration.id, alteration.filing_json"
   ]
  },
  {
   "cell_type": "markdown",
   "metadata": {},
   "source": [
    "## Enter *./q_cli -f <alteration.id>* into the entity-filer terminal to process the filing"
   ]
  },
  {
   "cell_type": "code",
   "execution_count": null,
   "metadata": {},
   "outputs": [],
   "source": [
    "alteration.id"
   ]
  }
 ]
}