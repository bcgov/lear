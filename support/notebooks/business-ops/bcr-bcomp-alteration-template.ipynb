{
 "cells": [
  {
   "cell_type": "markdown",
   "metadata": {},
   "source": [
    "# Alteration Filing\n",
    "## Follow these steps to complete the alteration filing for a corporation in lear\n",
    "\n",
    "**Note:** Before running these steps this corporation will need to be loaded into lear by using the data_loader located in *lear/lear-db/test_data/data_loader.py*."
   ]
  },
  {
   "cell_type": "markdown",
   "metadata": {},
   "source": [
    "## Setup the environment"
   ]
  },
  {
   "cell_type": "code",
   "execution_count": null,
   "metadata": {
    "tags": []
   },
   "outputs": [],
   "source": [
    "%run ./bcr-business-setup.ipynb"
   ]
  },
  {
   "cell_type": "markdown",
   "metadata": {},
   "source": [
    "## Set the business identifier\n",
    "**eg. BC1234567**"
   ]
  },
  {
   "cell_type": "code",
   "execution_count": null,
   "metadata": {},
   "outputs": [],
   "source": [
    "identifier = '<identifier>'"
   ]
  },
  {
   "cell_type": "markdown",
   "metadata": {},
   "source": [
    "## Verify business info is correct"
   ]
  },
  {
   "cell_type": "code",
   "execution_count": null,
   "metadata": {},
   "outputs": [],
   "source": [
    "business = legal_api.models.Business.find_by_identifier(identifier)\n",
    "business.id, business.identifier, business.legal_name, business.legal_type"
   ]
  },
  {
   "cell_type": "markdown",
   "metadata": {},
   "source": [
    "## Affiliate business to business account"
   ]
  },
  {
   "cell_type": "markdown",
   "metadata": {},
   "source": [
    "### Authenticate"
   ]
  },
  {
   "cell_type": "code",
   "execution_count": null,
   "metadata": {},
   "outputs": [],
   "source": [
    "token = AccountService.get_bearer_token()"
   ]
  },
  {
   "cell_type": "markdown",
   "metadata": {},
   "source": [
    "### Get account number"
   ]
  },
  {
   "cell_type": "code",
   "execution_count": null,
   "metadata": {},
   "outputs": [],
   "source": [
    "# uncomment for account name or account id\n",
    "\n",
    "# bcol_account_id=<int>\n",
    "# url = f'orgs?bcolAccountId={bcol_account_id}'\n",
    "\n",
    "# account_name='<name>'\n",
    "# url = f'orgs?name={account_name.replace(\" \", \"%20\")}'\n",
    "\n",
    "account_call = requests.get(\n",
    "    f'{os.getenv(\"AUTH_URL\")}/{url}',\n",
    "    headers={'Content-Type': 'application/json', 'Authorization': f'Bearer {token}'}\n",
    ")\n",
    "account_call.status_code, account_call.json()\n"
   ]
  },
  {
   "cell_type": "code",
   "execution_count": null,
   "metadata": {},
   "outputs": [],
   "source": [
    "# double check that ['orgs'][0]['id'] is the right id -> may need to change this\n",
    "account_number = account_call.json()['orgs'][0]['id']\n",
    "account_number"
   ]
  },
  {
   "cell_type": "markdown",
   "metadata": {},
   "source": [
    "### Affiliate using the account number"
   ]
  },
  {
   "cell_type": "code",
   "execution_count": null,
   "metadata": {},
   "outputs": [],
   "source": [
    "\n",
    "affiliation = AccountService.create_affiliation(\n",
    "    account=account_number,\n",
    "    business_registration=business.identifier,\n",
    "    business_name=business.legal_name,\n",
    "    corp_type_code=Business.LegalTypes.BCOMP.value\n",
    ")\n",
    "affiliation"
   ]
  },
  {
   "cell_type": "markdown",
   "metadata": {},
   "source": [
    "## Fill out the filing json for the alteration\n",
    "*note: uncomment code as needed*"
   ]
  },
  {
   "cell_type": "markdown",
   "metadata": {},
   "source": [
    "### Base filing json for alteration"
   ]
  },
  {
   "cell_type": "code",
   "execution_count": null,
   "metadata": {},
   "outputs": [],
   "source": [
    "filing_json = {\n",
    "    'filing': {\n",
    "        'header': {\n",
    "            'name': 'alteration',\n",
    "            'certifiedBy': '<name_of_person_filing>',\n",
    "            'date': '<yyyy-mm-dd>',  # today\n",
    "            'effectiveDate': '<datetime>',  # 1970-01-01T00:00:00+00:00\n",
    "\n",
    "            # 'bcolAccountNumber': '<string>',          # optional - depends on payment\n",
    "            # 'datNumber': '<string>',                  # optional - depends on payment\n",
    "            # 'routingSlipNumber': '<string>',          # optional - depends on payment\n",
    "            # 'folioNumber': '<string>'                 # optional\n",
    "        },\n",
    "        'business': {\n",
    "            'identifier': business.identifier,\n",
    "            'legalName': business.legal_name,\n",
    "            'legalType': business.legal_type\n",
    "        },\n",
    "        'alteration': {\n",
    "            'provisionsRemoved': <bool>,\n",
    "            'business': {\n",
    "                'identifier': business.identifier,\n",
    "                # need to uncomment one of below\n",
    "                # 'legalType': Business.LegalTypes.BCOMP.value\n",
    "                # 'legalType': Business.LegalTypes.COMP.value\n",
    "            },\n",
    "            'contactPoint': {\n",
    "                'email': '<string>',\n",
    "                # 'phone': '<string>'  # optional\n",
    "            }\n",
    "        }\n",
    "    }\n",
    "}\n",
    "filing_json"
   ]
  },
  {
   "cell_type": "markdown",
   "metadata": {},
   "source": [
    "### Add on name request if required"
   ]
  },
  {
   "cell_type": "markdown",
   "metadata": {},
   "source": [
    "#### Get nr info"
   ]
  },
  {
   "cell_type": "code",
   "execution_count": null,
   "metadata": {},
   "outputs": [],
   "source": [
    "nr = NameXService.query_nr_number('<nr_num_string>')  # NR 1234567\n",
    "nr.status_code, nr.json()"
   ]
  },
  {
   "cell_type": "markdown",
   "metadata": {},
   "source": [
    "#### Fill in nr info"
   ]
  },
  {
   "cell_type": "code",
   "execution_count": null,
   "metadata": {},
   "outputs": [],
   "source": [
    "name_request = {\n",
    "    'legalName': '<new_name>',\n",
    "    'nrNumber': '<nr_number>',\n",
    "    'legalType': Business.LegalTypes.BCOMP.value\n",
    "}\n",
    "# filing_json['filing']['alteration']['nameRequest'] = name_request\n",
    "filing_json"
   ]
  },
  {
   "cell_type": "markdown",
   "metadata": {},
   "source": [
    "### Add on name translations if required"
   ]
  },
  {
   "cell_type": "code",
   "execution_count": null,
   "metadata": {},
   "outputs": [],
   "source": [
    "# new_name_translations = [<new_translation1>, <etc>]\n",
    "# modified_translations = [\n",
    "#     {\n",
    "#         'oldValue': <old_translation>,\n",
    "#         'newValue': <new_translation>\n",
    "#     }\n",
    "# ]\n",
    "# ceased_translations = [<existing_translation1>, <etc>]\n",
    "\n",
    "name_translations = {\n",
    "    # 'new': new_name_translations,\n",
    "    # 'modified': modified_translations,\n",
    "    # 'ceased': ceased_translations\n",
    "}\n",
    "\n",
    "# filing_json['filing']['alteration']['nameTranslations'] = name_translations\n",
    "filing_json"
   ]
  },
  {
   "cell_type": "markdown",
   "metadata": {},
   "source": [
    "### Add on alter share structure if required\n",
    "\n",
    "#### Make base json"
   ]
  },
  {
   "cell_type": "code",
   "execution_count": null,
   "metadata": {},
   "outputs": [],
   "source": [
    "share_structure = {\n",
    "    'resolutionDates': ['<yyyy-mm-dd>', <etc.>],\n",
    "    'shareClasses': []  # keep this empty\n",
    "}"
   ]
  },
  {
   "cell_type": "markdown",
   "metadata": {},
   "source": [
    "#### Create share classes and series json"
   ]
  },
  {
   "cell_type": "code",
   "execution_count": null,
   "metadata": {},
   "outputs": [],
   "source": [
    "new_share_class = {\n",
    "    'name': '<class_name>',\n",
    "    'priority': <int>,\n",
    "    'hasMaximumShares': <bool>,\n",
    "    'maxNumberOfShares': <int or null>,\n",
    "    'hasParValue': <bool>,\n",
    "    'parValue': <float>,\n",
    "    'hasRightsOrRestrictions': <bool>,\n",
    "    'currency': '<string (CAD)>',\n",
    "    'series': []  # keep this empty\n",
    "}"
   ]
  },
  {
   "cell_type": "markdown",
   "metadata": {},
   "source": [
    "*repeat below for each series in the above class*"
   ]
  },
  {
   "cell_type": "code",
   "execution_count": null,
   "metadata": {},
   "outputs": [],
   "source": [
    "new_share_series = {\n",
    "    'name': <class_name>,\n",
    "    'priority': <int>,\n",
    "    'hasMaximumShares': <bool>,\n",
    "    'maxNumberOfShares': <int or null>,\n",
    "    'hasRightsOrRestrictions': <bool>\n",
    "}\n",
    "new_share_class['series'].append(new_share_series)"
   ]
  },
  {
   "cell_type": "markdown",
   "metadata": {},
   "source": [
    "*do not execute until all needed series were added to the new class*"
   ]
  },
  {
   "cell_type": "code",
   "execution_count": null,
   "metadata": {},
   "outputs": [],
   "source": [
    "share_structure['shareClasses'].append(new_share_class)"
   ]
  },
  {
   "cell_type": "markdown",
   "metadata": {},
   "source": [
    "*only execute after all classes were added (repeat above steps as necessary)* "
   ]
  },
  {
   "cell_type": "code",
   "execution_count": null,
   "metadata": {},
   "outputs": [],
   "source": [
    "# filing_json['filing']['alteration']['shareStructure'] = share_structure\n",
    "filing_json"
   ]
  },
  {
   "cell_type": "markdown",
   "metadata": {},
   "source": [
    "## Save the alteration filing to lear"
   ]
  },
  {
   "cell_type": "markdown",
   "metadata": {},
   "source": [
    "### Post to legal_api"
   ]
  },
  {
   "cell_type": "code",
   "execution_count": null,
   "metadata": {},
   "outputs": [],
   "source": [
    "r = requests.post(\n",
    "    f'{os.getenv(\"LEGAL_URL\")}/{business.identifier}/filings',\n",
    "    json=filing_json,\n",
    "    headers={'Content-Type': 'application/json', 'Authorization': f'Bearer {token}'}\n",
    ")"
   ]
  },
  {
   "cell_type": "markdown",
   "metadata": {},
   "source": [
    "## Verify filing was successful"
   ]
  },
  {
   "cell_type": "code",
   "execution_count": null,
   "metadata": {},
   "outputs": [],
   "source": [
    "r.status_code, r.json()"
   ]
  },
  {
   "cell_type": "code",
   "execution_count": null,
   "metadata": {},
   "outputs": [],
   "source": [
    "alteration = Filing.get_filings_by_type(business.id, 'alteration')\n",
    "alteration.filing_date, alteration.effective_date, alteration.business_id, alteration.id, alteration.status, alteration.source, alteration.filing_json"
   ]
  }
 ],
 "metadata": {
  "kernelspec": {
   "display_name": "Python 3.8.2 64-bit",
   "language": "python",
   "name": "python38264bit13fc019d3793417290c78907530d4746"
  },
  "language_info": {
   "codemirror_mode": {
    "name": "ipython",
    "version": 3
   },
   "file_extension": ".py",
   "mimetype": "text/x-python",
   "name": "python",
   "nbconvert_exporter": "python",
   "pygments_lexer": "ipython3",
   "version": "3.8.2-final"
  }
 },
 "nbformat": 4,
 "nbformat_minor": 2
}