{
 "cells": [
  {
   "cell_type": "markdown",
   "metadata": {},
   "source": [
    "# Entity-<issue #>: \n",
    "## LEAR: <registration number, eg CP0000001>\n",
    "## - task description\n",
    "\n",
    "**Note:** The historical change/correction filings are not in production yet, so this will need to be done via direct changes to the services DB."
   ]
  },
  {
   "cell_type": "markdown",
   "metadata": {},
   "source": [
    "## setup the environment"
   ]
  },
  {
   "cell_type": "code",
   "execution_count": null,
   "metadata": {},
   "outputs": [],
   "source": [
    "%run ./bcr-business-setup.ipynb"
   ]
  },
  {
   "cell_type": "markdown",
   "metadata": {},
   "source": [
    "## set the registration number of the business eg. CP0001234\n",
    "vv-- set the registration number here"
   ]
  },
  {
   "cell_type": "code",
   "execution_count": null,
   "metadata": {},
   "outputs": [],
   "source": [
    "registration_number = 'CP0001790'"
   ]
  },
  {
   "cell_type": "markdown",
   "metadata": {},
   "source": [
    "## lookup the business and ensure it is the one you want to change"
   ]
  },
  {
   "cell_type": "code",
   "execution_count": null,
   "metadata": {},
   "outputs": [],
   "source": [
    "business = legal_api.models.Business.find_by_identifier(registration_number)\n",
    "business.id, business.identifier, business.legal_name"
   ]
  },
  {
   "cell_type": "markdown",
   "metadata": {},
   "source": [
    "## lookup the correction filing\n",
    "the filing contents will be echo'ed below for reference"
   ]
  },
  {
   "cell_type": "code",
   "execution_count": null,
   "metadata": {
    "scrolled": true
   },
   "outputs": [],
   "source": [
    "filing = get_latest_correction_filing(business.id)\n",
    "filing.id, filing.status, filing.paper_only, filing.transaction_id, filing.filing_json"
   ]
  },
  {
   "cell_type": "markdown",
   "metadata": {},
   "source": [
    "### the following checks if the filing has already been processed.\n",
    "**if it has been processed already, then either of the following 2 calls will fail and processing will stop _IFF_ this is being run by papermill**\n",
    "\n",
    "if this is being run from a job environment, it'll stop if the following checks are valid"
   ]
  },
  {
   "cell_type": "code",
   "execution_count": null,
   "metadata": {},
   "outputs": [],
   "source": [
    "stop_on_true(filing.status=='COMPLETED', \"Can't process a completed filing.\")\n",
    "# stop_on_true(filing.transaction_id is not None, \"Can't process a filing already associated with a transaction.\")\n",
    "stop_on_false(filing.status=='PENDING_CORRECTION', \"Can't process a filing that is not is the PENDING_CORRECTION state.\")"
   ]
  },
  {
   "cell_type": "markdown",
   "metadata": {},
   "source": [
    "## Model - for reference\n",
    "run this cell if you want to see an image of the domain model\n",
    "![model](img/legal.png)"
   ]
  },
  {
   "cell_type": "raw",
   "metadata": {},
   "source": [
    "import pycountry\n",
    "from legal_api import db\n",
    "from legal_api.models import Address, Business, Director, Filing, Office\n",
    "from sqlalchemy_continuum import versioning_manager"
   ]
  },
  {
   "cell_type": "code",
   "execution_count": null,
   "metadata": {},
   "outputs": [],
   "source": [
    "import pycountry\n",
    "from legal_api import db\n",
    "from legal_api.models import Address, Business, Filing, Office, Party, PartyRole\n",
    "from sqlalchemy_continuum import versioning_manager\n"
   ]
  },
  {
   "cell_type": "code",
   "execution_count": null,
   "metadata": {},
   "outputs": [],
   "source": [
    "uow = versioning_manager.unit_of_work(db.session)\n",
    "transaction = uow.create_transaction(db.session)"
   ]
  },
  {
   "cell_type": "markdown",
   "metadata": {},
   "source": [
    "## Change core busines details\n",
    "uncomment and set any of the values"
   ]
  },
  {
   "cell_type": "code",
   "execution_count": null,
   "metadata": {},
   "outputs": [],
   "source": [
    "# business.last_agm_date =\n",
    "# business.last_ar_date = \n",
    "# business.legal_name = \n",
    "# business.legal_type =\n",
    "# business.founding_date \n",
    "# business.dissolution_date =\n",
    "# business.identifier = \n",
    "# business.tax_id = \n",
    "# business.fiscal_year_end_date = "
   ]
  },
  {
   "cell_type": "markdown",
   "metadata": {},
   "source": [
    "# Fix addresses"
   ]
  },
  {
   "cell_type": "markdown",
   "metadata": {},
   "source": [
    "### find all of the addresses\n",
    "\n",
    "Office types are in <span style=\"color: #0000ff\">BLUE</span> ;\n",
    "Address proporties are in <span style=\"color: #ff0000\">RED</span> "
   ]
  },
  {
   "cell_type": "code",
   "execution_count": null,
   "metadata": {},
   "outputs": [],
   "source": [
    "offices = business.offices.all()\n",
    "for office in offices:\n",
    "    print(f\"\\x1b[34m{office.office_type}\\x1b[0m\")\n",
    "    addresses = office.addresses.all()\n",
    "    for address in addresses:\n",
    "        print (f\"\\x1b[31mAddress.id=\\x1b[0m{address.id}, \\x1b[31mtype=\\x1b[0m{address.address_type},\\n\\x1b[31mjson=\\x1b[0m{address.json}\")"
   ]
  },
  {
   "cell_type": "markdown",
   "metadata": {},
   "source": [
    "### find the address to fix"
   ]
  },
  {
   "cell_type": "code",
   "execution_count": null,
   "metadata": {},
   "outputs": [],
   "source": [
    "office = business.offices.filter_by(office_type='registeredOffice').one_or_none()\n",
    "address_to_fix = office.addresses.filter_by(id=2007).one_or_none()\n",
    "address_to_fix.json"
   ]
  },
  {
   "cell_type": "markdown",
   "metadata": {},
   "source": [
    "### change the address info"
   ]
  },
  {
   "cell_type": "code",
   "execution_count": null,
   "metadata": {},
   "outputs": [],
   "source": [
    "# address_to_fix.street = 'streetAddress'\n",
    "# address_to_fix.street_additional = 'streetAddressAdditional'\n",
    "# address_to_fix.city = 'addressCity'\n",
    "# address_to_fix.region = 'addressRegion'\n",
    "# address_to_fix.country = pycountry.countries.search_fuzzy('CA')[0].alpha_2\n",
    "# address_to_fix.postal_code = 'postalCode'\n",
    "# address_to_fix.delivery_instructions = 'deliveryInstructions'"
   ]
  },
  {
   "cell_type": "markdown",
   "metadata": {},
   "source": [
    "# Directors"
   ]
  },
  {
   "cell_type": "markdown",
   "metadata": {},
   "source": [
    "## fix exisiting director"
   ]
  },
  {
   "cell_type": "code",
   "execution_count": null,
   "metadata": {},
   "outputs": [],
   "source": [
    "for director in legal_api.models.PartyRole.get_parties_by_role(business.id, 'director'):\n",
    "    print (f\"\\x1b[31mDirector.id=\\x1b[0m{director.id}, \\x1b[31mName=\\x1b[0m{director.party.first_name} {director.party.last_name}\\n\\x1b[31mjson=\\x1b[0m{director.json}\")"
   ]
  },
  {
   "cell_type": "code",
   "execution_count": null,
   "metadata": {},
   "outputs": [],
   "source": [
    "director_to_fix = business.party_roles.filter_by(id=1520).one_or_none()\n",
    "director_delivery_address = director_to_fix.party.delivery_address\n",
    "director_mailing_address = director_to_fix.party.mailing_address\n",
    "director_to_fix.json"
   ]
  },
  {
   "cell_type": "code",
   "execution_count": null,
   "metadata": {},
   "outputs": [],
   "source": [
    "# director_to_fix.party.first_name = \n",
    "# director_to_fix.party.middle_initial = \n",
    "# director_to_fix.party.last_name = \n",
    "# director_to_fix.party.title = \n",
    "# director_to_fix.appointment_date = \n",
    "# director_to_fix.cessation_date =\n",
    "# director_delivery_address = "
   ]
  },
  {
   "cell_type": "code",
   "execution_count": null,
   "metadata": {},
   "outputs": [],
   "source": [
    "# director_delivery_address.address_type = 'delivery'\n",
    "# director_delivery_address.street = \n",
    "# director_delivery_address.street_additional = \n",
    "# director_delivery_address.city = \n",
    "# director_delivery_address.region = \n",
    "# director_delivery_address.country = pycountry.countries.search_fuzzy('CA')[0].alpha_2\n",
    "# director_delivery_address.postal_code = \n",
    "# director_delivery_address.delivery_instructions = "
   ]
  },
  {
   "cell_type": "code",
   "execution_count": null,
   "metadata": {},
   "outputs": [],
   "source": [
    "# director_mailing_address.address_type = 'delivery'\n",
    "# director_mailing_address.street = \n",
    "# director_mailing_address.street_additional = \n",
    "# director_mailing_address.city = \n",
    "# director_mailing_address.region = \n",
    "# director_mailing_address.country = pycountry.countries.search_fuzzy('CA')[0].alpha_2\n",
    "# director_mailing_address.postal_code = \n",
    "# director_mailing_address.delivery_instructions = "
   ]
  },
  {
   "cell_type": "markdown",
   "metadata": {},
   "source": [
    "## add new director"
   ]
  },
  {
   "cell_type": "code",
   "execution_count": null,
   "metadata": {},
   "outputs": [],
   "source": [
    "# new_party = Party(\n",
    "#     first_name='firstname'.upper(),\n",
    "#     middle_initial=None,\n",
    "#     last_name='lastname'.upper(),\n",
    "#     title=None\n",
    "# )\n",
    "# new_party_role = PartyRole(\n",
    "#     role=PartyRole.RoleTypes.DIRECTOR.value,\n",
    "#     appointment_date=datetime.date.fromisoformat('2018-12-31'),\n",
    "#     cessation_date=None,\n",
    "#     party=new_party\n",
    "# )\n",
    "# business.party_roles.append(new_party_role)"
   ]
  },
  {
   "cell_type": "code",
   "execution_count": null,
   "metadata": {},
   "outputs": [],
   "source": [
    "# delivery_address = Address(\n",
    "#     street='street'.upper(),\n",
    "#     street_additional=None,\n",
    "#     city='city'.upper(),\n",
    "#     region='BC',\n",
    "#     country=pycountry.countries.search_fuzzy('CA')[0].alpha_2,\n",
    "#     postal_code='postal',\n",
    "#     delivery_instructions=None,\n",
    "#     address_type=Address.DELIVERY\n",
    "# )"
   ]
  },
  {
   "cell_type": "code",
   "execution_count": null,
   "metadata": {},
   "outputs": [],
   "source": [
    "# mailing_address = Address(\n",
    "#     street='street'.upper(),\n",
    "#     street_additional=None,\n",
    "#     city='city'.upper(),\n",
    "#     region='BC',\n",
    "#     country=pycountry.countries.search_fuzzy('CA')[0].alpha_2,\n",
    "#     postal_code='postal',\n",
    "#     delivery_instructions=None,\n",
    "#     address_type=Address.MAILING\n",
    "# )"
   ]
  },
  {
   "cell_type": "code",
   "execution_count": null,
   "metadata": {},
   "outputs": [],
   "source": [
    "# new_party_role.party.delivery_address = delivery_address\n",
    "# new_party_role.party.mailing_address = mailing_address"
   ]
  },
  {
   "cell_type": "markdown",
   "metadata": {},
   "source": [
    "# Save the changes to the database"
   ]
  },
  {
   "cell_type": "code",
   "execution_count": null,
   "metadata": {},
   "outputs": [],
   "source": [
    "filing.transaction_id = transaction.id\n",
    "filing.set_processed()\n",
    "\n",
    "db.session.add(business)\n",
    "db.session.add(filing)\n",
    "db.session.commit()"
   ]
  },
  {
   "cell_type": "markdown",
   "metadata": {},
   "source": [
    "### save a copy of this book as markdown"
   ]
  },
  {
   "cell_type": "code",
   "execution_count": null,
   "metadata": {},
   "outputs": [],
   "source": [
    "%%javascript\n",
    "IPython.notebook.kernel.execute('nb_name = \"' + IPython.notebook.notebook_name + '\"')"
   ]
  },
  {
   "cell_type": "code",
   "execution_count": null,
   "metadata": {},
   "outputs": [],
   "source": [
    "md_name = nb_name[:-6]+'.md'"
   ]
  },
  {
   "cell_type": "code",
   "execution_count": null,
   "metadata": {},
   "outputs": [],
   "source": [
    "%%bash -s \"$nb_name\" \"$md_name\"\n",
    "jupyter nbconvert $1 --to markdown --output $2\n"
   ]
  },
  {
   "cell_type": "code",
   "execution_count": null,
   "metadata": {},
   "outputs": [],
   "source": []
  }
 ],
 "metadata": {
  "kernelspec": {
   "display_name": "Python 3",
   "language": "python",
   "name": "python3"
  },
  "language_info": {
   "codemirror_mode": {
    "name": "ipython",
    "version": 3
   },
   "file_extension": ".py",
   "mimetype": "text/x-python",
   "name": "python",
   "nbconvert_exporter": "python",
   "pygments_lexer": "ipython3",
   "version": "3.8.1"
  }
 },
 "nbformat": 4,
 "nbformat_minor": 4
}