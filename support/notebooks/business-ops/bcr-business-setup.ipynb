{
 "cells": [
  {
   "cell_type": "code",
   "execution_count": null,
   "metadata": {},
   "outputs": [],
   "source": [
    "%%capture\n",
    "%env DATABASE_USERNAME=thor\n",
    "%env DATABASE_PASSWORD=\n",
    "%env DATABASE_NAME=legal\n",
    "%env DATABASE_HOST=docker.for.mac.localhost\n",
    "%env DATABASE_PORT=5432\n",
    "%env SECRET_KEY=ops"
   ]
  },
  {
   "cell_type": "code",
   "execution_count": null,
   "metadata": {},
   "outputs": [],
   "source": [
    "import os\n",
    "import flask\n",
    "import sqlalchemy\n",
    "import psycopg2\n",
    "import simplejson\n",
    "import pandas as pd\n",
    "import matplotlib\n",
    "import legal_api\n",
    "from IPython.core.display import HTML\n",
    "%load_ext sql\n",
    "%config SqlMagic.displaylimit = 5\n",
    "%config Application.log_level=\"ERROR\""
   ]
  },
  {
   "cell_type": "code",
   "execution_count": null,
   "metadata": {},
   "outputs": [],
   "source": [
    "import flask\n",
    "APP_CONFIG = legal_api.config.get_named_config(os.getenv('DEPLOYMENT_ENV', 'production'))\n",
    "FLASK_APP = flask.Flask(__name__)\n",
    "FLASK_APP.config.from_object(APP_CONFIG)\n",
    "legal_api.db.init_app(FLASK_APP)\n",
    "FLASK_APP.app_context().push()"
   ]
  },
  {
   "cell_type": "code",
   "execution_count": null,
   "metadata": {},
   "outputs": [],
   "source": [
    "def stop_on_false(test: bool, test_name: str):\n",
    "    # this will bail out of the execution if called by papermill\n",
    "    #     failure_condition=True\n",
    "    #     assert not test, test_name\n",
    "    assert test, test_name"
   ]
  },
  {
   "cell_type": "code",
   "execution_count": null,
   "metadata": {},
   "outputs": [],
   "source": [
    "def stop_on_true(test: bool, test_name: str):\n",
    "    # this will bail out of the execution if called by papermill\n",
    "    #     failure_condition=True\n",
    "    assert not test, test_name\n"
   ]
  }
 ],
 "metadata": {
  "kernelspec": {
   "display_name": "Python 3",
   "language": "python",
   "name": "python3"
  },
  "language_info": {
   "codemirror_mode": {
    "name": "ipython",
    "version": 3
   },
   "file_extension": ".py",
   "mimetype": "text/x-python",
   "name": "python",
   "nbconvert_exporter": "python",
   "pygments_lexer": "ipython3",
   "version": "3.8.1"
  }
 },
 "nbformat": 4,
 "nbformat_minor": 4
}
