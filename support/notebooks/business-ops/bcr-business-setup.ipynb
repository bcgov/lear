{
 "cells": [
  {
   "cell_type": "code",
   "execution_count": null,
   "metadata": {},
   "outputs": [],
   "source": [
    "# %%capture\n",
    "# %env DATABASE_USERNAME=thor\n",
    "# %env DATABASE_PASSWORD=\n",
    "# %env DATABASE_NAME=legal\n",
    "# %env DATABASE_HOST=docker.for.mac.localhost\n",
    "# %env DATABASE_PORT=5432\n",
    "# %env SECRET_KEY=ops"
   ]
  },
  {
   "cell_type": "code",
   "execution_count": null,
   "metadata": {},
   "outputs": [],
   "source": [
    "%%capture\n",
    "%env DATABASE_USERNAME=postgres\n",
    "%env DATABASE_PASSWORD=\n",
    "%env DATABASE_NAME=lear\n",
    "%env DATABASE_HOST=docker.for.mac.localhost\n",
    "%env DATABASE_PORT=54321\n",
    "%env SECRET_KEY=ops"
   ]
  },
  {
   "cell_type": "code",
   "execution_count": null,
   "metadata": {},
   "outputs": [],
   "source": [
    "import datetime\n",
    "import os\n",
    "import flask\n",
    "import sqlalchemy\n",
    "import psycopg2\n",
    "import simplejson\n",
    "import pandas as pd\n",
    "import matplotlib\n",
    "import legal_api\n",
    "from IPython.core.display import HTML\n",
    "%load_ext sql\n",
    "%config SqlMagic.displaylimit = 5\n",
    "%config Application.log_level=\"ERROR\""
   ]
  },
  {
   "cell_type": "code",
   "execution_count": null,
   "metadata": {},
   "outputs": [],
   "source": [
    "import flask\n",
    "APP_CONFIG = legal_api.config.get_named_config(os.getenv('DEPLOYMENT_ENV', 'production'))\n",
    "FLASK_APP = flask.Flask(__name__)\n",
    "FLASK_APP.config.from_object(APP_CONFIG)\n",
    "legal_api.db.init_app(FLASK_APP)\n",
    "FLASK_APP.app_context().push()"
   ]
  },
  {
   "cell_type": "code",
   "execution_count": null,
   "metadata": {},
   "outputs": [],
   "source": [
    "def stop_on_false(test: bool, test_name: str):\n",
    "    # this will bail out of the execution if called by papermill\n",
    "    #     failure_condition=True\n",
    "    #     assert not test, test_name\n",
    "    assert test, test_name"
   ]
  },
  {
   "cell_type": "code",
   "execution_count": 1,
   "metadata": {},
   "outputs": [],
   "source": [
    "def stop_on_true(test: bool, test_name: str):\n",
    "    # this will bail out of the execution if called by papermill\n",
    "    #     failure_condition=True\n",
    "    assert not test, test_name"
   ]
  },
  {
   "cell_type": "code",
   "execution_count": 4,
   "metadata": {},
   "outputs": [
    {
     "name": "stderr",
     "output_type": "stream",
     "text": [
      "Unable to configure logging, attempted conf:/usr/local/lib/python3.8/site-packages/legal_api/logging.conf\n"
     ]
    }
   ],
   "source": [
    "from legal_api.models import Filing, db\n",
    "from sqlalchemy import or_\n",
    "def get_latest_correction_filing(business_id: str) -> Filing:\n",
    "  filing_type='correction'\n",
    "  expr = Filing._filing_json[('filing', filing_type)]\n",
    "  max_filing = db.session.query(db.func.max(Filing._filing_date).label('last_filing_date')).\\\n",
    "            filter(Filing.business_id == business_id).\\\n",
    "            filter(or_(Filing._filing_type == filing_type,\n",
    "                       expr.label('legal_filing_type').isnot(None))).\\\n",
    "            subquery()\n",
    "  filings = Filing.query.join(max_filing, Filing._filing_date == max_filing.c.last_filing_date). \\\n",
    "            filter(Filing.business_id == business_id). \\\n",
    "            order_by(Filing.id.desc())\n",
    "\n",
    "  return filings.first()"
   ]
  },
  {
   "cell_type": "code",
   "execution_count": null,
   "metadata": {},
   "outputs": [],
   "source": []
  }
 ],
 "metadata": {
  "kernelspec": {
   "display_name": "Python 3",
   "language": "python",
   "name": "python3"
  },
  "language_info": {
   "codemirror_mode": {
    "name": "ipython",
    "version": 3
   },
   "file_extension": ".py",
   "mimetype": "text/x-python",
   "name": "python",
   "nbconvert_exporter": "python",
   "pygments_lexer": "ipython3",
   "version": "3.8.1"
  }
 },
 "nbformat": 4,
 "nbformat_minor": 4
}
