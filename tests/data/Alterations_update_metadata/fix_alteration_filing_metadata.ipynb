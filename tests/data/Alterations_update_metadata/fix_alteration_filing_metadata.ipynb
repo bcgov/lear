{
 "cells": [
  {
   "cell_type": "markdown",
   "id": "baa5eb38",
   "metadata": {},
   "source": [
    "# Fix Alteration Filing Metadata"
   ]
  },
  {
   "cell_type": "markdown",
   "id": "b138ce53",
   "metadata": {},
   "source": [
    "### Environment Set up"
   ]
  },
  {
   "cell_type": "code",
   "execution_count": 1,
   "id": "c285e953",
   "metadata": {
    "scrolled": true
   },
   "outputs": [
    {
     "name": "stderr",
     "output_type": "stream",
     "text": [
      "/opt/conda/lib/python3.9/site-packages/jose/backends/cryptography_backend.py:18: CryptographyDeprecationWarning: int_from_bytes is deprecated, use int.from_bytes instead\n",
      "  from cryptography.utils import int_from_bytes, int_to_bytes\n",
      "Unable to configure logging, attempted conf:/opt/conda/lib/python3.9/site-packages/legal_api/logging.conf\n"
     ]
    }
   ],
   "source": [
    "%run /workspaces/lear/tests/data/default-bcr-business-setup-TEST.ipynb"
   ]
  },
  {
   "cell_type": "code",
   "execution_count": 2,
   "id": "798ff592",
   "metadata": {},
   "outputs": [],
   "source": [
    "import dpath\n",
    "import json\n",
    "from contextlib import suppress\n",
    "from legal_api import db \n",
    "from legal_api.models import Filing\n",
    "from sqlalchemy import desc\n",
    "from sqlalchemy.orm.attributes import flag_modified"
   ]
  },
  {
   "cell_type": "markdown",
   "id": "a2b32d12",
   "metadata": {},
   "source": [
    "### Get Completed Filings by type"
   ]
  },
  {
   "cell_type": "code",
   "execution_count": 12,
   "id": "8d24941c",
   "metadata": {},
   "outputs": [],
   "source": [
    "def get_completed_filings_by_type(filing_type: str):\n",
    "    \"\"\"Return the filings of a particular type.\"\"\"\n",
    "    filings = db.session.query(Filing). \\\n",
    "        filter(Filing._filing_type == filing_type). \\\n",
    "        filter(Filing._status == Filing.Status.COMPLETED). \\\n",
    "        order_by(desc(Filing.filing_date)). \\\n",
    "        all()\n",
    "    return filings"
   ]
  },
  {
   "cell_type": "markdown",
   "id": "a4489b4d",
   "metadata": {},
   "source": [
    "### Update Alteration Filing Metadata"
   ]
  },
  {
   "cell_type": "code",
   "execution_count": 10,
   "id": "817f1003",
   "metadata": {},
   "outputs": [],
   "source": [
    "def update_alteration_metadata():     \n",
    "    completed_alteration_filings = get_completed_filings_by_type('alteration')\n",
    "    for filing in completed_alteration_filings:\n",
    "        try:  \n",
    "            filing_meta_data = filing._meta_data\n",
    "            filing_meta_data['legalFilings'] = ['alteration']\n",
    "            print(filing_meta_data)\n",
    "            # Update the from and to legal type always.\n",
    "            alteration_meta = {}\n",
    "            from_legal_type = dpath.util.get(filing._filing_json, '/filing/business/legalType')\n",
    "            to_legal_type = dpath.util.get(filing._filing_json, '/filing/alteration/business/legalType')        \n",
    "            if from_legal_type and to_legal_type:           \n",
    "                alteration_meta = {**alteration_meta, **{'fromLegalType': from_legal_type,\n",
    "                                                    'toLegalType': to_legal_type}}\n",
    "\n",
    "\n",
    "            # Update the fromLegalName and toLegalName if there is a name change    \n",
    "            with suppress(IndexError, KeyError, TypeError):    \n",
    "                from_legal_name = dpath.util.get(filing._filing_json, '/filing/business/legalName')\n",
    "                identifier = dpath.util.get(filing._filing_json, '/filing/business/identifier')\n",
    "                name_request_json = dpath.util.get(filing._filing_json, '/filing/alteration/nameRequest')\n",
    "                to_legal_name = name_request_json.get('legalName', identifier[2:] + ' B.C. LTD.')             \n",
    "                if from_legal_name != to_legal_name:\n",
    "                    alteration_meta = {**alteration_meta, **{'fromLegalName': from_legal_name,\n",
    "                                                        'toLegalName': to_legal_name}}\n",
    "\n",
    "            filing_meta_data['alteration'] = alteration_meta            \n",
    "            filing._meta_data = filing_meta_data\n",
    "            # For ORM to help identify that the json has changed. \n",
    "            flag_modified(filing, \"_meta_data\")\n",
    "            \n",
    "            db.session.add(filing)\n",
    "            db.session.commit()\n",
    "            print( f'\\033[92m Updated {filing.id} - {filing._meta_data}')\n",
    "        except Exception as e:             \n",
    "            print(f'\\033[91mUpdate failed for filing Id - {filing.id}')\n"
   ]
  },
  {
   "cell_type": "code",
   "execution_count": 13,
   "id": "a5de317a",
   "metadata": {},
   "outputs": [
    {
     "name": "stdout",
     "output_type": "stream",
     "text": [
      "{'alteration': {}, 'legalFilings': ['alteration'], 'applicationDate': '2021-03-23T18:08:30.508214+00:00'}\n",
      "\u001b[92m Updated 111822 - {'alteration': {'toLegalName': 'CAMERON INSURANCE LTD.', 'toLegalType': 'BC', 'fromLegalName': 'SOFTWARE INSURANCE INC.', 'fromLegalType': 'BC'}, 'legalFilings': ['alteration'], 'applicationDate': '2021-03-23T18:08:30.508214+00:00'}\n"
     ]
    }
   ],
   "source": [
    "update_alteration_metadata()"
   ]
  },
  {
   "cell_type": "code",
   "execution_count": null,
   "id": "042f8681",
   "metadata": {},
   "outputs": [],
   "source": []
  }
 ],
 "metadata": {
  "kernelspec": {
   "display_name": "Python 3 (ipykernel)",
   "language": "python",
   "name": "python3"
  },
  "language_info": {
   "codemirror_mode": {
    "name": "ipython",
    "version": 3
   },
   "file_extension": ".py",
   "mimetype": "text/x-python",
   "name": "python",
   "nbconvert_exporter": "python",
   "pygments_lexer": "ipython3",
   "version": "3.9.7"
  }
 },
 "nbformat": 4,
 "nbformat_minor": 5
}
