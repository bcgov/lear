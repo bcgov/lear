{
 "cells": [
  {
   "cell_type": "markdown",
   "metadata": {},
   "source": [
    "# Create Cooperative\n",
    "This notebook contains snippets to create COOP from scratch given a NR.  It also contains functionality to update good standing status for a business and also to reset/remove voluntary dissolution data after a manual voluntary dissolution filing."
   ]
  },
  {
   "cell_type": "markdown",
   "metadata": {},
   "source": [
    "## Setup environment\n",
    "Before running following environment setup snippets, ensure environment variables found in `default-bcr-business-setup-TEST` notebook contain the correct values.  If there is a need to run update the good standing state of a business or to reset/remove voluntary dissolution data for a given business, ensure you have port forwarded the lear database and the corresponding database config in `default-bcr-business-setup-TEST` is up to date."
   ]
  },
  {
   "cell_type": "code",
   "execution_count": null,
   "metadata": {},
   "outputs": [],
   "source": [
    "%run /workspaces/lear/tests/data/default-bcr-business-setup-TEST.ipynb"
   ]
  },
  {
   "cell_type": "code",
   "execution_count": null,
   "metadata": {},
   "outputs": [],
   "source": [
    "%run /workspaces/lear/tests/data/common/legal_api_utils.ipynb\n",
    "%run /workspaces/lear/tests/data/common/legal_api_utils_test_payload_data.ipynb\n",
    "%run /workspaces/lear/tests/data/common/legal_api_utils_test_data.ipynb\n",
    "%run /workspaces/lear/tests/data/common/namex_api_utils.ipynb\n",
    "%run /workspaces/lear/tests/data/common/auth_api_utils.ipynb"
   ]
  },
  {
   "cell_type": "code",
   "execution_count": null,
   "metadata": {
    "tags": []
   },
   "outputs": [],
   "source": [
    "import copy\n",
    "import re\n",
    "import json\n",
    "from legal_api.core import Filing as CoreFiling\n",
    "from legal_api.models import Business, Comment, Filing, RegistrationBootstrap\n",
    "from legal_api.utils.datetime import date, datetime"
   ]
  },
  {
   "cell_type": "code",
   "execution_count": null,
   "metadata": {},
   "outputs": [],
   "source": [
    "# account to associate business to e.g. 2596(DEV BCREG0018 AC Dev Account), 1009(TEST BCREG0029, AC Test Account)\n",
    "# account id can be found by selecting account of interest in My Business Registry site and referencing url.\n",
    "# e.g. https://dev.bcregistry.ca/business/auth/account/2596/business\n",
    "account = 2596\n",
    "# Provide own identifier if not creating business from scratch and want to update good standing or reset voluntary dissolution\n",
    "# data for a given business.\n",
    "# identifier = 'CP1XXXXXX'\n",
    "legal_type = 'CP'\n",
    "nr_num = '<nr_num_placeholder>' # newly unaffiliated and unconsumed nr num.  expected format \"NR 6771356\"\n",
    "email = '<placeholder_email_address>'\n",
    "verify_ssl=True # set to False if using proxy to debug requests\n",
    "account, legal_type, nr_num, email"
   ]
  },
  {
   "cell_type": "markdown",
   "metadata": {},
   "source": [
    "### Get NR Info"
   ]
  },
  {
   "cell_type": "code",
   "execution_count": null,
   "metadata": {},
   "outputs": [],
   "source": [
    "approved_nr_name = get_nr_approved_name(nr_num, email, verify_ssl)\n",
    "assert approved_nr_name\n",
    "approved_nr_name"
   ]
  },
  {
   "cell_type": "markdown",
   "metadata": {},
   "source": [
    "## Tokens"
   ]
  },
  {
   "cell_type": "code",
   "execution_count": null,
   "metadata": {},
   "outputs": [],
   "source": [
    "auth_token = get_auth_token(verify_ssl)\n",
    "assert auth_token\n",
    "# auth_token"
   ]
  },
  {
   "cell_type": "code",
   "execution_count": null,
   "metadata": {},
   "outputs": [],
   "source": [
    "lear_token = get_lear_token(verify_ssl)\n",
    "assert lear_token\n",
    "# lear_token"
   ]
  },
  {
   "cell_type": "markdown",
   "metadata": {},
   "source": [
    "## Affiliate NR to account"
   ]
  },
  {
   "cell_type": "code",
   "execution_count": null,
   "metadata": {},
   "outputs": [],
   "source": [
    "r = affiliate_nr_to_account(auth_token, nr_num, email, account, verify_ssl)\n",
    "r.status_code, r.text"
   ]
  },
  {
   "cell_type": "markdown",
   "metadata": {},
   "source": [
    "### Affiliate NR to entity"
   ]
  },
  {
   "cell_type": "code",
   "execution_count": null,
   "metadata": {},
   "outputs": [],
   "source": [
    "r = affiliate_nr_to_entity(auth_token, nr_num, approved_nr_name, verify_ssl)\n",
    "r.status_code, r.text"
   ]
  },
  {
   "cell_type": "markdown",
   "metadata": {},
   "source": [
    "## Create Draft IA"
   ]
  },
  {
   "cell_type": "code",
   "execution_count": null,
   "metadata": {},
   "outputs": [],
   "source": [
    "payload = factory_empty_ia_payload()\n",
    "payload['filing']['header']['accountId'] = account\n",
    "payload['filing']['business']['legalType'] = legal_type\n",
    "payload['filing']['incorporationApplication']['nameRequest']['legalType'] = legal_type\n",
    "payload['filing']['incorporationApplication']['nameRequest']['nrNumber'] = nr_num\n",
    "\n",
    "r = create_empty_draft_ia(lear_token, payload, verify_ssl)\n",
    "response_dict = json.loads(r.text)\n",
    "temp_identifier = response_dict['filing']['business']['identifier']\n",
    "filing_id = response_dict['filing']['header']['filingId']\n",
    "assert r.status_code == 201\n",
    "r.status_code, temp_identifier, filing_id, r.text\n"
   ]
  },
  {
   "cell_type": "code",
   "execution_count": null,
   "metadata": {},
   "outputs": [],
   "source": [
    "# upload rules file to minio\n",
    "rules_file_name = 'rules_file_name.pdf'\n",
    "rules_file_key, rules_file_presigned_url = factory_file_upload(lear_token, rules_file_name, verify_ssl)\n",
    "assert rules_file_key\n",
    "assert rules_file_presigned_url\n",
    "rules_file_name, rules_file_key"
   ]
  },
  {
   "cell_type": "code",
   "execution_count": null,
   "metadata": {},
   "outputs": [],
   "source": [
    "# upload memorandum file to minio\n",
    "memorandum_file_name = 'memorandum_file_name.pdf'\n",
    "memorandum_file_key, memorandum_file_presigned_url = factory_file_upload(lear_token, memorandum_file_name, verify_ssl)\n",
    "assert memorandum_file_key\n",
    "assert memorandum_file_presigned_url\n",
    "memorandum_file_name, memorandum_file_key"
   ]
  },
  {
   "cell_type": "code",
   "execution_count": null,
   "metadata": {},
   "outputs": [],
   "source": [
    "# *****************************************************************************\n",
    "# NOTE: might need to wait a few minutes after DRAFT filing is initially saved\n",
    "# *****************************************************************************\n",
    "\n",
    "payload = factory_coop_ia_payload()\n",
    "payload['filing']['business']['legalType'] = legal_type\n",
    "payload['filing']['business']['identifier'] = temp_identifier\n",
    "payload['filing']['incorporationApplication']['nameRequest']['legalType'] = legal_type\n",
    "payload['filing']['incorporationApplication']['nameRequest']['nrNumber'] = nr_num\n",
    "payload['filing']['incorporationApplication']['nameRequest']['legalName'] = approved_nr_name\n",
    "payload['filing']['incorporationApplication']['contactPoint']['email'] = email\n",
    "payload['filing']['incorporationApplication']['parties'][0]['officer']['email'] = email\n",
    "payload['filing']['incorporationApplication']['cooperative']['cooperativeAssociationType'] = legal_type\n",
    "payload['filing']['incorporationApplication']['cooperative']['rulesFileKey'] = rules_file_key\n",
    "payload['filing']['incorporationApplication']['cooperative']['rulesFileName'] = rules_file_name\n",
    "payload['filing']['incorporationApplication']['cooperative']['memorandumFileKey'] = memorandum_file_key\n",
    "payload['filing']['incorporationApplication']['cooperative']['memorandumFileName'] = memorandum_file_name\n",
    "\n",
    "r = submit_ia(lear_token, payload, temp_identifier, filing_id, verify_ssl)\n",
    "assert r.status_code == 202\n",
    "response_dict = json.loads(r.text)\n",
    "payment_token = response_dict['filing']['header']['paymentToken']\n",
    "print(f'payment_token: {payment_token}')\n",
    "r.status_code, r.text"
   ]
  },
  {
   "cell_type": "markdown",
   "metadata": {},
   "source": [
    "## Create/update transaction\n",
    "Note: Making a payment is not required if the `entity-notebook-service-account` service client is used for `LEGAL_SVC_CLIENT_ID`.  The payment will be automatically created/processed and the filing will be processed as well.  Otherwise, uncomment and use the payment url provided after creating the payment tranaction in the snippet below."
   ]
  },
  {
   "cell_type": "code",
   "execution_count": null,
   "metadata": {},
   "outputs": [],
   "source": [
    "# r = create_filing_payment_transaction(temp_identifier, payment_token, verify_ssl)\n",
    "# r.status_code, r.text\n",
    "# response_dict = json.loads(r.text)\n",
    "# transaction_id = response_dict.get('id')\n",
    "# pay_sys_url = response_dict.get('paySystemUrl')\n",
    "# print('Use following link to make payment in browser.  Continue with snippets below after making payment.')\n",
    "# print(f'pay_sys_url: {pay_sys_url}')"
   ]
  },
  {
   "cell_type": "markdown",
   "metadata": {},
   "source": [
    "## Get business identifier"
   ]
  },
  {
   "cell_type": "code",
   "execution_count": null,
   "metadata": {},
   "outputs": [],
   "source": [
    "# Note: might need to wait a few minutes for this to propogate to auth\n",
    "identifier = get_identifier_from_affiliations(auth_token, account, approved_nr_name, verify_ssl)\n",
    "assert identifier\n",
    "identifier"
   ]
  },
  {
   "cell_type": "markdown",
   "metadata": {},
   "source": [
    "### Update good standing\n",
    "Note: when creating a COOP from scratch using above steps, the COOP will be in good standing already.  Only use this snippet if there is a need to set the COOP to not in good standing or to toggle the good standing state for an existing business."
   ]
  },
  {
   "cell_type": "code",
   "execution_count": null,
   "metadata": {},
   "outputs": [],
   "source": [
    "assert identifier\n",
    "in_good_standing = False\n",
    "\n",
    "update_in_good_standing(identifier, in_good_standing)\n",
    "print(f'updated to in good standing = {in_good_standing}')\n",
    "\n",
    "db.session.commit()"
   ]
  },
  {
   "cell_type": "markdown",
   "metadata": {},
   "source": [
    "## Data Reset\n",
    "Remove voluntary dissolution filing and update/remove operational data introduced by voluntary dissolution"
   ]
  },
  {
   "cell_type": "code",
   "execution_count": null,
   "metadata": {},
   "outputs": [],
   "source": [
    "assert identifier\n",
    "reset_vd_data(identifier)\n",
    "db.session.commit()\n",
    "print(f'business reset - voluntary dissolution data removed')"
   ]
  },
  {
   "cell_type": "code",
   "execution_count": null,
   "metadata": {},
   "outputs": [],
   "source": [
    "# rollback if reset didn't work properly\n",
    "db.session.rollback()"
   ]
  },
  {
   "cell_type": "code",
   "execution_count": null,
   "metadata": {},
   "outputs": [],
   "source": []
  }
 ],
 "metadata": {
  "kernelspec": {
   "display_name": "Python 3 (ipykernel)",
   "language": "python",
   "name": "python3"
  },
  "language_info": {
   "codemirror_mode": {
    "name": "ipython",
    "version": 3
   },
   "file_extension": ".py",
   "mimetype": "text/x-python",
   "name": "python",
   "nbconvert_exporter": "python",
   "pygments_lexer": "ipython3",
   "version": "3.9.7"
  }
 },
 "nbformat": 4,
 "nbformat_minor": 4
}
