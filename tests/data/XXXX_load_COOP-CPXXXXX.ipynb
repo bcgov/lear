{
 "cells": [
  {
   "cell_type": "markdown",
   "metadata": {},
   "source": [
    "# Load COOP\n",
    "## Follow these steps to migrate an existing company to Lear"
   ]
  },
  {
   "cell_type": "markdown",
   "metadata": {},
   "source": [
    "## Setup the environment"
   ]
  },
  {
   "cell_type": "code",
   "execution_count": null,
   "metadata": {},
   "outputs": [],
   "source": [
    "%run /workspaces/lear/tests/data/default-bcr-business-setup-TEST.ipynb"
   ]
  },
  {
   "cell_type": "code",
   "execution_count": null,
   "metadata": {
    "tags": []
   },
   "outputs": [],
   "source": [
    "%run /workspaces/lear/tests/data/common/colin_api_utils.ipynb\n",
    "%run /workspaces/lear/tests/data/common/utility.ipynb\n",
    "\n",
    "import os\n",
    "import re"
   ]
  },
  {
   "cell_type": "markdown",
   "metadata": {},
   "source": [
    "## Set the business identifier"
   ]
  },
  {
   "cell_type": "code",
   "execution_count": null,
   "metadata": {},
   "outputs": [],
   "source": [
    "identifier = 'CP0002391'\n",
    "legal_type = identifier[:re.search(r\"\\d\", identifier).start()]\n",
    "identifier, legal_type"
   ]
  },
  {
   "cell_type": "markdown",
   "metadata": {},
   "source": [
    "## Ensure the business does not yet exist!! BAIL IF IT DOES"
   ]
  },
  {
   "cell_type": "code",
   "execution_count": null,
   "metadata": {},
   "outputs": [],
   "source": [
    "if business := legal_api.models.Business.find_by_identifier(identifier):\n",
    "        print(f'{identifier} already exisit in LEAR, DO NOT ATTENP TO LOAD IT AGAIN')\n",
    "assert not business, \"Business already exists, so we shouldn't try to load creation events.\""
   ]
  },
  {
   "cell_type": "code",
   "execution_count": null,
   "metadata": {},
   "outputs": [],
   "source": [
    "echo_colin_api()"
   ]
  },
  {
   "cell_type": "code",
   "execution_count": null,
   "metadata": {},
   "outputs": [],
   "source": [
    "events = get_filing_events_for_corp(legal_type, identifier)\n",
    "events, len(events)"
   ]
  },
  {
   "cell_type": "code",
   "execution_count": null,
   "metadata": {},
   "outputs": [],
   "source": [
    "filing_event = get_data_load_required_filing_event(legal_type, identifier)\n",
    "filing_event"
   ]
  },
  {
   "cell_type": "code",
   "execution_count": null,
   "metadata": {},
   "outputs": [],
   "source": [
    "colin_filing_type = filing_event.get('filing_typ_cd')\n",
    "filing_type = get_filing_type(colin_filing_type)\n",
    "colin_filing = get_filing(filing_type, legal_type, filing_event)\n",
    "# colin_filing['filing']['business']['identifier'] = identifier\n",
    "colin_filing\n",
    "# filing = create_filing(filing_type, colin_filing, filing_event.get('event_id'), identifier)\n",
    "# filing.save()\n",
    "# filing.id"
   ]
  },
  {
   "cell_type": "code",
   "execution_count": null,
   "metadata": {},
   "outputs": [],
   "source": [
    "colin_filing['filing']['business']['identifier'] = identifier\n",
    "filing = create_filing(filing_type, colin_filing, filing_event.get('event_id'), identifier)\n",
    "filing.save()\n",
    "filing.id"
   ]
  },
  {
   "cell_type": "markdown",
   "metadata": {},
   "source": [
    "### Manually added to the Filer's Queue\n",
    "\n",
    "eg.\n",
    "```bash\n",
    "./q_cli.py -f 57280\n",
    "```"
   ]
  },
  {
   "cell_type": "code",
   "execution_count": null,
   "metadata": {},
   "outputs": [],
   "source": [
    "print(f'./q_cli.py -f {filing.id}')"
   ]
  },
  {
   "cell_type": "code",
   "execution_count": null,
   "metadata": {},
   "outputs": [],
   "source": [
    "business = legal_api.models.Business.find_by_identifier(identifier)\n",
    "\n",
    "business.identifier, business.legal_name, business.legal_type"
   ]
  },
  {
   "cell_type": "code",
   "execution_count": null,
   "metadata": {},
   "outputs": [],
   "source": [
    "token = AccountService.get_bearer_token()"
   ]
  },
  {
   "cell_type": "markdown",
   "metadata": {},
   "source": [
    "### Apply all the filing events"
   ]
  },
  {
   "cell_type": "code",
   "execution_count": null,
   "metadata": {},
   "outputs": [],
   "source": [
    "events"
   ]
  },
  {
   "cell_type": "code",
   "execution_count": null,
   "metadata": {},
   "outputs": [],
   "source": [
    "filing_event = events[6]\n",
    "filing_event"
   ]
  },
  {
   "cell_type": "code",
   "execution_count": null,
   "metadata": {},
   "outputs": [],
   "source": [
    "colin_filing_type = filing_event.get('filing_typ_cd')\n",
    "filing_type = get_filing_type(colin_filing_type) # historic\n",
    "# filing_type = 'historic'\n",
    "colin_filing = get_filing(filing_type, legal_type, filing_event)\n",
    "# # colin_filing['filing']['business']['identifier'] = identifier\n",
    "colin_filing"
   ]
  },
  {
   "cell_type": "code",
   "execution_count": null,
   "metadata": {},
   "outputs": [],
   "source": [
    "colin_filing['filing']['business']['identifier'] = identifier\n",
    "colin_filing"
   ]
  },
  {
   "cell_type": "code",
   "execution_count": null,
   "metadata": {},
   "outputs": [],
   "source": [
    "r = requests.post(\n",
    "#     f'{os.getenv(\"LEGAL_URL\")}/{identifier}/filings?draft=true',\n",
    "    f'{os.getenv(\"LEGAL_URL\")}/{identifier}/filings',\n",
    "    json=colin_filing,\n",
    "    headers={'Content-Type': 'application/json', 'Authorization': f'Bearer {token}'}\n",
    ")"
   ]
  },
  {
   "cell_type": "code",
   "execution_count": null,
   "metadata": {},
   "outputs": [],
   "source": [
    "r.status_code, r.json()"
   ]
  },
  {
   "cell_type": "markdown",
   "metadata": {},
   "source": [
    "## Affiliate business to business account"
   ]
  },
  {
   "cell_type": "markdown",
   "metadata": {},
   "source": [
    "### Authenticate"
   ]
  },
  {
   "cell_type": "code",
   "execution_count": null,
   "metadata": {},
   "outputs": [],
   "source": [
    "token = AccountService.get_bearer_token()"
   ]
  },
  {
   "cell_type": "code",
   "execution_count": null,
   "metadata": {},
   "outputs": [],
   "source": [
    "import json\n",
    "\n",
    "url = \"https://auth-api.apps.silver.devops.gov.bc.ca/api/v1/entities\"\n",
    "\n",
    "payload = {\n",
    "  \"businessIdentifier\": business.identifier,\n",
    "  \"corpTypeCode\": business.legal_type,\n",
    "  \"name\": business.legal_name\n",
    "}\n",
    "\n",
    "headers = {\n",
    "  'Authorization': f'Bearer {token}'\n",
    "}\n",
    "\n",
    "r = requests.post(url, headers=headers, json=payload)\n",
    "\n",
    "r.status_code, r.text"
   ]
  },
  {
   "cell_type": "markdown",
   "metadata": {},
   "source": [
    "### Manual changes\n",
    "Changed to a paper-only filing after checking on dashboard that the IA does not render yet for COOPs"
   ]
  },
  {
   "cell_type": "code",
   "execution_count": null,
   "metadata": {},
   "outputs": [],
   "source": []
  }
 ],
 "metadata": {
  "kernelspec": {
   "display_name": "Python 3 (ipykernel)",
   "language": "python",
   "name": "python3"
  },
  "language_info": {
   "codemirror_mode": {
    "name": "ipython",
    "version": 3
   },
   "file_extension": ".py",
   "mimetype": "text/x-python",
   "name": "python",
   "nbconvert_exporter": "python",
   "pygments_lexer": "ipython3",
   "version": "3.9.7"
  }
 },
 "nbformat": 4,
 "nbformat_minor": 2
}
