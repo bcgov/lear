{
 "cells": [
  {
   "cell_type": "markdown",
   "metadata": {},
   "source": [
    "# Create COOP and CORP NRs\n",
    "This notebook contains snippets to create new NRs which can then be used manually or via existing notebooks to create a company."
   ]
  },
  {
   "cell_type": "markdown",
   "metadata": {},
   "source": [
    "## Setup environment\n",
    "Before running following environment setup snippets, ensure environment variables found in `default-bcr-business-setup-TEST` notebook contain the correct values."
   ]
  },
  {
   "cell_type": "code",
   "execution_count": null,
   "metadata": {},
   "outputs": [],
   "source": [
    "%run /workspaces/lear/tests/data/default-bcr-business-setup-TEST.ipynb"
   ]
  },
  {
   "cell_type": "code",
   "execution_count": null,
   "metadata": {
    "tags": []
   },
   "outputs": [],
   "source": [
    "%run /workspaces/lear/tests/data/common/utility.ipynb\n",
    "%run /workspaces/lear/tests/data/common/namex_api_utils_test_payload_data.ipynb\n",
    "%run /workspaces/lear/tests/data/common/namex_api_utils.ipynb\n",
    "\n",
    "import os\n",
    "import re\n",
    "import json"
   ]
  },
  {
   "cell_type": "code",
   "execution_count": null,
   "metadata": {},
   "outputs": [],
   "source": [
    "entity_type = 'BC' # CP, BC\n",
    "email = '<placeholder_email_address>'\n",
    "verify_ssl=True # set to False if using proxy to debug requests"
   ]
  },
  {
   "cell_type": "code",
   "execution_count": null,
   "metadata": {},
   "outputs": [],
   "source": [
    "namex_token = get_namex_token(verify_ssl)\n",
    "assert namex_token\n",
    "# namex_token"
   ]
  },
  {
   "cell_type": "markdown",
   "metadata": {},
   "source": [
    "### Create NR"
   ]
  },
  {
   "cell_type": "code",
   "execution_count": null,
   "metadata": {},
   "outputs": [],
   "source": [
    "dt_str = datetime.now().strftime(\"%Y.%m.%d %H.%M.%S\")\n",
    "print(f'dt: {dt_str}')\n",
    "\n",
    "company_name = f'XYZ {dt_str} Test'\n",
    "print(f'company_name: {company_name}')\n",
    "\n",
    "create_nr_json = factory_create_nr_payload()\n",
    "create_nr_json['applicants'][0]['emailAddress'] = email\n",
    "create_nr_json['names'][0]['name'] = company_name\n",
    "create_nr_json['names'][0]['name_type_cd'] = 'CO'\n",
    "create_nr_json['names'][0]['designation'] = 'CORP.' if entity_type == 'BC' else None\n",
    "create_nr_json['entity_type_cd'] = entity_type\n",
    "\n",
    "r = create_nr(create_nr_json, verify_ssl)\n",
    "response_dict = json.loads(r.text)\n",
    "nr_id = response_dict.get('id')\n",
    "nrl = response_dict.get('nrNum')\n",
    "nr_name_id = response_dict['names'][0]['id']\n",
    "nr_name = response_dict['names'][0]['name']\n",
    "name_type_cd = response_dict['names'][0]['name_type_cd']\n",
    "\n",
    "print (f'nr_id: {nr_id}')\n",
    "print (f'nrl: {nrl}')\n"
   ]
  },
  {
   "cell_type": "markdown",
   "metadata": {},
   "source": [
    "### Create Payment"
   ]
  },
  {
   "cell_type": "code",
   "execution_count": null,
   "metadata": {},
   "outputs": [],
   "source": [
    "create_payment_json = factory_create_nr_payment_payload()\n",
    "create_payment_json['filingInfo']['filingTypes'][0]['filingTypeCode'] = 'NM620'\n",
    "r = create_nr_payment(nr_id, nrl, email, create_payment_json, verify_ssl)\n",
    "r.status_code, r.text\n",
    "response_dict = json.loads(r.text)\n",
    "nr_num = response_dict.get('nrNum')\n",
    "payment_id = response_dict['payment']['id']\n",
    "print (f'payment_id: {payment_id}')\n",
    "payment_token = response_dict['payment']['payment_token']\n",
    "print (f'payment_token: {payment_token}')\n",
    "print (f'nr_num: {nr_num}')\n",
    "invoice_id = response_dict['sbcPayment']['references'][0]['invoiceNumber']\n",
    "print(f'invoice_id: {invoice_id}')"
   ]
  },
  {
   "cell_type": "markdown",
   "metadata": {},
   "source": [
    "## Create/Update payment transaction\n",
    "Note: Use the pay_sys_url provided after executing the snippet below to complete the payment before continuing the notebook snippets below.  After paying using the test credit card, you should be redirected a name request page with a dialog indicating that your NR encountered an error and please do not try submitting again.  This is fine.  You should be able to continue with running the snippets below at this point."
   ]
  },
  {
   "cell_type": "code",
   "execution_count": null,
   "metadata": {},
   "outputs": [],
   "source": [
    "r = create_nr_payment_transaction(nr_id, payment_id, payment_token, verify_ssl)\n",
    "r.status_code, r.text\n",
    "response_dict = json.loads(r.text)\n",
    "transaction_id = response_dict.get('id')\n",
    "pay_sys_url = response_dict.get('paySystemUrl')\n",
    "print('Use following link to make payment in browser.  Continue with snippets below after making payment.')\n",
    "print(f'pay_sys_url: {pay_sys_url}')"
   ]
  },
  {
   "cell_type": "markdown",
   "metadata": {},
   "source": [
    "## Update NR status to IN PROGRESS"
   ]
  },
  {
   "cell_type": "code",
   "execution_count": null,
   "metadata": {},
   "outputs": [],
   "source": [
    "update_nr_state_in_progress_json = {\n",
    "    'state': 'INPROGRESS'\n",
    "}\n",
    "\n",
    "r = update_nr_state(namex_token, nr_num, update_nr_state_in_progress_json, verify_ssl)\n",
    "r.status_code, r.text"
   ]
  },
  {
   "cell_type": "markdown",
   "metadata": {},
   "source": [
    "## Update NR name state to APPROVED"
   ]
  },
  {
   "cell_type": "code",
   "execution_count": null,
   "metadata": {},
   "outputs": [],
   "source": [
    "payload = factory_update_nr_name_payload()\n",
    "payload['choice'] = 1\n",
    "payload['id'] = nr_name_id\n",
    "payload['name'] = nr_name\n",
    "payload['name_type_cd'] = name_type_cd\n",
    "payload['state'] = 'APPROVED'\n",
    "\n",
    "r = update_nr_name(namex_token, nr_num, payload, verify_ssl)\n",
    "r.status_code, r.text"
   ]
  },
  {
   "cell_type": "markdown",
   "metadata": {},
   "source": [
    "## Update NR state to APPROVED"
   ]
  },
  {
   "cell_type": "code",
   "execution_count": null,
   "metadata": {},
   "outputs": [],
   "source": [
    "update_nr_state_approved_json = {\n",
    "    'state': 'APPROVED'\n",
    "}\n",
    "\n",
    "r = update_nr_state(namex_token, nr_num, update_nr_state_approved_json, verify_ssl)\n",
    "r.status_code, r.text"
   ]
  },
  {
   "cell_type": "code",
   "execution_count": null,
   "metadata": {},
   "outputs": [],
   "source": []
  }
 ],
 "metadata": {
  "kernelspec": {
   "display_name": "Python 3 (ipykernel)",
   "language": "python",
   "name": "python3"
  },
  "language_info": {
   "codemirror_mode": {
    "name": "ipython",
    "version": 3
   },
   "file_extension": ".py",
   "mimetype": "text/x-python",
   "name": "python",
   "nbconvert_exporter": "python",
   "pygments_lexer": "ipython3",
   "version": "3.9.7"
  }
 },
 "nbformat": 4,
 "nbformat_minor": 4
}
