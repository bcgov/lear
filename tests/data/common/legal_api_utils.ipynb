{
 "cells": [
  {
   "cell_type": "markdown",
   "id": "fda88f86",
   "metadata": {},
   "source": [
    "# LEGAL API Utils for filings"
   ]
  },
  {
   "cell_type": "code",
   "execution_count": null,
   "id": "02f76746",
   "metadata": {},
   "outputs": [],
   "source": [
    "import os\n",
    "from sqlalchemy import desc\n",
    "import datedelta\n",
    "import base64\n",
    "import uuid\n",
    "\n",
    "from legal_api import db\n",
    "from legal_api.core import Filing as CoreFiling\n",
    "from legal_api.models import Business, Comment, Filing, RegistrationBootstrap, Office, PartyRole\n",
    "from legal_api.utils.datetime import date, datetime"
   ]
  },
  {
   "cell_type": "code",
   "execution_count": null,
   "id": "77f464a4",
   "metadata": {},
   "outputs": [],
   "source": [
    "LEGAL_URL = os.getenv('LEGAL_URL')\n",
    "LEGAL_SVC_CLIENT_ID = os.getenv('LEGAL_SVC_CLIENT_ID')\n",
    "LEGAL_SVC_CLIENT_SECRET = os.getenv('LEGAL_SVC_CLIENT_SECRET')\n",
    "ACCOUNT_SVC_AUTH_URL = os.getenv('ACCOUNT_SVC_AUTH_URL')\n",
    "PAYMENT_SVC_URL = os.getenv('PAYMENT_SVC_URL')\n",
    "PAYMENT_SVC_CLIENT_SYSTEM_FILING_URL = os.getenv('PAYMENT_SVC_CLIENT_SYSTEM_FILING_URL')\n",
    "PAYMENT_SVC_RETURN_URL = os.getenv('PAYMENT_SVC_RETURN_URL')"
   ]
  },
  {
   "cell_type": "code",
   "execution_count": null,
   "id": "206d26eb",
   "metadata": {},
   "outputs": [],
   "source": [
    "def get_lear_token(verify_ssl = True):\n",
    "    payload = \"grant_type=client_credentials\"\n",
    "    basic_hash = base64.b64encode(f'{LEGAL_SVC_CLIENT_ID}:{LEGAL_SVC_CLIENT_SECRET}'.encode()).decode()\n",
    "    basic_hash\n",
    "    headers = {\n",
    "      'Content-Type': 'application/x-www-form-urlencoded',\n",
    "      'Authorization': f'Basic {basic_hash}'\n",
    "    }\n",
    "\n",
    "    response = requests.request(\"POST\", ACCOUNT_SVC_AUTH_URL, headers=headers, data=payload, verify=verify_ssl)\n",
    "\n",
    "    lear_token = response.json()['access_token']\n",
    "    # lear_token\n",
    "    assert lear_token\n",
    "    return lear_token"
   ]
  },
  {
   "cell_type": "code",
   "execution_count": null,
   "id": "daefc37c",
   "metadata": {},
   "outputs": [],
   "source": [
    "def get_filings_by_type(business_id: int, filing_type: str):\n",
    "    \"\"\"Return the filings of a particular type.\"\"\"\n",
    "    filings = db.session.query(Filing). \\\n",
    "        filter(Filing.business_id == business_id). \\\n",
    "        filter(Filing._filing_type == filing_type). \\\n",
    "        order_by(desc(Filing.filing_date)). \\\n",
    "        all()\n",
    "    return filings"
   ]
  },
  {
   "cell_type": "code",
   "execution_count": null,
   "id": "37ffeac7",
   "metadata": {},
   "outputs": [],
   "source": [
    "def get_filing_by_type(business_id: int, filing_type: str):\n",
    "    \"\"\"Return one filing of a particular type.\"\"\"\n",
    "    filing = db.session.query(Filing). \\\n",
    "        filter(Filing.business_id == business_id). \\\n",
    "        filter(Filing._filing_type == filing_type). \\\n",
    "        order_by(desc(Filing.filing_date)). \\\n",
    "        one_or_none()\n",
    "    return filing"
   ]
  },
  {
   "cell_type": "code",
   "execution_count": null,
   "id": "ba1e6818",
   "metadata": {},
   "outputs": [],
   "source": [
    "def get_office_by_type(business_id: int, office_type: str):\n",
    "    \"\"\"Return one office of a particular type.\"\"\"\n",
    "    office = db.session.query(Office). \\\n",
    "        filter(Office.business_id == business_id). \\\n",
    "        filter(Office.office_type == office_type). \\\n",
    "        one_or_none()\n",
    "    return office"
   ]
  },
  {
   "cell_type": "code",
   "execution_count": null,
   "id": "b44314bd",
   "metadata": {},
   "outputs": [],
   "source": [
    "def get_party_role(business_id: int, role: str):\n",
    "    \"\"\"Return one party role\"\"\"\n",
    "    party_role = db.session.query(PartyRole). \\\n",
    "        filter(PartyRole.business_id == business_id). \\\n",
    "        filter(PartyRole.role == role). \\\n",
    "        one_or_none()\n",
    "    return party_role"
   ]
  },
  {
   "cell_type": "code",
   "execution_count": null,
   "id": "81c09d60",
   "metadata": {},
   "outputs": [],
   "source": [
    "def update_in_good_standing(identifier: str, in_good_standing: bool):\n",
    "    \"\"\"Update good standing state for a given business\"\"\"\n",
    "    business = Business.find_by_identifier(identifier)\n",
    "    business.last_ar_date = None\n",
    "    business.last_ar_year = None\n",
    "\n",
    "    if in_good_standing:\n",
    "        business.founding_date = datetime.utcnow()\n",
    "    else:\n",
    "        business.founding_date = datetime.utcnow() - datedelta.datedelta(years=2) \n",
    "\n",
    "    business.save()"
   ]
  },
  {
   "cell_type": "code",
   "execution_count": null,
   "id": "7b7d25b8",
   "metadata": {},
   "outputs": [],
   "source": [
    "def create_empty_draft_ia(lear_token: str, payload: dict, verify_ssl = True):\n",
    "    url = f'{LEGAL_URL}?draft=true'\n",
    "    \n",
    "    headers = {\n",
    "      'Authorization': f'Bearer {lear_token}'\n",
    "    }\n",
    "\n",
    "    r = requests.post(url, headers=headers, json=payload, verify=verify_ssl)\n",
    "    return r"
   ]
  },
  {
   "cell_type": "code",
   "execution_count": null,
   "id": "d0475e21",
   "metadata": {},
   "outputs": [],
   "source": [
    "def submit_ia(lear_token: str, payload: dict, temp_identifier: str, filing_id: int, verify_ssl = True):\n",
    "    url = f'{LEGAL_URL}/{temp_identifier}/filings/{filing_id}'\n",
    "    \n",
    "    headers = {\n",
    "      'Authorization': f'Bearer {lear_token}'\n",
    "    }\n",
    "    \n",
    "    r = requests.put(url, headers=headers, json=payload, verify=verify_ssl)\n",
    "    return r"
   ]
  },
  {
   "cell_type": "code",
   "execution_count": null,
   "id": "7b423829",
   "metadata": {},
   "outputs": [],
   "source": [
    "def get_presigned_url_file_upload(lear_token: str, file_name: str, verify_ssl = True):\n",
    "    url = LEGAL_URL.replace('/businesses', '')\n",
    "    url = f'{url}/documents/{file_name}/signatures'\n",
    "    \n",
    "    headers = {\n",
    "      'Authorization': f'Bearer {lear_token}'\n",
    "    }\n",
    "\n",
    "    r = requests.get(url, headers=headers, verify=verify_ssl)\n",
    "    return r"
   ]
  },
  {
   "cell_type": "code",
   "execution_count": null,
   "id": "5aba518c",
   "metadata": {},
   "outputs": [],
   "source": [
    "def upload_file_to_minio(presigned_url: str, data, verify_ssl = True):\n",
    "    r = requests.put(presigned_url, data=data, verify=verify_ssl)  \n",
    "    return r"
   ]
  },
  {
   "cell_type": "code",
   "execution_count": null,
   "id": "37091d23",
   "metadata": {},
   "outputs": [],
   "source": [
    "def remove_office(business_id: int, office_type: str):\n",
    "    office = get_office_by_type(business_id, office_type)\n",
    "\n",
    "    if office:\n",
    "        addresses = office.addresses.all()\n",
    "\n",
    "        if addresses and len(addresses) > 0:\n",
    "            for addr in addresses:\n",
    "                print(f'delete addr type: {addr.address_type}')\n",
    "                db.session.delete(addr)\n",
    "\n",
    "        print(f'delete {office_type} office: {office.id}')\n",
    "        db.session.delete(office)\n"
   ]
  },
  {
   "cell_type": "code",
   "execution_count": null,
   "id": "83f2f840",
   "metadata": {},
   "outputs": [],
   "source": [
    "def remove_party_role(business_id: int, role: str):\n",
    "    party_role = get_party_role(business_id, role)\n",
    "    if party_role:\n",
    "        party = party_role.party\n",
    "        if party:\n",
    "            # note: addresses hanging off party table are automatically cascade deleted so no need to explicitly delete\n",
    "            print(f'delete {role} party')\n",
    "            db.session.delete(party)\n",
    "\n",
    "        print(f'delete {role} party role')\n",
    "        db.session.delete(party_role)"
   ]
  },
  {
   "cell_type": "code",
   "execution_count": null,
   "id": "c313a17e",
   "metadata": {},
   "outputs": [],
   "source": [
    "def remove_voluntary_dissolution_filing(business_id: int):\n",
    "    dissolution_filing = get_filing_by_type(business_id, 'dissolution')\n",
    "    if dissolution_filing:\n",
    "        dissolution_filing_json = dissolution_filing.json\n",
    "        assert dissolution_filing_json['filing']['dissolution']['dissolutionType'] == 'voluntary'\n",
    "        # print(f'filing: {filings[0].json}')\n",
    "\n",
    "        dissolution_docs = dissolution_filing.documents.all()\n",
    "        if(dissolution_docs and len(dissolution_docs) > 0):\n",
    "            print('found dissolution docs to delete')\n",
    "            for doc in dissolution_docs:\n",
    "                print(f'delete doc version type: {doc.type}, doc file key: {doc.file_key}')\n",
    "                db.session.delete(doc.versions[0])\n",
    "                print(f'delete doc type: {doc.type}, doc file key: {doc.file_key}')\n",
    "                db.session.delete(doc)\n",
    "                db.session.delete(doc.versions[0])\n",
    "\n",
    "        colin_events = dissolution_filing.colin_event_ids\n",
    "        if(colin_events and len(colin_events) > 0):\n",
    "            print('found colin events to delete')\n",
    "            for cevt in colin_events:\n",
    "                print(f'delete colin event: {cevt.colin_event_id}, lear filing id: {cevt.filing_id}')\n",
    "                db.session.delete(cevt)\n",
    "\n",
    "        print(f'vd payment_token: {dissolution_filing._payment_token}, locked: {dissolution_filing.locked}')\n",
    "        dissolution_filing._payment_token = None # this needs to be done to unlock filing for deletion\n",
    "        dissolution_filing.save()\n",
    "        print(f'delete voluntary dissolution filing id: {dissolution_filing.id}')\n",
    "        db.session.delete(dissolution_filing)   "
   ]
  },
  {
   "cell_type": "code",
   "execution_count": null,
   "id": "560cc317",
   "metadata": {},
   "outputs": [],
   "source": [
    "def reset_vd_data(identifier: str):\n",
    "    \"\"\"Remove/update voluntary dissolution related data to return business to undissolved state.\"\"\"\n",
    "    business = Business.find_by_identifier(identifier)\n",
    "    assert business\n",
    "\n",
    "    business.dissolution_date = None\n",
    "    business.state = 'ACTIVE'\n",
    "    business.state_filing_id = None\n",
    "    business.save()\n",
    "    \n",
    "    remove_office(business.id, 'custodialOffice')\n",
    "    remove_party_role(business.id, 'custodian')\n",
    "    remove_voluntary_dissolution_filing(business.id)"
   ]
  },
  {
   "cell_type": "code",
   "execution_count": null,
   "id": "5f7a4e67",
   "metadata": {},
   "outputs": [],
   "source": [
    "def create_filing_payment_transaction(temp_identifier: str, payment_token: str, verify_ssl = True):\n",
    "    url = f'{PAYMENT_SVC_URL}/{payment_token}/transactions'\n",
    "    payment_svc_client_sys_url = PAYMENT_SVC_CLIENT_SYSTEM_FILING_URL.format(temp_identifier = temp_identifier)\n",
    "\n",
    "    create_transaction_json = {\n",
    "      'clientSystemUrl': payment_svc_client_sys_url,\n",
    "      'payReturnUrl': PAYMENT_SVC_RETURN_URL\n",
    "    }\n",
    "    \n",
    "    headers = {\n",
    "      'Content-Type': 'application/json'\n",
    "    }\n",
    "    payload = json.dumps(create_transaction_json, indent=2)\n",
    "\n",
    "    r = requests.request(\"POST\", url, headers=headers, data=payload, verify=verify_ssl)\n",
    "    return r"
   ]
  }
 ],
 "metadata": {
  "kernelspec": {
   "display_name": "Python 3 (ipykernel)",
   "language": "python",
   "name": "python3"
  },
  "language_info": {
   "codemirror_mode": {
    "name": "ipython",
    "version": 3
   },
   "file_extension": ".py",
   "mimetype": "text/x-python",
   "name": "python",
   "nbconvert_exporter": "python",
   "pygments_lexer": "ipython3",
   "version": "3.9.7"
  }
 },
 "nbformat": 4,
 "nbformat_minor": 5
}
