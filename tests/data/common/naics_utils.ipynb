{
 "cells": [
  {
   "cell_type": "code",
   "execution_count": null,
   "id": "14dd73bd",
   "metadata": {},
   "outputs": [],
   "source": [
    "def get_element_type_from_label(label: str):\n",
    "    map = {\n",
    "      'All examples': 'ALL_EXAMPLES',\n",
    "      'Illustrative example(s)': 'ILLUSTRATIVE_EXAMPLES',\n",
    "      'Inclusion(s)': 'INCLUSIONS',\n",
    "      'Exclusion(s)': 'EXCLUSIONS'\n",
    "    }\n",
    "    return map.get(label, None)"
   ]
  }
 ],
 "metadata": {
  "kernelspec": {
   "display_name": "Python 3 (ipykernel)",
   "language": "python",
   "name": "python3"
  },
  "language_info": {
   "codemirror_mode": {
    "name": "ipython",
    "version": 3
   },
   "file_extension": ".py",
   "mimetype": "text/x-python",
   "name": "python",
   "nbconvert_exporter": "python",
   "pygments_lexer": "ipython3",
   "version": "3.9.7"
  }
 },
 "nbformat": 4,
 "nbformat_minor": 5
}
