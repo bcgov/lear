{
 "cells": [
  {
   "cell_type": "markdown",
   "id": "fda88f86",
   "metadata": {},
   "source": [
    "# NAMEX API Utils"
   ]
  },
  {
   "cell_type": "code",
   "execution_count": null,
   "id": "02f76746",
   "metadata": {},
   "outputs": [],
   "source": [
    "import os\n",
    "from sqlalchemy import desc\n",
    "import datedelta\n",
    "import base64\n",
    "import uuid"
   ]
  },
  {
   "cell_type": "code",
   "execution_count": null,
   "id": "78b21540",
   "metadata": {},
   "outputs": [],
   "source": [
    "NAMEX_AUTH_SVC_URL = os.getenv('NAMEX_AUTH_SVC_URL')\n",
    "NAMEX_SERVICE_CLIENT_USERNAME = os.getenv('NAMEX_SERVICE_CLIENT_USERNAME')\n",
    "NAMEX_SERVICE_CLIENT_SECRET = os.getenv('NAMEX_SERVICE_CLIENT_SECRET')\n",
    "NAMEX_SVC_URL = os.getenv('NAMEX_SVC_URL')\n",
    "PAYMENT_SVC_URL = os.getenv('PAYMENT_SVC_URL')\n",
    "PAYMENT_SVC_CLIENT_SYSTEM_NAMEX_URL = os.getenv('PAYMENT_SVC_CLIENT_SYSTEM_NAMEX_URL')\n",
    "PAYMENT_SVC_RETURN_URL = os.getenv('PAYMENT_SVC_RETURN_URL')"
   ]
  },
  {
   "cell_type": "code",
   "execution_count": null,
   "id": "020e1129",
   "metadata": {},
   "outputs": [],
   "source": [
    "def get_namex_token(verify_ssl = True):\n",
    "    payload = \"grant_type=client_credentials\"\n",
    "    basic_hash = base64.b64encode(f'{NAMEX_SERVICE_CLIENT_USERNAME}:{NAMEX_SERVICE_CLIENT_SECRET}'.encode()).decode()\n",
    "    basic_hash\n",
    "    headers = {\n",
    "      'Content-Type': 'application/x-www-form-urlencoded',\n",
    "      'Authorization': f'Basic {basic_hash}'\n",
    "    }\n",
    "\n",
    "    response = requests.request(\"POST\", NAMEX_AUTH_SVC_URL, headers=headers, data=payload, verify=verify_ssl)\n",
    "\n",
    "    namex_token = response.json()['access_token']\n",
    "    # namex_token\n",
    "    assert namex_token\n",
    "    return namex_token    "
   ]
  },
  {
   "cell_type": "code",
   "execution_count": null,
   "id": "8dbaba42",
   "metadata": {},
   "outputs": [],
   "source": [
    "def get_nr_approved_name(nr_num: str, email, verify_ssl = True):\n",
    "    url = f'{NAMEX_SVC_URL}/namerequests'\n",
    "\n",
    "    headers = {\n",
    "      'BCREG-User-Email': email,\n",
    "      'BCREG-NR': nr_num,\n",
    "      'BCREG-NRL': '',\n",
    "      'BCREG-User-Phone': ''\n",
    "    }\n",
    "\n",
    "    r = requests.get(url, headers=headers, verify=verify_ssl)\n",
    "    r.status_code, r.text\n",
    "\n",
    "    response_dict = json.loads(r.text)\n",
    "    names = response_dict['names']\n",
    "    matching_approved_names = list(filter(lambda x: x['state'] == 'APPROVED', names))\n",
    "    # print(f'matching_approved_names: {matching_approved_names}, matches: {len(matching_approved_names)}')\n",
    "    assert len(matching_approved_names) == 1\n",
    "    approved_nr_name = matching_approved_names[0]['name']\n",
    "    approved_nr_name\n",
    "    return approved_nr_name"
   ]
  },
  {
   "cell_type": "code",
   "execution_count": null,
   "id": "0314fe66",
   "metadata": {},
   "outputs": [],
   "source": [
    "def create_nr(payload: dict, verify_ssl = True):\n",
    "    url = f'{NAMEX_SVC_URL}/namerequests'\n",
    "    \n",
    "    headers = {\n",
    "      'Content-Type': 'application/json',\n",
    "    }\n",
    "\n",
    "    payload = json.dumps(create_nr_json, indent=2)\n",
    "\n",
    "    r = requests.request(\"POST\", url, headers=headers, data=payload, verify=verify_ssl)\n",
    "    r.status_code, r.text\n",
    "    return r"
   ]
  },
  {
   "cell_type": "code",
   "execution_count": null,
   "id": "6d2f0785",
   "metadata": {},
   "outputs": [],
   "source": [
    "def create_nr_payment(nr_id: int, nrl: str, email: str, payload: dict, verify_ssl = True):\n",
    "    url = f'{NAMEX_SVC_URL}/payments/{nr_id}/CREATE'\n",
    "    print(f'create payment url: {url}')\n",
    "\n",
    "\n",
    "    headers = {\n",
    "      'Content-Type': 'application/json',\n",
    "      'BCREG-User-Email': email,\n",
    "      'BCREG-NRL': nrl\n",
    "    }\n",
    "\n",
    "    payload = json.dumps(create_payment_json, indent=2)\n",
    "\n",
    "    r = requests.request(\"POST\", url, headers=headers, data=payload, verify=verify_ssl)\n",
    "    return r"
   ]
  },
  {
   "cell_type": "code",
   "execution_count": null,
   "id": "0c42a9cf",
   "metadata": {},
   "outputs": [],
   "source": [
    "def create_nr_payment_transaction(nr_id: int, payment_id: int, payment_token: str, verify_ssl = True):\n",
    "    url = f'{PAYMENT_SVC_URL}/{payment_token}/transactions'\n",
    "    payment_svc_client_sys_url = PAYMENT_SVC_CLIENT_SYSTEM_NAMEX_URL.format(nr_id = nr_id, payment_id = payment_id)\n",
    "\n",
    "    create_transaction_json = {\n",
    "      'clientSystemUrl': payment_svc_client_sys_url,\n",
    "      'payReturnUrl': PAYMENT_SVC_RETURN_URL\n",
    "    }\n",
    "    \n",
    "    headers = {\n",
    "      'Content-Type': 'application/json'\n",
    "    }\n",
    "    payload = json.dumps(create_transaction_json, indent=2)\n",
    "\n",
    "    r = requests.request(\"POST\", url, headers=headers, data=payload, verify=verify_ssl)\n",
    "    return r"
   ]
  },
  {
   "cell_type": "code",
   "execution_count": null,
   "id": "48097e34",
   "metadata": {},
   "outputs": [],
   "source": [
    "def update_nr_state(namex_token: str, nr_num: str, payload: dict, verify_ssl = True):\n",
    "    url = f'{NAMEX_SVC_URL}/requests/{nr_num}'\n",
    "    \n",
    "    headers = {\n",
    "      'Content-Type': 'application/json',\n",
    "      'Authorization': f'Bearer {namex_token}'\n",
    "    }\n",
    "\n",
    "    payload = json.dumps(payload, indent=2)\n",
    "\n",
    "    r = requests.request(\"PATCH\", url, headers=headers, data=payload, verify=verify_ssl)\n",
    "    return r"
   ]
  },
  {
   "cell_type": "code",
   "execution_count": null,
   "id": "3d01a239",
   "metadata": {},
   "outputs": [],
   "source": [
    "def update_nr_name(namex_token: str, nr_num: str, payload: dict, verify_ssl = True):\n",
    "    url = f'{NAMEX_SVC_URL}/requests/{nr_num}/names/1'\n",
    "    \n",
    "    headers = {\n",
    "      'Content-Type': 'application/json',\n",
    "      'Authorization': f'Bearer {namex_token}'\n",
    "    }\n",
    "\n",
    "    payload = json.dumps(payload, indent=2)\n",
    "\n",
    "    r = requests.request(\"PUT\", url, headers=headers, data=payload, verify=verify_ssl)\n",
    "    return r"
   ]
  }
 ],
 "metadata": {
  "kernelspec": {
   "display_name": "Python 3 (ipykernel)",
   "language": "python",
   "name": "python3"
  },
  "language_info": {
   "codemirror_mode": {
    "name": "ipython",
    "version": 3
   },
   "file_extension": ".py",
   "mimetype": "text/x-python",
   "name": "python",
   "nbconvert_exporter": "python",
   "pygments_lexer": "ipython3",
   "version": "3.9.10"
  }
 },
 "nbformat": 4,
 "nbformat_minor": 5
}
