{
 "cells": [
  {
   "cell_type": "markdown",
   "id": "fda88f86",
   "metadata": {},
   "source": [
    "# AUTH API Utils"
   ]
  },
  {
   "cell_type": "code",
   "execution_count": null,
   "id": "02f76746",
   "metadata": {},
   "outputs": [],
   "source": [
    "import os\n",
    "from sqlalchemy import desc\n",
    "import datedelta\n",
    "import base64\n",
    "import uuid"
   ]
  },
  {
   "cell_type": "code",
   "execution_count": null,
   "id": "190e5038",
   "metadata": {},
   "outputs": [],
   "source": [
    "AUTH_URL = os.getenv('AUTH_URL')\n",
    "ACCOUNT_SVC_AUTH_URL = os.getenv('ACCOUNT_SVC_AUTH_URL')\n",
    "ACCOUNT_SVC_CLIENT_ID = os.getenv('ACCOUNT_SVC_CLIENT_ID')\n",
    "ACCOUNT_SVC_CLIENT_SECRET = os.getenv('ACCOUNT_SVC_CLIENT_SECRET')\n",
    "ACCOUNT_SVC_AFFILIATE_URL = os.getenv('ACCOUNT_SVC_AFFILIATE_URL')\n",
    "ACCOUNT_SVC_ENTITY_URL = os.getenv('ACCOUNT_SVC_ENTITY_URL')"
   ]
  },
  {
   "cell_type": "code",
   "execution_count": null,
   "id": "bb82619d",
   "metadata": {},
   "outputs": [],
   "source": [
    "def get_auth_token(verify_ssl = True):\n",
    "    payload = \"grant_type=client_credentials\"\n",
    "    basic_hash = base64.b64encode(f'{ACCOUNT_SVC_CLIENT_ID}:{ACCOUNT_SVC_CLIENT_SECRET}'.encode()).decode()\n",
    "    basic_hash\n",
    "    headers = {\n",
    "      'Content-Type': 'application/x-www-form-urlencoded',\n",
    "      'Authorization': f'Basic {basic_hash}'\n",
    "    }\n",
    "\n",
    "    response = requests.request(\"POST\", ACCOUNT_SVC_AUTH_URL, headers=headers, data=payload, verify=verify_ssl)\n",
    "\n",
    "    auth_token = response.json()['access_token']\n",
    "    # auth_token\n",
    "    assert auth_token\n",
    "    return auth_token"
   ]
  },
  {
   "cell_type": "code",
   "execution_count": null,
   "id": "bd5189f9",
   "metadata": {},
   "outputs": [],
   "source": [
    "def affiliate_nr_to_account(auth_token: str, nr_num: str, email: str, account_id: int, verify_ssl = True):\n",
    "    url = ACCOUNT_SVC_AFFILIATE_URL.format(account_id=account_id)\n",
    "    url = f'{url}?newBusiness=true'\n",
    "\n",
    "    headers = {\n",
    "      'Authorization': f'Bearer {auth_token}'\n",
    "    }\n",
    "\n",
    "    payload = {\n",
    "      \"businessIdentifier\": nr_num,\n",
    "      \"phone\": \"\",\n",
    "      \"email\": email\n",
    "    }\n",
    "\n",
    "    r = requests.post(url, headers=headers, json=payload, verify=verify_ssl)\n",
    "    return r"
   ]
  },
  {
   "cell_type": "code",
   "execution_count": 1,
   "id": "c4945c5d",
   "metadata": {},
   "outputs": [],
   "source": [
    "def affiliate_nr_to_entity(auth_token: str, nr_num: str, nr_name: str, verify_ssl = True):\n",
    "    url = f'{ACCOUNT_SVC_ENTITY_URL}/{nr_num}'\n",
    "\n",
    "    headers = {\n",
    "      'Authorization': f'Bearer {auth_token}'\n",
    "    }\n",
    "\n",
    "    payload = {\n",
    "      \"businessIdentifier\": nr_num,\n",
    "      \"name\": nr_name\n",
    "    }\n",
    "\n",
    "    r = requests.patch(url, headers=headers, json=payload, verify=verify_ssl)    \n",
    "    return r    "
   ]
  },
  {
   "cell_type": "code",
   "execution_count": 1,
   "id": "41b8930c",
   "metadata": {},
   "outputs": [],
   "source": [
    "def get_identifier_from_affiliations(auth_token: str, account_id: int, nr_name: str, verify_ssl = True):\n",
    "    url = ACCOUNT_SVC_AFFILIATE_URL.format(account_id=account_id)\n",
    "    \n",
    "    headers = {\n",
    "      'Authorization': f'Bearer {auth_token}'\n",
    "    }\n",
    "\n",
    "    r = requests.get(url, headers=headers, verify=verify_ssl)\n",
    "    r.status_code, r.text\n",
    "    response_dict = json.loads(r.text)\n",
    "    entities = response_dict['entities']\n",
    "\n",
    "    matching_entities = list(filter(lambda x: x['name'] == approved_nr_name, entities))\n",
    "    # print(f'matching_entities: {matching_entities}, matches: {len(matching_entities)}')\n",
    "    assert len(matching_entities) == 1\n",
    "    identifier = matching_entities[0]['businessIdentifier']\n",
    "    return identifier"
   ]
  },
  {
   "cell_type": "code",
   "execution_count": null,
   "id": "2a7cfe7d-731a-4d87-9fa7-694d4497e982",
   "metadata": {},
   "outputs": [],
   "source": [
    "def get_account_by_affiliated_identifier(auth_token: str, identifier: str, verify_ssl = True):\n",
    "    url = f'{AUTH_URL}/orgs?affiliation={identifier}'\n",
    "    \n",
    "    headers = {\n",
    "      'Authorization': f'Bearer {auth_token}'\n",
    "    }\n",
    "\n",
    "    r = requests.get(url, headers=headers, verify=verify_ssl)\n",
    "    return r"
   ]
  }
 ],
 "metadata": {
  "kernelspec": {
   "display_name": "Python 3 (ipykernel)",
   "language": "python",
   "name": "python3"
  },
  "language_info": {
   "codemirror_mode": {
    "name": "ipython",
    "version": 3
   },
   "file_extension": ".py",
   "mimetype": "text/x-python",
   "name": "python",
   "nbconvert_exporter": "python",
   "pygments_lexer": "ipython3",
   "version": "3.9.10"
  }
 },
 "nbformat": 4,
 "nbformat_minor": 5
}
