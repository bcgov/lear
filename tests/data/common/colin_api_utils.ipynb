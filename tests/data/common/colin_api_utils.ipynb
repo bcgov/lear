{
 "cells": [
  {
   "cell_type": "markdown",
   "id": "fda88f86",
   "metadata": {},
   "source": [
    "# COLIN API Utils for getting filings"
   ]
  },
  {
   "cell_type": "code",
   "execution_count": null,
   "id": "02f76746",
   "metadata": {},
   "outputs": [],
   "source": [
    "import os\n",
    "from http import HTTPStatus\n",
    "\n",
    "import requests\n",
    "from colin_api.models.filing import Filing as ColinFiling\n",
    "from dotenv import find_dotenv, load_dotenv\n",
    "from flask import Flask\n",
    "from legal_api import db\n",
    "from legal_api.config import get_named_config\n",
    "from legal_api.models import (\n",
    "    Business,\n",
    "    Filing,\n",
    ")\n",
    "from legal_api.services import queue\n",
    "from legal_api.models.colin_event_id import ColinEventId"
   ]
  },
  {
   "cell_type": "code",
   "execution_count": null,
   "id": "daefc37c",
   "metadata": {},
   "outputs": [],
   "source": [
    "COLIN_API = os.getenv('COLIN_API')\n",
    "TIMEOUT = os.getenv('TIMEOUT', 30)\n"
   ]
  },
  {
   "cell_type": "code",
   "execution_count": null,
   "id": "37ffeac7",
   "metadata": {},
   "outputs": [],
   "source": [
    "def echo_colin_api():\n",
    "    print (f'{COLIN_API}')\n",
    "    \n",
    "def create_filing(filing_type, colin_filing, colin_event_id, corp_num):\n",
    "    \"\"\"Create legal api filing using colin filing as base\"\"\"\n",
    "    effective_date = colin_filing['filing']['business']['foundingDate']\n",
    "    colin_filing['filing']['business']['identifier'] = corp_num\n",
    "    filing = Filing(effective_date=effective_date, filing_json=colin_filing)\n",
    "    filing._filing_type = filing_type\n",
    "    filing.filing_date = effective_date\n",
    "    colin_event = ColinEventId()\n",
    "    colin_event.colin_event_id = colin_event_id\n",
    "    filing.colin_event_ids.append(colin_event)\n",
    "\n",
    "    # Override the state setting mechanism\n",
    "    filing.skip_status_listener = True\n",
    "    filing._status = 'PENDING'\n",
    "    filing.source = Filing.Source.COLIN.value\n",
    "    return filing\n",
    "\n",
    "def get_data_load_required_filing_event(legal_type, corp_num):\n",
    "    \"\"\"Determine whether corp has required filings types (incorp app or conversion ledger)\"\"\"\n",
    "    events = get_filing_events_for_corp(legal_type, corp_num)\n",
    "    match = next((x for x in events if x.get('filing_typ_cd')\n",
    "                  in ['OTINC', 'BEINC', 'ICORP', 'ICORU', 'ICORC', 'CONVL']), None)\n",
    "    return match\n",
    "\n",
    "def get_filing_events_for_corp(legal_type, corp_num):\n",
    "    \"\"\"Retrieve filing events for a given corp\"\"\"\n",
    "    colin_corp_num = corp_num\n",
    "    if(legal_type == Business.LegalTypes.COMP.value):\n",
    "        colin_corp_num = corp_num[-7:]\n",
    "\n",
    "    r = requests.get(f'{COLIN_API}/api/v1/businesses/event/corp_num/{colin_corp_num}', timeout=TIMEOUT)\n",
    "    if r.status_code != HTTPStatus.OK or not r.json():\n",
    "        return None\n",
    "\n",
    "    events = dict(r.json()).get('events', [])\n",
    "    return events\n",
    "\n",
    "def get_filing(colin_filing_type, legal_type, event_info: dict = None):  # pylint: disable=redefined-outer-name\n",
    "    \"\"\"Get filing for a given event from colin\"\"\"\n",
    "    identifier = event_info['corp_num']\n",
    "    event_id = event_info['event_id']\n",
    "    print(f'{COLIN_API}/api/v1/businesses/{legal_type}/{identifier}/filings/{colin_filing_type}?eventId={event_id}')\n",
    "    response = requests.get(\n",
    "        f'{COLIN_API}/api/v1/businesses/{legal_type}/{identifier}/filings/{colin_filing_type}?eventId={event_id}'\n",
    "    )\n",
    "    print(response.json())\n",
    "    filing = dict(response.json())\n",
    "    return filing\n",
    "\n",
    "def get_filing_type(filing_typ_cd):\n",
    "    \"\"\"Get generic filing type \"\"\"\n",
    "    filing_types = ColinFiling.FILING_TYPES.keys()\n",
    "    match = next((x for x in filing_types\n",
    "                  if filing_typ_cd in ColinFiling.FILING_TYPES.get(x).get('type_code_list')),\n",
    "                 None)\n",
    "    return match"
   ]
  }
 ],
 "metadata": {
  "kernelspec": {
   "display_name": "Python 3 (ipykernel)",
   "language": "python",
   "name": "python3"
  },
  "language_info": {
   "codemirror_mode": {
    "name": "ipython",
    "version": 3
   },
   "file_extension": ".py",
   "mimetype": "text/x-python",
   "name": "python",
   "nbconvert_exporter": "python",
   "pygments_lexer": "ipython3",
   "version": "3.9.7"
  }
 },
 "nbformat": 4,
 "nbformat_minor": 5
}
