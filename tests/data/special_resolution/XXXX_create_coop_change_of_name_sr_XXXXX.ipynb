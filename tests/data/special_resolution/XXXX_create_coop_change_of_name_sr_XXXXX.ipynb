{
 "cells": [
  {
   "cell_type": "markdown",
   "metadata": {},
   "source": [
    "# Create Cooperative Change of Name Special Resolution"
   ]
  },
  {
   "cell_type": "markdown",
   "metadata": {},
   "source": [
    "## Setup environment\n",
    "Before running following environment setup snippets, ensure environment variables found in `default-bcr-business-setup-TEST` notebook contain the correct values."
   ]
  },
  {
   "cell_type": "code",
   "execution_count": null,
   "metadata": {},
   "outputs": [],
   "source": [
    "%run /workspaces/lear/tests/data/default-bcr-business-setup-TEST.ipynb"
   ]
  },
  {
   "cell_type": "code",
   "execution_count": null,
   "metadata": {},
   "outputs": [],
   "source": [
    "%run /workspaces/lear/tests/data/common/legal_api_utils.ipynb\n",
    "%run /workspaces/lear/tests/data/common/legal_api_utils_test_payload_data.ipynb\n",
    "%run /workspaces/lear/tests/data/common/namex_api_utils.ipynb\n",
    "%run /workspaces/lear/tests/data/common/auth_api_utils.ipynb"
   ]
  },
  {
   "cell_type": "code",
   "execution_count": null,
   "metadata": {
    "tags": []
   },
   "outputs": [],
   "source": [
    "import copy\n",
    "import re\n",
    "import json\n",
    "from legal_api.core import Filing as CoreFiling\n",
    "from legal_api.models import Business, Comment, Filing, RegistrationBootstrap\n",
    "from legal_api.utils.datetime import date, datetime"
   ]
  },
  {
   "cell_type": "markdown",
   "metadata": {},
   "source": [
    "## Input Values for filing\n",
    "Please update following values to appropriate values before running subsequent code snippets!!"
   ]
  },
  {
   "cell_type": "code",
   "execution_count": null,
   "metadata": {},
   "outputs": [],
   "source": [
    "verify_ssl=True # set to False if using proxy to debug requests\n",
    "\n",
    "dt = datetime.utcnow()\n",
    "dt_str = dt.strftime(\"%Y-%m-%d\")\n",
    "\n",
    "legal_type = 'CP'\n",
    "filing_type = 'specialResolution'\n",
    "\n",
    "# Replace following placeholders(<placeholder>) with appropriate values\n",
    "identifier = '<placeholder>' # expected format CP1002533\n",
    "change_of_name_nr_num = '<placeholder>' # change of name nr.  expected format \"NR 6771356\"\n",
    "email = '<placeholder>'\n",
    "effectiveDate = '<placeholder>' # should be in format 2022-03-01T07:01:00+00:00\n",
    "\n",
    "certified_by = '<placeholder>'\n",
    "\n",
    "signatory_given_name = '<placeholder>'\n",
    "signatory_family_name = '<placeholder>'\n",
    "signatory_additional_name = '<placeholder>' # use None if not additional name is required\n",
    "\n",
    "resolution_text = '<placeholder>'\n",
    "signing_date = '<placeholder>' # should be in format 2022-01-11\n",
    "resolution_date = '<placeholder>' # should be in format 2022-01-11\n",
    "\n",
    "# fill in applicable payment related details\n",
    "# routing_slip_number is used when paying with routing slip\n",
    "routing_slip_number = None # optional - should be in format '650000001'\n",
    "# bcol_account_number and dat_number are used when paying with BCOL\n",
    "bcol_account_number = None # optional - should be in format '109970'\n",
    "dat_number = None # optional - should be in format 'C8473902'\n",
    "folio_number = None # optional - should be in format '1111110000'\n",
    "\n",
    "dt_str, legal_type, identifier, change_of_name_nr_num, email, \\\n",
    "signatory_given_name, signatory_family_name, signatory_additional_name, \\\n",
    "resolution_text, signing_date, resolution_date, \\\n",
    "routing_slip_number, bcol_account_number, dat_number, folio_number"
   ]
  },
  {
   "cell_type": "markdown",
   "metadata": {},
   "source": [
    "## Tokens"
   ]
  },
  {
   "cell_type": "code",
   "execution_count": null,
   "metadata": {},
   "outputs": [],
   "source": [
    "auth_token = get_auth_token(verify_ssl)\n",
    "assert auth_token\n",
    "# auth_token"
   ]
  },
  {
   "cell_type": "code",
   "execution_count": null,
   "metadata": {},
   "outputs": [],
   "source": [
    "lear_token = get_lear_token(verify_ssl)\n",
    "assert lear_token\n",
    "# lear_token"
   ]
  },
  {
   "cell_type": "markdown",
   "metadata": {},
   "source": [
    "### Get NR Info"
   ]
  },
  {
   "cell_type": "code",
   "execution_count": null,
   "metadata": {},
   "outputs": [],
   "source": [
    "legal_name = get_nr_approved_name(change_of_name_nr_num, email, verify_ssl)\n",
    "legal_name"
   ]
  },
  {
   "cell_type": "markdown",
   "metadata": {},
   "source": [
    "## Get Account Info"
   ]
  },
  {
   "cell_type": "code",
   "execution_count": null,
   "metadata": {},
   "outputs": [],
   "source": [
    "\n",
    "r = get_account_by_affiliated_identifier(auth_token, identifier, verify_ssl)\n",
    "assert r.status_code == 200\n",
    "account_info = r.json()\n",
    "\n",
    "account_number = account_info['orgs'][0]['id']\n",
    "account_number, account_info\n"
   ]
  },
  {
   "cell_type": "markdown",
   "metadata": {},
   "source": [
    "## Create Special Resolution Filing"
   ]
  },
  {
   "cell_type": "code",
   "execution_count": null,
   "metadata": {},
   "outputs": [],
   "source": [
    "\n",
    "filing_json = factory_empty_coop_special_resolution_payload()\n",
    "filing_json['filing']['header']['date'] = dt_str\n",
    "filing_json['filing']['header']['certifiedBy'] = certified_by\n",
    "if routing_slip_number:\n",
    "    filing_json['filing']['header']['routingSlipNumber'] = routing_slip_number\n",
    "if bcol_account_number:\n",
    "    filing_json['filing']['header']['bcolAccountNumber'] = bcol_account_number\n",
    "if dat_number:\n",
    "    filing_json['filing']['header']['datNumber'] = dat_number\n",
    "if folio_number:\n",
    "    filing_json['filing']['header']['folioNumber'] = folio_number\n",
    "\n",
    "filing_json['filing']['changeOfName']['nameRequest']['nrNumber'] = change_of_name_nr_num\n",
    "filing_json['filing']['changeOfName']['nameRequest']['legalName'] = legal_name\n",
    "\n",
    "filing_json['filing']['specialResolution']['resolution'] = resolution_text\n",
    "filing_json['filing']['specialResolution']['signingDate'] = signing_date\n",
    "filing_json['filing']['specialResolution']['resolutionDate'] = resolution_date\n",
    "\n",
    "filing_json['filing']['specialResolution']['signatory']['givenName'] = signatory_given_name\n",
    "filing_json['filing']['specialResolution']['signatory']['familyName'] = signatory_family_name\n",
    "if signatory_additional_name:\n",
    "    filing_json['filing']['specialResolution']['signatory']['additionalName'] = signatory_additional_name\n",
    "else:\n",
    "    del filing_json['filing']['specialResolution']['signatory']['additionalName']\n",
    "\n",
    "# print(json.dumps(filing_json, indent=4))\n",
    "\n",
    "business = Business.find_by_identifier(identifier)\n",
    "\n",
    "filing = Filing()\n",
    "filing.effective_date=datetime.fromisoformat(effectiveDate)\n",
    "filing.business_id = business.id\n",
    "filing._filing_json = filing_json\n",
    "filing._filing_type = filing_type\n",
    "filing.filing_date = datetime.fromisoformat(effectiveDate)\n",
    "\n",
    "\n",
    "# Override the state setting mechanism\n",
    "filing.skip_status_listener = True\n",
    "filing._status = Filing.Status.PENDING.value\n",
    "filing.source = Filing.Source.LEAR.value\n",
    "\n",
    "# print(json.dumps(filing.json, indent=4))"
   ]
  },
  {
   "cell_type": "code",
   "execution_count": null,
   "metadata": {},
   "outputs": [],
   "source": [
    "filing.save()\n",
    "filing_id = filing.id\n",
    "filing_id"
   ]
  },
  {
   "cell_type": "markdown",
   "metadata": {},
   "source": [
    "## Manually place on the Q for processing"
   ]
  },
  {
   "cell_type": "code",
   "execution_count": null,
   "metadata": {},
   "outputs": [],
   "source": [
    "processed_filing = Filing.find_by_id(filing_id)\n",
    "processed_filing.status"
   ]
  },
  {
   "cell_type": "code",
   "execution_count": null,
   "metadata": {},
   "outputs": [],
   "source": [
    "mailing_address = business.mailing_address.one_or_none()\n",
    "mailing_address"
   ]
  },
  {
   "cell_type": "code",
   "execution_count": null,
   "metadata": {},
   "outputs": [],
   "source": [
    "filing_types = [{ 'filingTypeCode': 'SPRLN', 'priority': False, 'waiveFees': False },\n",
    "                { 'filingTypeCode': 'OTCON', 'priority': False, 'waiveFees': False }]\n",
    "\n",
    "invoice = create_invoice(business=business,\n",
    "                         corp_type=legal_type,\n",
    "                         mailing_address=mailing_address,\n",
    "                         filing_types=filing_types,\n",
    "                         routing_slip_number=routing_slip_number,\n",
    "                         bcol_account_number=bcol_account_number,\n",
    "                         dat_number=dat_number,\n",
    "                         folio_number=folio_number)\n",
    "\n",
    "invoice"
   ]
  },
  {
   "cell_type": "code",
   "execution_count": null,
   "metadata": {},
   "outputs": [],
   "source": [
    "r = submit_filing_invoice(lear_token, invoice, verify_ssl)\n",
    "print(f'status_code: {r.status_code}')\n",
    "if r.status_code != 201:\n",
    "    print(f'status code: {r.status_code}, response: {r.json()}')\n",
    "assert r.status_code == 201\n",
    "\n",
    "payment_id = r.json().get('id')\n",
    "\n",
    "processed_filing._payment_token = payment_id\n",
    "processed_filing.payment_status_code = r.json().get('statusCode', '')\n",
    "processed_filing.payment_account = account_number\n",
    "processed_filing.save()\n",
    "\n",
    "payment_id, r.json()"
   ]
  },
  {
   "cell_type": "code",
   "execution_count": null,
   "metadata": {},
   "outputs": [],
   "source": []
  }
 ],
 "metadata": {
  "kernelspec": {
   "display_name": "Python 3 (ipykernel)",
   "language": "python",
   "name": "python3"
  },
  "language_info": {
   "codemirror_mode": {
    "name": "ipython",
    "version": 3
   },
   "file_extension": ".py",
   "mimetype": "text/x-python",
   "name": "python",
   "nbconvert_exporter": "python",
   "pygments_lexer": "ipython3",
   "version": "3.9.10"
  }
 },
 "nbformat": 4,
 "nbformat_minor": 4
}
