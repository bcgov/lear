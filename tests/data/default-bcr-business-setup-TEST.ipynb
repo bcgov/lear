{
 "cells": [
  {
   "cell_type": "code",
   "execution_count": null,
   "metadata": {},
   "outputs": [],
   "source": [
    "# %%capture\n",
    "# %env DATABASE_USERNAME=\n",
    "# %env DATABASE_PASSWORD=\n",
    "# %env DATABASE_NAME=legal_db\n",
    "# %env DATABASE_HOST=host.docker.internal\n",
    "# %env DATABASE_PORT=5432\n",
    "# %env SECRET_KEY=ops\n",
    "# %env LEGAL_URL=https://legal-api-dev.pathfinder.gov.bc.ca/api/v1/businesses\n",
    "# %env ACCOUNT_SVC_AUTH_URL=https://sso-dev.pathfinder.gov.bc.ca/auth/realms/fcf0kpqr/protocol/openid-connect/token\n",
    "# %env ACCOUNT_SVC_CLIENT_ID=<account>\n",
    "# %env ACCOUNT_SVC_CLIENT_SECRET=<secret>\n",
    "# %env NAMEX_AUTH_SVC_URL=https://sso-dev.pathfinder.gov.bc.ca/auth/realms/sbc/protocol/openid-connect/token\n",
    "# %env NAMEX_SERVICE_CLIENT_USERNAME=<account>\n",
    "# %env NAMEX_SERVICE_CLIENT_SECRET=<secret>\n",
    "# %env NAMEX_SVC_URL=https://namex-dev.pathfinder.gov.bc.ca/api/v1/\n",
    "# %env AUTH_URL=https://auth-api-dev.pathfinder.gov.bc.ca/api/v1\n",
    "# %env ACCOUNT_SVC_ENTITY_URL=https://auth-api-dev.pathfinder.gov.bc.ca/api/v1/entities\n",
    "# %env ACCOUNT_SVC_AFFILIATE_URL=https://auth-api-dev.pathfinder.gov.bc.ca/api/v1/orgs/{account_id}/affiliations\n",
    "# %env COLIN_API=http://colin-api-dev.cc892f-dev.svc:8080\n"
   ]
  },
  {
   "cell_type": "code",
   "execution_count": null,
   "metadata": {},
   "outputs": [],
   "source": [
    "%%capture\n",
    "%env DATABASE_USERNAME=postgres\n",
    "%env DATABASE_PASSWORD=\n",
    "%env DATABASE_NAME=lear\n",
    "%env DATABASE_HOST=host.docker.internal\n",
    "%env DATABASE_PORT=5353\n",
    "%env SECRET_KEY=ops\n",
    "%env LEGAL_URL=https://legal-api-dev.apps.silver.devops.gov.bc.ca/api/v1/businesses\n",
    "%env LEGAL_SVC_CLIENT_ID=\n",
    "%env LEGAL_SVC_CLIENT_SECRET=\n",
    "%env ACCOUNT_SVC_AUTH_URL=https://dev.oidc.gov.bc.ca/auth/realms/fcf0kpqr/protocol/openid-connect/token\n",
    "%env ACCOUNT_SVC_CLIENT_ID=\n",
    "%env ACCOUNT_SVC_CLIENT_SECRET=\n",
    "%env NAMEX_AUTH_SVC_URL=https://dev.oidc.gov.bc.ca/auth/realms/fcf0kpqr/protocol/openid-connect/token\n",
    "%env NAMEX_SERVICE_CLIENT_USERNAME=\n",
    "%env NAMEX_SERVICE_CLIENT_SECRET=\n",
    "%env NAMEX_SVC_URL=https://namex-dev.apps.silver.devops.gov.bc.ca/api/v1\n",
    "%env AUTH_URL=https://auth-api-dev.apps.silver.devops.gov.bc.ca/api/v1\n",
    "%env ACCOUNT_SVC_ENTITY_URL=https://auth-api-dev.apps.silver.devops.gov.bc.ca/api/v1/entities\n",
    "%env ACCOUNT_SVC_AFFILIATE_URL=https://auth-api-dev.apps.silver.devops.gov.bc.ca/api/v1/orgs/{account_id}/affiliations\n",
    "%env COLIN_API=http://localhost:5000\n",
    "%env NATS_SERVERS=nats://host.docker.internal:4222\n",
    "%env NATS_CLIENT_NAME=entity.filing.filer.worker\n",
    "%env NATS_CLUSTER_ID=test-cluster\n",
    "%env NATS_FILER_SUBJECT=entity.filing.filer\n",
    "%env NATS_ENTITY_EVENT_SUBJECT=entity.events\n",
    "%env NATS_QUEUE=filing-worker\n",
    "%env DEPLOYMENT_ENV=production\n",
    "%env PAYMENT_SVC_URL=https://pay-api-dev.apps.silver.devops.gov.bc.ca/api/v1/payment-requests\n",
    "%env PAYMENT_SVC_CLIENT_SYSTEM_NAMEX_URL=https://dev.bcregistry.ca/namerequest/nr/{nr_id}/?paymentId={payment_id}\n",
    "%env PAYMENT_SVC_CLIENT_SYSTEM_FILING_URL=https://dev.bcregistry.ca/business/{temp_identifier}\n",
    "%env PAYMENT_SVC_RETURN_URL=https://dev.bcregistry.ca/business/auth/returnpayment"
   ]
  },
  {
   "cell_type": "code",
   "execution_count": 2,
   "metadata": {},
   "outputs": [
    {
     "name": "stderr",
     "output_type": "stream",
     "text": [
      "/opt/conda/lib/python3.9/site-packages/jose/backends/cryptography_backend.py:18: CryptographyDeprecationWarning: int_from_bytes is deprecated, use int.from_bytes instead\n",
      "  from cryptography.utils import int_from_bytes, int_to_bytes\n",
      "Unable to configure logging, attempted conf:/opt/conda/lib/python3.9/site-packages/legal_api/logging.conf\n"
     ]
    }
   ],
   "source": [
    "import datetime\n",
    "import os\n",
    "import flask\n",
    "import sqlalchemy\n",
    "import psycopg2\n",
    "import simplejson\n",
    "import pandas as pd\n",
    "import matplotlib\n",
    "import legal_api\n",
    "import requests\n",
    "from legal_api.models import Business\n",
    "from legal_api.services.namex import NameXService\n",
    "from legal_api.services.bootstrap import AccountService\n",
    "from legal_api.services import queue\n",
    "from IPython.core.display import HTML\n",
    "%reload_ext sql\n",
    "%config SqlMagic.displaylimit = 5\n",
    "%config Application.log_level=\"ERROR\""
   ]
  },
  {
   "cell_type": "code",
   "execution_count": 3,
   "metadata": {},
   "outputs": [],
   "source": [
    "import flask\n",
    "APP_CONFIG = legal_api.config.get_named_config(os.getenv('DEPLOYMENT_ENV', 'production'))\n",
    "FLASK_APP = flask.Flask(__name__)\n",
    "FLASK_APP.config.from_object(APP_CONFIG)\n",
    "legal_api.db.init_app(FLASK_APP)\n",
    "queue.init_app(FLASK_APP)\n",
    "FLASK_APP.app_context().push()"
   ]
  },
  {
   "cell_type": "code",
   "execution_count": null,
   "metadata": {},
   "outputs": [],
   "source": [
    "def stop_on_false(test: bool, test_name: str):\n",
    "    # this will bail out of the execution if called by papermill\n",
    "    #     failure_condition=True\n",
    "    #     assert not test, test_name\n",
    "    assert test, test_name"
   ]
  },
  {
   "cell_type": "code",
   "execution_count": null,
   "metadata": {},
   "outputs": [],
   "source": [
    "def stop_on_true(test: bool, test_name: str):\n",
    "    # this will bail out of the execution if called by papermill\n",
    "    #     failure_condition=True\n",
    "    assert not test, test_name"
   ]
  },
  {
   "cell_type": "code",
   "execution_count": null,
   "metadata": {},
   "outputs": [],
   "source": [
    "from legal_api.models import Filing, db\n",
    "from sqlalchemy import or_\n",
    "def get_latest_correction_filing(business_id: str) -> Filing:\n",
    "  filing_type='correction'\n",
    "  expr = Filing._filing_json[('filing', filing_type)]\n",
    "  max_filing = db.session.query(db.func.max(Filing._filing_date).label('last_filing_date')).\\\n",
    "            filter(Filing.business_id == business_id).\\\n",
    "            filter(or_(Filing._filing_type == filing_type,\n",
    "                       expr.label('legal_filing_type').isnot(None))).\\\n",
    "            subquery()\n",
    "  filings = Filing.query.join(max_filing, Filing._filing_date == max_filing.c.last_filing_date). \\\n",
    "            filter(Filing.business_id == business_id). \\\n",
    "            order_by(Filing.id.desc())\n",
    "\n",
    "  return filings.first()"
   ]
  },
  {
   "cell_type": "code",
   "execution_count": null,
   "metadata": {},
   "outputs": [],
   "source": []
  }
 ],
 "metadata": {
  "kernelspec": {
   "display_name": "Python 3 (ipykernel)",
   "language": "python",
   "name": "python3"
  },
  "language_info": {
   "codemirror_mode": {
    "name": "ipython",
    "version": 3
   },
   "file_extension": ".py",
   "mimetype": "text/x-python",
   "name": "python",
   "nbconvert_exporter": "python",
   "pygments_lexer": "ipython3",
   "version": "3.9.7"
  }
 },
 "nbformat": 4,
 "nbformat_minor": 4
}