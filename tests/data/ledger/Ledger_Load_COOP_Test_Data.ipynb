{
 "cells": [
  {
   "cell_type": "markdown",
   "id": "726311c4",
   "metadata": {},
   "source": [
    "# Load COOP Test Data\n",
    "## load example filings for the ledger (not complete filings)\n",
    "downstream integrations (like receipts) wont actually work"
   ]
  },
  {
   "cell_type": "markdown",
   "id": "5e254b7a",
   "metadata": {},
   "source": [
    "### Setup Environment"
   ]
  },
  {
   "cell_type": "code",
   "execution_count": null,
   "id": "6c3ffc35",
   "metadata": {},
   "outputs": [],
   "source": [
    "# using TEST database\n",
    "%run /workspaces/lear/tests/data/default-bcr-business-setup-TEST.ipynb"
   ]
  },
  {
   "cell_type": "code",
   "execution_count": null,
   "id": "0ff53604",
   "metadata": {},
   "outputs": [],
   "source": [
    "%run /workspaces/lear/tests/data/common/legal_api_utils_test_data.ipynb"
   ]
  },
  {
   "cell_type": "code",
   "execution_count": null,
   "id": "f9f4c5cb",
   "metadata": {},
   "outputs": [],
   "source": [
    "import copy\n",
    "import re\n",
    "import datedelta\n",
    "from legal_api.core import Filing as CoreFiling\n",
    "from legal_api.models import Comment, Filing, RegistrationBootstrap\n",
    "from legal_api.utils.datetime import date, datetime, timezone"
   ]
  },
  {
   "cell_type": "markdown",
   "id": "68cf140c",
   "metadata": {},
   "source": [
    "### Setup the Business Info"
   ]
  },
  {
   "cell_type": "code",
   "execution_count": null,
   "id": "e32e669c",
   "metadata": {},
   "outputs": [],
   "source": [
    "identifier = 'CP0000840'\n",
    "legal_type = identifier[:re.search(r\"\\d\", identifier).start()]\n",
    "identifier, legal_type"
   ]
  },
  {
   "cell_type": "code",
   "execution_count": null,
   "id": "26b668a6",
   "metadata": {},
   "outputs": [],
   "source": [
    "if business := legal_api.models.Business.find_by_identifier(identifier):\n",
    "        print(f'{identifier} already exisit in LEAR, DO NOT ATTENP TO LOAD IT AGAIN')\n",
    "assert not business, \"Business already exists, if you want to build it, set build to True and run the next cell.\""
   ]
  },
  {
   "cell_type": "code",
   "execution_count": null,
   "id": "e5b106ea",
   "metadata": {},
   "outputs": [],
   "source": [
    "create_business = True\n",
    "if create_business:\n",
    "    current_time = datetime.utcnow()\n",
    "    business = Business(legal_name=f'legal_name-{identifier}',\n",
    "                        founding_date=(current_time - datedelta.datedelta(years=4)),\n",
    "                        last_ar_date=current_time,\n",
    "                        last_ar_year=current_time.year,\n",
    "#                         last_coa_date=current_time,\n",
    "#                         last_cod_date=current_time,\n",
    "                        last_ledger_timestamp=current_time,\n",
    "                        # dissolution_date=EPOCH_DATETIME,\n",
    "                        identifier=identifier,\n",
    "#                         tax_id='BN123456789',\n",
    "                        fiscal_year_end_date=current_time,\n",
    "                        legal_type=legal_type)\n",
    "    business.save()\n",
    "business.id, business.legal_name, business.founding_date"
   ]
  },
  {
   "cell_type": "code",
   "execution_count": null,
   "id": "828bca4d",
   "metadata": {},
   "outputs": [],
   "source": [
    "bootstrap = RegistrationBootstrap()\n",
    "bootstrap.identifier = 'T22121212'\n",
    "bootstrap.account = 446\n",
    "bootstrap.save()"
   ]
  },
  {
   "cell_type": "markdown",
   "id": "a26466e8",
   "metadata": {},
   "source": [
    "### Create Incorporation Application"
   ]
  },
  {
   "cell_type": "code",
   "execution_count": null,
   "id": "ba953d5f",
   "metadata": {},
   "outputs": [],
   "source": [
    "filing_name = 'incorporationApplication'\n",
    "filing_date = datetime(2017, 10, 1, 0, 2, 26, 768706, tzinfo=timezone.utc)\n",
    "# filing_date = business.founding_date\n",
    "filing_month = 0\n",
    "filing_json = copy.deepcopy(FILING_HEADER)\n",
    "filing_json['filing'].pop('business')\n",
    "filing_json['filing']['header']['name'] = filing_name\n",
    "filing_json['filing'][filing_name] = INCORPORATION\n",
    "filing_json\n",
    "# filing = factory_completed_filing(business, filing_json, filing_date, payment_token=None, colin_id=None)\n",
    "filing = factory_pending_IA_filing(bootstrap, filing_json, filing_date, payment_token=None, colin_id=None)\n",
    "\n",
    "filing_meta = {\n",
    "    'legalFilings':[filing_name,],\n",
    "    filing_name:{\n",
    "}}\n",
    "meta_data = {**{'applicationDate': filing_date.date().isoformat()}, **filing_meta}\n",
    "\n",
    "filing._meta_data = meta_data\n",
    "filing.save()"
   ]
  },
  {
   "cell_type": "code",
   "execution_count": null,
   "id": "79af20f1",
   "metadata": {},
   "outputs": [],
   "source": [
    "filing.id"
   ]
  },
  {
   "cell_type": "code",
   "execution_count": null,
   "id": "4600ea41",
   "metadata": {},
   "outputs": [],
   "source": [
    "filing_name = 'incorporationApplication'\n",
    "filing_date = business.founding_date\n",
    "filing_month = 0\n",
    "filing_json = copy.deepcopy(FILING_HEADER)\n",
    "filing_json['filing'].pop('business')\n",
    "filing_json['filing']['header']['name'] = filing_name\n",
    "filing_json['filing'][filing_name] = INCORPORATION\n",
    "filing_json"
   ]
  },
  {
   "cell_type": "code",
   "execution_count": null,
   "id": "00dc0532",
   "metadata": {},
   "outputs": [],
   "source": [
    "ledger = CoreFiling.ledger(business.id)\n",
    "ledger_filing = next((f for f in ledger if f.get('filingId')==filing.id), None)\n",
    "\n",
    "assert ledger_filing['displayName'] == 'Incorporation Application'"
   ]
  },
  {
   "cell_type": "markdown",
   "id": "252de29a",
   "metadata": {},
   "source": [
    "### Create Alteration"
   ]
  },
  {
   "cell_type": "code",
   "execution_count": null,
   "id": "e3089617",
   "metadata": {},
   "outputs": [],
   "source": [
    "filing_name = 'alteration'\n",
    "filing_date = business.founding_date + datedelta.datedelta(months=filing_month)\n",
    "filing_month += 1\n",
    "filing_json = copy.deepcopy(FILING_HEADER)\n",
    "filing_json['filing']['header']['name'] = filing_name\n",
    "filing_json['filing'][filing_name] = ALTERATION\n",
    "filing_json\n",
    "filing = factory_completed_filing(business, filing_json, filing_date, payment_token=None, colin_id=None)\n",
    "\n",
    "filing_meta = {\n",
    "    'legalFilings':[filing_name,],\n",
    "    filing_name:{\n",
    "    'fromLegalType': 'BC',\n",
    "    'toLegalType': 'BEN'\n",
    "}}\n",
    "meta_data = {**{'applicationDate': filing_date.date().isoformat()}, **filing_meta}\n",
    "\n",
    "filing.court_order_file_number = ALTERATION['courtOrder']['fileNumber']\n",
    "filing.court_order_date = ALTERATION['courtOrder']['orderDate']\n",
    "filing.court_order_effect_of_order = ALTERATION['courtOrder']['effectOfOrder']\n",
    "filing.order_details = ALTERATION['courtOrder']['orderDetails']\n",
    "\n",
    "filing._meta_data = meta_data\n",
    "filing.save()"
   ]
  },
  {
   "cell_type": "code",
   "execution_count": null,
   "id": "ba2bbdcc",
   "metadata": {},
   "outputs": [],
   "source": [
    "ledger = CoreFiling.ledger(business.id)\n",
    "ledger_filing = next((f for f in ledger if f.get('filingId')==filing.id), None)\n",
    "\n",
    "assert ledger_filing['displayName'] == 'Alteration'\n",
    "# assert ledger_filing['data'] == meta_data "
   ]
  },
  {
   "cell_type": "markdown",
   "id": "967aa973",
   "metadata": {},
   "source": [
    "### Create Change of Address"
   ]
  },
  {
   "cell_type": "code",
   "execution_count": null,
   "id": "97854971",
   "metadata": {},
   "outputs": [],
   "source": [
    "filing_name = 'changeOfAddress'\n",
    "filing_date = business.founding_date + datedelta.datedelta(months=filing_month)\n",
    "filing_month += 1\n",
    "filing_json = copy.deepcopy(FILING_HEADER)\n",
    "filing_json['filing']['header']['name'] = filing_name\n",
    "filing_json['filing'][filing_name] = CHANGE_OF_ADDRESS\n",
    "filing_json\n",
    "filing = factory_completed_filing(business, filing_json, filing_date, payment_token=None, colin_id=None)\n",
    "\n",
    "filing_meta = {\n",
    "    'legalFilings':[filing_name,],\n",
    "    filing_name:{\n",
    "}}\n",
    "meta_data = {**{'applicationDate': filing_date.date().isoformat()}, **filing_meta}\n",
    "\n",
    "filing._meta_data = meta_data\n",
    "filing.save()\n",
    "\n",
    "ledger = CoreFiling.ledger(business.id)\n",
    "ledger_filing = next((f for f in ledger if f.get('filingId')==filing.id), None)\n",
    "\n",
    "assert ledger_filing['displayName'] == 'Address Change'\n",
    "assert ledger_filing['data'] == meta_data"
   ]
  },
  {
   "cell_type": "markdown",
   "id": "bfb7a374",
   "metadata": {},
   "source": [
    "### Create Change of Directors"
   ]
  },
  {
   "cell_type": "code",
   "execution_count": null,
   "id": "f1b96cf9",
   "metadata": {},
   "outputs": [],
   "source": [
    "filing_name = 'changeOfDirectors'\n",
    "filing_date = business.founding_date + datedelta.datedelta(months=filing_month)\n",
    "filing_month += 1\n",
    "filing_json = copy.deepcopy(FILING_HEADER)\n",
    "filing_json['filing']['header']['name'] = filing_name\n",
    "filing_json['filing'][filing_name] = CHANGE_OF_DIRECTORS\n",
    "filing_json\n",
    "filing = factory_completed_filing(business, filing_json, filing_date, payment_token=None, colin_id=None)\n",
    "\n",
    "filing_meta = {\n",
    "    'legalFilings':[filing_name,],\n",
    "    filing_name:{\n",
    "}}\n",
    "meta_data = {**{'applicationDate': filing_date.date().isoformat()}, **filing_meta}\n",
    "\n",
    "filing._meta_data = meta_data\n",
    "filing.save()\n",
    "\n",
    "ledger = CoreFiling.ledger(business.id)\n",
    "ledger_filing = next((f for f in ledger if f.get('filingId')==filing.id), None)\n",
    "\n",
    "assert ledger_filing['displayName'] == 'Director Change'\n",
    "assert ledger_filing['data'] == meta_data"
   ]
  },
  {
   "cell_type": "markdown",
   "id": "39719647",
   "metadata": {},
   "source": [
    "### Create Annual Report"
   ]
  },
  {
   "cell_type": "code",
   "execution_count": null,
   "id": "63db0ddc",
   "metadata": {},
   "outputs": [],
   "source": [
    "filing_name = 'annualReport'\n",
    "filing_date = business.founding_date + datedelta.datedelta(months=filing_month)\n",
    "filing_month += 1\n",
    "filing_json = copy.deepcopy(FILING_HEADER)\n",
    "filing_json['filing']['header']['name'] = filing_name\n",
    "filing_json['filing'][filing_name] = ANNUAL_REPORT\n",
    "filing_json\n",
    "filing = factory_completed_filing(business, filing_json, filing_date, payment_token=None, colin_id=None)\n",
    "\n",
    "iso_date = filing_date.date().isoformat()\n",
    "filing_meta = {\n",
    "    'legalFilings':[filing_name,],\n",
    "    filing_name:{\n",
    "        'annualReportDate': iso_date,\n",
    "        'annualGeneralMeetingDate': iso_date\n",
    "}}\n",
    "meta_data = {**{'applicationDate': iso_date}, **filing_meta}\n",
    "\n",
    "filing._meta_data = meta_data\n",
    "filing.save()\n",
    "\n",
    "ledger = CoreFiling.ledger(business.id)\n",
    "ledger_filing = next((f for f in ledger if f.get('filingId')==filing.id), None)\n",
    "\n",
    "assert ledger_filing['displayName'] == f'Annual Report ({date.fromisoformat(iso_date).year})'\n",
    "assert ledger_filing['data'] == meta_data"
   ]
  },
  {
   "cell_type": "markdown",
   "id": "3b39656e",
   "metadata": {},
   "source": [
    "### Create Conversion"
   ]
  },
  {
   "cell_type": "code",
   "execution_count": null,
   "id": "b76f6dc8",
   "metadata": {},
   "outputs": [],
   "source": [
    "filing_name = 'conversion'\n",
    "filing_date = business.founding_date + datedelta.datedelta(months=filing_month)\n",
    "filing_month += 1\n",
    "filing_json = copy.deepcopy(FILING_HEADER)\n",
    "filing_json['filing']['header']['name'] = filing_name\n",
    "filing_json['filing'][filing_name] = CONVERSION\n",
    "filing_json\n",
    "filing = factory_completed_filing(business, filing_json, filing_date, payment_token=None, colin_id=None)\n",
    "\n",
    "filing_meta = {\n",
    "    'legalFilings':[filing_name,],\n",
    "    filing_name:{\n",
    "}}\n",
    "meta_data = {**{'applicationDate': filing_date.date().isoformat()}, **filing_meta}\n",
    "\n",
    "filing._meta_data = meta_data\n",
    "filing.save()\n",
    "\n",
    "ledger = CoreFiling.ledger(business.id)\n",
    "ledger_filing = next((f for f in ledger if f.get('filingId')==filing.id), None)\n",
    "\n",
    "assert ledger_filing['displayName'] == 'Conversion'\n",
    "assert ledger_filing['data'] == meta_data"
   ]
  },
  {
   "cell_type": "markdown",
   "id": "b15013f6",
   "metadata": {},
   "source": [
    "### Create Special Resolution"
   ]
  },
  {
   "cell_type": "code",
   "execution_count": null,
   "id": "479a4564",
   "metadata": {},
   "outputs": [],
   "source": [
    "filing_name = 'specialResolution'\n",
    "filing_date = business.founding_date + datedelta.datedelta(months=filing_month)\n",
    "filing_month += 1\n",
    "filing_json = copy.deepcopy(FILING_HEADER)\n",
    "filing_json['filing']['header']['name'] = filing_name\n",
    "filing_json['filing'][filing_name] = SPECIAL_RESOLUTION\n",
    "filing_json\n",
    "filing = factory_completed_filing(business, filing_json, filing_date, payment_token=None, colin_id=None)\n",
    "\n",
    "filing_meta = {\n",
    "    'legalFilings':[filing_name,],\n",
    "    filing_name:{\n",
    "}}\n",
    "meta_data = {**{'applicationDate': filing_date.date().isoformat()}, **filing_meta}\n",
    "\n",
    "filing._meta_data = meta_data\n",
    "filing.save()\n",
    "\n",
    "ledger = CoreFiling.ledger(business.id)\n",
    "ledger_filing = next((f for f in ledger if f.get('filingId')==filing.id), None)\n",
    "\n",
    "assert ledger_filing['displayName'] == 'Special Resolution'\n",
    "assert ledger_filing['data'] == meta_data"
   ]
  },
  {
   "cell_type": "markdown",
   "id": "2c7e2dd3",
   "metadata": {},
   "source": [
    "### Create Dissolution"
   ]
  },
  {
   "cell_type": "code",
   "execution_count": null,
   "id": "60723e70",
   "metadata": {},
   "outputs": [],
   "source": [
    "filing_name = 'dissolution'\n",
    "filing_date = business.founding_date + datedelta.datedelta(months=filing_month)\n",
    "filing_month += 1\n",
    "filing_json = copy.deepcopy(FILING_HEADER)\n",
    "filing_json['filing']['header']['name'] = filing_name\n",
    "filing_json['filing'][filing_name] = SPECIAL_RESOLUTION\n",
    "filing_json\n",
    "filing = factory_completed_filing(business, filing_json, filing_date, payment_token=None, colin_id=None)\n",
    "\n",
    "filing_meta = {\n",
    "    'legalFilings':[filing_name,],\n",
    "    filing_name:{\n",
    "}}\n",
    "meta_data = {**{'applicationDate': filing_date.date().isoformat()}, **filing_meta}\n",
    "\n",
    "filing._meta_data = meta_data\n",
    "filing.save()\n",
    "\n",
    "ledger = CoreFiling.ledger(business.id)\n",
    "ledger_filing = next((f for f in ledger if f.get('filingId')==filing.id), None)\n",
    "\n",
    "assert ledger_filing['displayName'] == 'Dissolution'\n",
    "assert ledger_filing['data'] == meta_data"
   ]
  },
  {
   "cell_type": "markdown",
   "id": "06ba825e",
   "metadata": {},
   "source": [
    "### Create Transition"
   ]
  },
  {
   "cell_type": "code",
   "execution_count": null,
   "id": "af401290",
   "metadata": {},
   "outputs": [],
   "source": [
    "filing_name = 'transition'\n",
    "filing_date = business.founding_date + datedelta.datedelta(months=filing_month)\n",
    "filing_month += 1\n",
    "filing_json = copy.deepcopy(FILING_HEADER)\n",
    "filing_json['filing']['header']['name'] = filing_name\n",
    "filing_json['filing'][filing_name] = SPECIAL_RESOLUTION\n",
    "filing_json\n",
    "filing = factory_completed_filing(business, filing_json, filing_date, payment_token=None, colin_id=None)\n",
    "\n",
    "filing_meta = {\n",
    "    'legalFilings':[filing_name,],\n",
    "    filing_name:{\n",
    "}}\n",
    "meta_data = {**{'applicationDate': filing_date.date().isoformat()}, **filing_meta}\n",
    "\n",
    "filing._meta_data = meta_data\n",
    "filing.save()\n",
    "\n",
    "ledger = CoreFiling.ledger(business.id)\n",
    "ledger_filing = next((f for f in ledger if f.get('filingId')==filing.id), None)\n",
    "\n",
    "assert ledger_filing['displayName'] == 'Transition Application'\n",
    "assert ledger_filing['data'] == meta_data"
   ]
  },
  {
   "cell_type": "markdown",
   "id": "e5904b48",
   "metadata": {},
   "source": [
    "### Create Court Order"
   ]
  },
  {
   "cell_type": "code",
   "execution_count": null,
   "id": "1afbc7f7",
   "metadata": {},
   "outputs": [],
   "source": [
    "filing_name = 'courtOrder'\n",
    "filing_date = business.founding_date + datedelta.datedelta(months=filing_month)\n",
    "filing_month += 1\n",
    "filing_json = copy.deepcopy(FILING_HEADER)\n",
    "filing_json['filing']['header']['name'] = filing_name\n",
    "filing_json['filing'][filing_name] = COURT_ORDER\n",
    "filing_json\n",
    "filing = factory_completed_filing(business, filing_json, filing_date, payment_token=None, colin_id=None)\n",
    "\n",
    "iso_date = filing_date.date().isoformat()\n",
    "filing_meta = {\n",
    "    'legalFilings':[filing_name,],\n",
    "}\n",
    "meta_data = {**{'applicationDate': filing_date.date().isoformat()}, **filing_meta}\n",
    "filing._meta_data = meta_data\n",
    "\n",
    "filing.court_order_file_number = 'ABC123'\n",
    "filing.court_order_date = iso_date\n",
    "filing.court_order_effect_of_order = 'planOfArrangement'\n",
    "filing.order_details = 'my order details'\n",
    "\n",
    "filing.save()\n",
    "\n",
    "ledger = CoreFiling.ledger(business.id)\n",
    "ledger_filing = next((f for f in ledger if f.get('filingId')==filing.id), None)\n",
    "\n",
    "assert ledger_filing['displayName'] == 'Court Order'\n",
    "# assert ledger_filing['data'] == meta_data"
   ]
  },
  {
   "cell_type": "markdown",
   "id": "7a6165c5",
   "metadata": {},
   "source": [
    "### Create Registrars Notation"
   ]
  },
  {
   "cell_type": "code",
   "execution_count": null,
   "id": "d391d760",
   "metadata": {},
   "outputs": [],
   "source": [
    "filing_name = 'registrarsNotation'\n",
    "filing_date = business.founding_date + datedelta.datedelta(months=filing_month)\n",
    "filing_month += 1\n",
    "filing_json = copy.deepcopy(FILING_HEADER)\n",
    "filing_json['filing']['header']['name'] = filing_name\n",
    "filing_json['filing'][filing_name] = REGISTRARS_NOTATION\n",
    "filing_json\n",
    "filing = factory_completed_filing(business, filing_json, filing_date, payment_token=None, colin_id=None)\n",
    "\n",
    "iso_date = filing_date.date().isoformat()\n",
    "filing_meta = {\n",
    "    'legalFilings':[filing_name,],\n",
    "    filing_name:{\n",
    "}}\n",
    "meta_data = {**{'applicationDate': iso_date}, **filing_meta}\n",
    "\n",
    "filing._meta_data = meta_data\n",
    "filing.save()\n",
    "\n",
    "ledger = CoreFiling.ledger(business.id)\n",
    "ledger_filing = next((f for f in ledger if f.get('filingId')==filing.id), None)\n",
    "\n",
    "assert ledger_filing['displayName'] == \"Registrar's Notation\"\n",
    "assert ledger_filing['data'] == meta_data"
   ]
  },
  {
   "cell_type": "code",
   "execution_count": null,
   "id": "37bf5696",
   "metadata": {},
   "outputs": [],
   "source": [
    "REGISTRARS_ORDER"
   ]
  },
  {
   "cell_type": "markdown",
   "id": "1b6e2920",
   "metadata": {},
   "source": [
    "### Create Registrars Order"
   ]
  },
  {
   "cell_type": "code",
   "execution_count": null,
   "id": "5cef8bda",
   "metadata": {},
   "outputs": [],
   "source": [
    "filing_name = 'registrarsOrder'\n",
    "filing_date = business.founding_date + datedelta.datedelta(months=filing_month)\n",
    "filing_month += 1\n",
    "filing_json = copy.deepcopy(FILING_HEADER)\n",
    "filing_json['filing']['header']['name'] = filing_name\n",
    "filing_json['filing'][filing_name] = REGISTRARS_ORDER\n",
    "filing_json\n",
    "filing = factory_completed_filing(business, filing_json, filing_date, payment_token=None, colin_id=None)\n",
    "\n",
    "iso_date = filing_date.date().isoformat()\n",
    "filing_meta = {\n",
    "    'legalFilings':[filing_name,],\n",
    "    filing_name:{\n",
    "}}\n",
    "meta_data = {**{'applicationDate': iso_date}, **filing_meta}\n",
    "\n",
    "filing._meta_data = meta_data\n",
    "filing.save()\n",
    "\n",
    "ledger = CoreFiling.ledger(business.id)\n",
    "ledger_filing = next((f for f in ledger if f.get('filingId')==filing.id), None)\n",
    "\n",
    "assert ledger_filing['displayName'] == \"Registrar's Order\"\n",
    "assert ledger_filing['data'] == meta_data"
   ]
  },
  {
   "cell_type": "markdown",
   "id": "a2b48144",
   "metadata": {},
   "source": [
    "### Create Another Annual Report"
   ]
  },
  {
   "cell_type": "code",
   "execution_count": null,
   "id": "5c9504f9",
   "metadata": {},
   "outputs": [],
   "source": [
    "filing_name = 'annualReport'\n",
    "filing_date = business.founding_date + datedelta.datedelta(years=1)\n",
    "filing_json = copy.deepcopy(FILING_HEADER)\n",
    "filing_json['filing']['header']['name'] = filing_name\n",
    "filing_json['filing'][filing_name] = ANNUAL_REPORT\n",
    "filing_json\n",
    "filing = factory_completed_filing(business, filing_json, filing_date, payment_token=None, colin_id=None)\n",
    "\n",
    "iso_date = filing_date.date().isoformat()\n",
    "filing_meta = {\n",
    "    'legalFilings':['annualReport', 'changeOfAddress', 'changeOfDirectors'],\n",
    "    filing_name:{\n",
    "        'annualReportDate': iso_date,\n",
    "        'annualGeneralMeetingDate': iso_date\n",
    "}}\n",
    "meta_data = {**{'applicationDate': iso_date}, **filing_meta}\n",
    "\n",
    "filing._meta_data = meta_data\n",
    "filing.save()\n",
    "\n",
    "ledger = CoreFiling.ledger(business.id)\n",
    "ledger_filing = next((f for f in ledger if f.get('filingId')==filing.id), None)\n",
    "\n",
    "assert ledger_filing['displayName'] == f'Annual Report ({date.fromisoformat(iso_date).year})'\n",
    "assert ledger_filing['data'] == meta_data"
   ]
  },
  {
   "cell_type": "markdown",
   "id": "00bec082",
   "metadata": {},
   "source": [
    "### Create a Correction for the last Annual Report"
   ]
  },
  {
   "cell_type": "code",
   "execution_count": null,
   "id": "ca2f591d",
   "metadata": {},
   "outputs": [],
   "source": [
    "last_annual_report_filing = filing\n",
    "filing_name = 'correction'\n",
    "filing_date = business.founding_date + datedelta.datedelta(years=1, months=1)\n",
    "filing_json = copy.deepcopy(FILING_HEADER)\n",
    "filing_json['filing']['header']['name'] = filing_name\n",
    "filing_json['filing'][filing_name] = CORRECTION_AR\n",
    "filing_json\n",
    "filing = factory_completed_filing(business, filing_json, filing_date, payment_token=None, colin_id=None)\n",
    "\n",
    "iso_date = filing_date.date().isoformat()\n",
    "filing_meta = {'legalFilings':['annualReport', 'changeOfDirectors', 'correction']}\n",
    "meta_data = {**{'applicationDate': iso_date}, **filing_meta}\n",
    "filing._meta_data = meta_data\n",
    "filing.save()\n",
    "\n",
    "last_annual_report_filing.parent_filing_id = filing.id\n",
    "last_annual_report_filing.save()\n",
    "\n",
    "ledger = CoreFiling.ledger(business.id)\n",
    "ledger_filing = next((f for f in ledger if f.get('filingId')==filing.id), None)\n",
    "\n",
    "assert ledger_filing['displayName'] == f'Correction - Annual Report ({date.fromisoformat(iso_date).year})'\n",
    "assert ledger_filing['data'] == meta_data\n",
    "\n",
    "corrected_ar_filing = next((f for f in ledger if f.get('filingId')==last_annual_report_filing.id), None)"
   ]
  },
  {
   "cell_type": "markdown",
   "id": "76c204f1",
   "metadata": {},
   "source": [
    "### Create a Special Resolution with Comments"
   ]
  },
  {
   "cell_type": "markdown",
   "id": "75ca0a26",
   "metadata": {},
   "source": [
    "add 5 comments in to the resolution"
   ]
  },
  {
   "cell_type": "code",
   "execution_count": null,
   "id": "fe9b37d9",
   "metadata": {},
   "outputs": [],
   "source": [
    "filing_name = 'specialResolution'\n",
    "filing_date = business.founding_date + datedelta.datedelta(years=1, months=filing_month)\n",
    "filing_month += 1\n",
    "filing_json = copy.deepcopy(FILING_HEADER)\n",
    "filing_json['filing']['header']['name'] = filing_name\n",
    "filing_json['filing'][filing_name] = SPECIAL_RESOLUTION\n",
    "filing_json\n",
    "filing = factory_completed_filing(business, filing_json, filing_date, payment_token=None, colin_id=None)\n",
    "\n",
    "filing_meta = {\n",
    "    'legalFilings':[filing_name,],\n",
    "    filing_name:{\n",
    "}}\n",
    "meta_data = {**{'applicationDate': filing_date.date().isoformat()}, **filing_meta}\n",
    "filing._meta_data = meta_data\n",
    "\n",
    "for c in range(5):\n",
    "    comment = Comment()\n",
    "    comment.comment = f'this comment {c}'\n",
    "    filing.comments.append(comment)\n",
    "\n",
    "filing.save()\n",
    "\n",
    "ledger = CoreFiling.ledger(business.id)\n",
    "ledger_filing = next((f for f in ledger if f.get('filingId')==filing.id), None)\n",
    "\n",
    "assert ledger_filing['displayName'] == 'Special Resolution'\n",
    "assert ledger_filing['data'] == meta_data\n",
    "assert ledger_filing['commentsCount'] == c + 1"
   ]
  },
  {
   "cell_type": "markdown",
   "id": "e290e6b6",
   "metadata": {},
   "source": [
    "### Create a Unknown Filing"
   ]
  },
  {
   "cell_type": "code",
   "execution_count": null,
   "id": "296fede1",
   "metadata": {},
   "outputs": [],
   "source": [
    "filing_name = 'F.18'\n",
    "filing_date = business.founding_date + datedelta.datedelta(years=1, months=filing_month)\n",
    "filing_month += 1\n",
    "filing_json = copy.deepcopy(FILING_HEADER)\n",
    "filing_json['filing']['header']['name'] = filing_name\n",
    "filing_json['filing'][filing_name] = SPECIAL_RESOLUTION\n",
    "filing_json\n",
    "filing = factory_completed_filing(business, filing_json, filing_date, payment_token=None, colin_id=None)\n",
    "\n",
    "filing_meta = {\n",
    "    'legalFilings':[filing_name,],\n",
    "    filing_name:{\n",
    "}}\n",
    "meta_data = {**{'applicationDate': filing_date.date().isoformat()}, **filing_meta}\n",
    "filing._meta_data = meta_data\n",
    "\n",
    "filing.paper_only = True\n",
    "\n",
    "filing.save()\n",
    "\n",
    "ledger = CoreFiling.ledger(business.id)\n",
    "ledger_filing = next((f for f in ledger if f.get('filingId')==filing.id), None)\n",
    "\n",
    "assert ledger_filing['displayName'] == 'F.18'\n",
    "assert ledger_filing['data'] == meta_data"
   ]
  },
  {
   "cell_type": "markdown",
   "id": "07a2f991",
   "metadata": {},
   "source": [
    "### Create Avalable on Paper Only Filings"
   ]
  },
  {
   "cell_type": "markdown",
   "id": "706fecfa",
   "metadata": {},
   "source": [
    "paper only - IncorporationApplication"
   ]
  },
  {
   "cell_type": "code",
   "execution_count": null,
   "id": "3d3ef56c",
   "metadata": {},
   "outputs": [],
   "source": [
    "filing_name = 'incorporationApplication'\n",
    "filing_date = business.founding_date + datedelta.datedelta(years=1, months=filing_month)\n",
    "filing_month += 1\n",
    "filing_json = copy.deepcopy(FILING_HEADER)\n",
    "filing_json['filing'].pop('business')\n",
    "filing_json['filing']['header']['name'] = filing_name\n",
    "\n",
    "filing = factory_completed_filing(business, filing_json, filing_date, payment_token=None, colin_id=None)\n",
    "\n",
    "filing_meta = {\n",
    "    'legalFilings':[filing_name,],\n",
    "    filing_name:{\n",
    "}}\n",
    "meta_data = {**{'applicationDate': filing_date.date().isoformat()}, **filing_meta}\n",
    "\n",
    "filing.paper_only = True\n",
    "\n",
    "filing._meta_data = meta_data\n",
    "filing.save()"
   ]
  },
  {
   "cell_type": "markdown",
   "id": "fc3eaff4",
   "metadata": {},
   "source": [
    "paper only - Alteration"
   ]
  },
  {
   "cell_type": "code",
   "execution_count": null,
   "id": "32c7b941",
   "metadata": {},
   "outputs": [],
   "source": [
    "filing_name = 'alteration'\n",
    "filing_date = business.founding_date + datedelta.datedelta(months=filing_month)\n",
    "filing_month += 1\n",
    "filing_json = copy.deepcopy(FILING_HEADER)\n",
    "filing_json['filing']['header']['name'] = filing_name\n",
    "\n",
    "filing = factory_completed_filing(business, filing_json, filing_date, payment_token=None, colin_id=None)\n",
    "\n",
    "filing_meta = {\n",
    "}\n",
    "meta_data = {**{'applicationDate': filing_date.date().isoformat()}, **filing_meta}\n",
    "\n",
    "filing.paper_only = True\n",
    "\n",
    "filing._meta_data = meta_data\n",
    "filing.save()"
   ]
  },
  {
   "cell_type": "markdown",
   "id": "70d7f418",
   "metadata": {},
   "source": [
    "### Create an Alteration without Court Order"
   ]
  },
  {
   "cell_type": "code",
   "execution_count": null,
   "id": "f80cec96",
   "metadata": {},
   "outputs": [],
   "source": [
    "filing_name = 'alteration'\n",
    "filing_date = business.founding_date + datedelta.datedelta(months=filing_month)\n",
    "filing_month += 1\n",
    "filing_json = copy.deepcopy(FILING_HEADER)\n",
    "filing_json['filing']['header']['name'] = filing_name\n",
    "filing_json['filing'][filing_name] = ALTERATION\n",
    "filing_json\n",
    "filing = factory_completed_filing(business, filing_json, filing_date, payment_token=None, colin_id=None)\n",
    "\n",
    "iso_date = filing_date.date().isoformat()\n",
    "filing_meta = {\n",
    "    'legalFilings':[filing_name,],\n",
    "    filing_name:{\n",
    "    'fromLegalType': 'BC',\n",
    "    'toLegalType': 'BEN'\n",
    "}}\n",
    "meta_data = {**{'applicationDate': iso_date}, **filing_meta}\n",
    "\n",
    "filing.court_order_file_number = 'DEF456'\n",
    "filing.court_order_date = iso_date\n",
    "filing.court_order_effect_of_order = 'planOfArrangement'\n",
    "filing.order_details = 'different order details'\n",
    "\n",
    "filing._meta_data = meta_data\n",
    "filing.save()"
   ]
  },
  {
   "cell_type": "markdown",
   "id": "803c9cd0",
   "metadata": {},
   "source": [
    "### Create a Future Effective Alteration"
   ]
  },
  {
   "cell_type": "code",
   "execution_count": null,
   "id": "e3c265df",
   "metadata": {},
   "outputs": [],
   "source": [
    "filing_name = 'alteration'\n",
    "filing_date = business.founding_date + datedelta.datedelta(months=filing_month)\n",
    "FED_date = business.founding_date + datedelta.datedelta(months=filing_month, days=14)\n",
    "filing_month += 1\n",
    "filing_json = copy.deepcopy(FILING_HEADER)\n",
    "filing_json['filing']['header']['name'] = filing_name\n",
    "filing_json['filing'][filing_name] = ALTERATION\n",
    "filing_json\n",
    "filing = factory_completed_filing(business, filing_json, filing_date, payment_token=None, colin_id=None)\n",
    "\n",
    "filing_meta = {\n",
    "    'legalFilings':[filing_name,],\n",
    "    filing_name:{\n",
    "    'fromLegalType': 'BC',\n",
    "    'toLegalType': 'BEN'\n",
    "}}\n",
    "meta_data = {**{'applicationDate': filing_date.date().isoformat()}, **filing_meta}\n",
    "\n",
    "filing.court_order_file_number = ALTERATION['courtOrder']['fileNumber']\n",
    "filing.court_order_date = ALTERATION['courtOrder']['orderDate']\n",
    "filing.court_order_effect_of_order = ALTERATION['courtOrder']['effectOfOrder']\n",
    "filing.order_details = ALTERATION['courtOrder']['orderDetails']\n",
    "\n",
    "filing.effective_date = FED_date\n",
    "\n",
    "filing._meta_data = meta_data\n",
    "filing.save()"
   ]
  },
  {
   "cell_type": "markdown",
   "id": "0497739e",
   "metadata": {},
   "source": [
    "### Create a Future Effective Alteration with Court Order"
   ]
  },
  {
   "cell_type": "code",
   "execution_count": null,
   "id": "375a0767",
   "metadata": {},
   "outputs": [],
   "source": [
    "filing_name = 'alteration'\n",
    "filing_date = business.founding_date + datedelta.datedelta(months=filing_month)\n",
    "FED_date = business.founding_date + datedelta.datedelta(months=filing_month, days=14)\n",
    "filing_month += 1\n",
    "filing_json = copy.deepcopy(FILING_HEADER)\n",
    "filing_json['filing']['header']['name'] = filing_name\n",
    "filing_json['filing'][filing_name] = ALTERATION\n",
    "filing_json\n",
    "filing = factory_pending_filing(business, filing_json, filing_date, payment_token=None, colin_id=None)\n",
    "\n",
    "filing_meta = {\n",
    "    'legalFilings':[filing_name,],\n",
    "    filing_name:{\n",
    "    'fromLegalType': 'BC',\n",
    "    'toLegalType': 'BEN'\n",
    "}}\n",
    "meta_data = {**{'applicationDate': filing_date.date().isoformat()}, **filing_meta}\n",
    "\n",
    "filing.court_order_file_number = ALTERATION['courtOrder']['fileNumber']\n",
    "filing.court_order_date = ALTERATION['courtOrder']['orderDate']\n",
    "filing.court_order_effect_of_order = ALTERATION['courtOrder']['effectOfOrder']\n",
    "filing.order_details = ALTERATION['courtOrder']['orderDetails']\n",
    "\n",
    "filing.effective_date = FED_date\n",
    "\n",
    "filing._meta_data = meta_data\n",
    "filing.save()"
   ]
  },
  {
   "cell_type": "code",
   "execution_count": null,
   "id": "8ce4e5e2",
   "metadata": {},
   "outputs": [],
   "source": [
    "filing.id"
   ]
  },
  {
   "cell_type": "code",
   "execution_count": null,
   "id": "308faac1",
   "metadata": {},
   "outputs": [],
   "source": [
    "url = \"https://dev.oidc.gov.bc.ca/auth/realms/fcf0kpqr/protocol/openid-connect/token\"\n",
    "\n",
    "payload = \"grant_type=client_credentials\"\n",
    "basic_hash = base64.b64encode(\"entity-notebook-service-account:170e88e8-0a57-4d3c-b7f2-770cc2e1456f\".encode()).decode()\n",
    "basic_hash\n",
    "headers = {\n",
    "  'Content-Type': 'application/x-www-form-urlencoded',\n",
    "  'Authorization': f'Basic {basic_hash}'\n",
    "}\n",
    "\n",
    "response = requests.request(\"POST\", url, headers=headers, data=payload)\n",
    "\n",
    "token = response.json()['access_token']\n",
    "# token\n",
    "assert token"
   ]
  },
  {
   "cell_type": "code",
   "execution_count": null,
   "id": "c6ad7559",
   "metadata": {},
   "outputs": [],
   "source": [
    "business.identifier, business.legal_type, business.legal_name"
   ]
  },
  {
   "cell_type": "code",
   "execution_count": null,
   "id": "3d86bbe7",
   "metadata": {},
   "outputs": [],
   "source": [
    "import json\n",
    "\n",
    "url = \"https://auth-api-dev.apps.silver.devops.gov.bc.ca/api/v1/entities\"\n",
    "\n",
    "payload = {\n",
    "  \"businessIdentifier\": business.identifier,\n",
    "  \"corpTypeCode\": business.legal_type,\n",
    "  \"name\": business.legal_name\n",
    "}\n",
    "\n",
    "headers = {\n",
    "  'Authorization': f'Bearer {token}'\n",
    "}\n",
    "\n",
    "r = requests.post(url, headers=headers, json=payload)\n",
    "\n",
    "r.status_code, r.text"
   ]
  },
  {
   "cell_type": "code",
   "execution_count": null,
   "id": "f4bf9aba",
   "metadata": {},
   "outputs": [],
   "source": [
    "account = 668  # sev's account\n",
    "url = f'https://auth-api-dev.apps.silver.devops.gov.bc.ca/api/v1/orgs/{account}/affiliations'\n",
    "\n",
    "payload = {\"businessIdentifier\": business.identifier,\n",
    "           \"passCode\": \"\"\n",
    "          }\n",
    "headers = {\n",
    "  'Authorization': f'Bearer {token}'\n",
    "}\n",
    "\n",
    "r = requests.post(url, headers=headers, json=payload)\n",
    "\n",
    "r.status_code, r.text"
   ]
  },
  {
   "cell_type": "code",
   "execution_count": null,
   "id": "593040b9",
   "metadata": {},
   "outputs": [],
   "source": []
  }
 ],
 "metadata": {
  "kernelspec": {
   "display_name": "Python 3 (ipykernel)",
   "language": "python",
   "name": "python3"
  },
  "language_info": {
   "codemirror_mode": {
    "name": "ipython",
    "version": 3
   },
   "file_extension": ".py",
   "mimetype": "text/x-python",
   "name": "python",
   "nbconvert_exporter": "python",
   "pygments_lexer": "ipython3",
   "version": "3.9.7"
  }
 },
 "nbformat": 4,
 "nbformat_minor": 5
}
