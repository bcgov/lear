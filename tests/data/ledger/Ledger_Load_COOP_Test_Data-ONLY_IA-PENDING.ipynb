{
 "cells": [
  {
   "cell_type": "markdown",
   "id": "726311c4",
   "metadata": {},
   "source": [
    "# Load COOP Test Data\n",
    "## load example filings for the ledger (not complete filings)\n",
    "downstream integrations (like receipts) wont actually work"
   ]
  },
  {
   "cell_type": "markdown",
   "id": "5e254b7a",
   "metadata": {},
   "source": [
    "### Setup Environment"
   ]
  },
  {
   "cell_type": "code",
   "execution_count": null,
   "id": "6c3ffc35",
   "metadata": {},
   "outputs": [],
   "source": [
    "# using TEST database\n",
    "%run /workspaces/lear/tests/data/default-bcr-business-setup-TEST.ipynb"
   ]
  },
  {
   "cell_type": "code",
   "execution_count": null,
   "id": "0ff53604",
   "metadata": {},
   "outputs": [],
   "source": [
    "%run /workspaces/lear/tests/data/common/legal_api_utils_test_data.ipynb"
   ]
  },
  {
   "cell_type": "code",
   "execution_count": null,
   "id": "f9f4c5cb",
   "metadata": {},
   "outputs": [],
   "source": [
    "import copy\n",
    "import re\n",
    "import datedelta\n",
    "from legal_api.core import Filing as CoreFiling\n",
    "from legal_api.models import Comment, Filing, RegistrationBootstrap\n",
    "from legal_api.utils.datetime import date, datetime"
   ]
  },
  {
   "cell_type": "markdown",
   "id": "68cf140c",
   "metadata": {},
   "source": [
    "### Setup the Business Info"
   ]
  },
  {
   "cell_type": "code",
   "execution_count": null,
   "id": "e32e669c",
   "metadata": {},
   "outputs": [],
   "source": [
    "# identifier = 'CP0000842'\n",
    "# legal_type = identifier[:re.search(r\"\\d\", identifier).start()]\n",
    "# identifier, legal_type"
   ]
  },
  {
   "cell_type": "code",
   "execution_count": null,
   "id": "26b668a6",
   "metadata": {},
   "outputs": [],
   "source": [
    "# if business := legal_api.models.Business.find_by_identifier(identifier):\n",
    "#         print(f'{identifier} already exisit in LEAR, DO NOT ATTENP TO LOAD IT AGAIN')\n",
    "# assert not business, \"Business already exists, if you want to build it, set build to True and run the next cell.\""
   ]
  },
  {
   "cell_type": "code",
   "execution_count": null,
   "id": "e5b106ea",
   "metadata": {},
   "outputs": [],
   "source": [
    "# create_business = True\n",
    "# if create_business:\n",
    "#     current_time = datetime.utcnow()\n",
    "#     business = Business(legal_name=f'legal_name-{identifier}',\n",
    "#                         founding_date=(current_time - datedelta.datedelta(years=4)),\n",
    "#                         last_ar_date=current_time,\n",
    "#                         last_ar_year=current_time.year,\n",
    "# #                         last_coa_date=current_time,\n",
    "# #                         last_cod_date=current_time,\n",
    "#                         last_ledger_timestamp=current_time,\n",
    "#                         # dissolution_date=EPOCH_DATETIME,\n",
    "#                         identifier=identifier,\n",
    "#                         tax_id='BN123456789',\n",
    "#                         fiscal_year_end_date=current_time,\n",
    "#                         legal_type=legal_type)\n",
    "#     business.save()\n",
    "    \n",
    "# business.id, business.legal_name, business.founding_date"
   ]
  },
  {
   "cell_type": "code",
   "execution_count": null,
   "id": "f9284986",
   "metadata": {},
   "outputs": [],
   "source": [
    "bootstrap = RegistrationBootstrap()\n",
    "bootstrap.identifier = 'T22222212'\n",
    "bootstrap.account = 668\n",
    "bootstrap.save()"
   ]
  },
  {
   "cell_type": "markdown",
   "id": "a26466e8",
   "metadata": {},
   "source": [
    "### Create Incorporation Application"
   ]
  },
  {
   "cell_type": "code",
   "execution_count": null,
   "id": "ba953d5f",
   "metadata": {},
   "outputs": [],
   "source": [
    "filing_name = 'incorporationApplication'\n",
    "\n",
    "filing_date = datetime.utcnow()\n",
    "filing_month = 0\n",
    "filing_json = copy.deepcopy(FILING_HEADER)\n",
    "filing_json['filing'].pop('business')\n",
    "filing_json['filing']['header']['name'] = filing_name\n",
    "filing_json['filing'][filing_name] = INCORPORATION\n",
    "filing_json\n",
    "filing = factory_pending_IA_filing(bootstrap, filing_json, filing_date, payment_token=None, colin_id=None)\n",
    "\n",
    "filing_meta = {\n",
    "    'legalFilings':[filing_name,],\n",
    "    filing_name:{\n",
    "}}\n",
    "meta_data = {**{'applicationDate': filing_date.date().isoformat()}, **filing_meta}\n",
    "\n",
    "filing._meta_data = meta_data\n",
    "\n",
    "filing.temp_reg = bootstrap.identifier\n",
    "\n",
    "filing.save()"
   ]
  },
  {
   "cell_type": "code",
   "execution_count": null,
   "id": "00dc0532",
   "metadata": {},
   "outputs": [],
   "source": [
    "ledger = CoreFiling.ledger(business.id)\n",
    "ledger_filing = next((f for f in ledger if f.get('filingId')==filing.id), None)\n",
    "\n",
    "assert ledger_filing['displayName'] == 'Incorporation Application'"
   ]
  },
  {
   "cell_type": "code",
   "execution_count": null,
   "id": "427ce3b4",
   "metadata": {},
   "outputs": [],
   "source": [
    "filing.id"
   ]
  },
  {
   "cell_type": "code",
   "execution_count": null,
   "id": "ebeb9bfb",
   "metadata": {},
   "outputs": [],
   "source": [
    "filing_json"
   ]
  },
  {
   "cell_type": "code",
   "execution_count": null,
   "id": "7a79a271",
   "metadata": {},
   "outputs": [],
   "source": [
    "url = \"https://dev.oidc.gov.bc.ca/auth/realms/fcf0kpqr/protocol/openid-connect/token\"\n",
    "\n",
    "payload = \"grant_type=client_credentials\"\n",
    "basic_hash = base64.b64encode(\"entity-notebook-service-account:170e88e8-0a57-4d3c-b7f2-770cc2e1456f\".encode()).decode()\n",
    "basic_hash\n",
    "headers = {\n",
    "  'Content-Type': 'application/x-www-form-urlencoded',\n",
    "  'Authorization': f'Basic {basic_hash}'\n",
    "}\n",
    "\n",
    "response = requests.request(\"POST\", url, headers=headers, data=payload)\n",
    "\n",
    "token = response.json()['access_token']"
   ]
  },
  {
   "cell_type": "code",
   "execution_count": null,
   "id": "9454f5d3",
   "metadata": {},
   "outputs": [],
   "source": [
    "url = \"https://auth-api-test.apps.silver.devops.gov.bc.ca/api/v2/entities\"\n",
    "\n",
    "payload = {\n",
    "  \"businessIdentifier\": 'T12121212',\n",
    "  \"corpTypeCode\": 'CP',\n",
    "  \"name\": \"\"\n",
    "}\n",
    "\n",
    "headers = {\n",
    "  'Authorization': f'Bearer {token}'\n",
    "}\n",
    "\n",
    "r = requests.post(url, headers=headers, json=payload)\n",
    "\n",
    "r.status_code, r.text"
   ]
  },
  {
   "cell_type": "code",
   "execution_count": null,
   "id": "d2883f5f",
   "metadata": {},
   "outputs": [],
   "source": [
    "account = 668\n",
    "url = f'https://auth-api-dev.apps.silver.devops.gov.bc.ca/api/v1/orgs/{account}/affiliations'\n",
    "\n",
    "payload = {\"businessIdentifier\": 'T12121212',\n",
    "           \"passCode\": \"\"\n",
    "          }\n",
    "headers = {\n",
    "  'Authorization': f'Bearer {token}'\n",
    "}\n",
    "\n",
    "r = requests.post(url, headers=headers, json=payload)\n",
    "\n",
    "r.status_code, r.text"
   ]
  },
  {
   "cell_type": "code",
   "execution_count": null,
   "id": "648ff99a",
   "metadata": {},
   "outputs": [],
   "source": []
  }
 ],
 "metadata": {
  "kernelspec": {
   "display_name": "Python 3 (ipykernel)",
   "language": "python",
   "name": "python3"
  },
  "language_info": {
   "codemirror_mode": {
    "name": "ipython",
    "version": 3
   },
   "file_extension": ".py",
   "mimetype": "text/x-python",
   "name": "python",
   "nbconvert_exporter": "python",
   "pygments_lexer": "ipython3",
   "version": "3.9.7"
  }
 },
 "nbformat": 4,
 "nbformat_minor": 5
}
