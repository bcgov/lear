{
 "cells": [
  {
   "cell_type": "markdown",
   "metadata": {
    "collapsed": false
   },
   "source": [
    "# Filings Daily Stats"
   ]
  },
  {
   "cell_type": "markdown",
   "metadata": {
    "collapsed": false
   },
   "source": [
    "We need to load in these libraries into our notebook in order to query, load, manipulate and view the data"
   ]
  },
  {
   "cell_type": "code",
   "execution_count": null,
   "metadata": {
    "collapsed": false,
    "pycharm": {
     "is_executing": false,
     "name": "#%%\n"
    }
   },
   "outputs": [],
   "source": [
    "import os\n",
    "import psycopg2\n",
    "import pandas as pd\n",
    "import csv\n",
    "import matplotlib\n",
    "from datetime import datetime, timedelta\n",
    "from IPython.core.display import HTML\n",
    "\n",
    "%load_ext sql\n",
    "%config SqlMagic.displaylimit = 5"
   ]
  },
  {
   "cell_type": "markdown",
   "metadata": {
    "collapsed": false
   },
   "source": [
    "This will create the connection to the database and prep the jupyter magic for SQL"
   ]
  },
  {
   "cell_type": "code",
   "execution_count": null,
   "metadata": {
    "collapsed": false,
    "pycharm": {
     "is_executing": false,
     "name": "#%%\n"
    }
   },
   "outputs": [],
   "source": [
    "connect_to_db = 'postgresql://' + \\\n",
    "                os.getenv('PG_USER', '') + \":\" + os.getenv('PG_PASSWORD', '') +'@' + \\\n",
    "                os.getenv('PG_HOST', '') + ':' + os.getenv('PG_PORT', '5432') + '/' + os.getenv('PG_DB_NAME', '');\n",
    "    \n",
    "%sql $connect_to_db"
   ]
  },
  {
   "cell_type": "markdown",
   "metadata": {
    "collapsed": false
   },
   "source": [
    "Simplest query to run to ensure our libraries are loaded and our DB connection is working"
   ]
  },
  {
   "cell_type": "code",
   "execution_count": null,
   "metadata": {
    "collapsed": false,
    "pycharm": {
     "is_executing": false,
     "name": "#%%\n"
    }
   },
   "outputs": [],
   "source": [
    "%%sql \n",
    "select now() AT TIME ZONE 'PST' as current_date"
   ]
  },
  {
   "cell_type": "markdown",
   "metadata": {
    "collapsed": false
   },
   "source": [
    "monthly total before running time."
   ]
  },
  {
   "cell_type": "code",
   "execution_count": null,
   "metadata": {
    "collapsed": false,
    "pycharm": {
     "is_executing": false,
     "name": "#%%\n"
    }
   },
   "outputs": [],
   "source": [
    "%%sql stat_incorp_filings_daily_completed  <<\n",
    "SELECT b.identifier AS INCORPORATION_NUMBER\n",
    "       , b.legal_name AS INCORPORATION_NAME\n",
    "       , u.username AS FILING_USER\n",
    "       , f.status \n",
    "       , f.filing_date at time zone 'utc' at time zone 'pst' AS FILING_TIMESTAMP_PST\n",
    "       , f.effective_date at time zone 'utc' at time zone 'pst' AS EFFECTIVE_TIMESTAMP_PST\n",
    "FROM businesses b, filings f, users u \n",
    "WHERE b.id = f.business_id \n",
    "AND f.filing_type='incorporationApplication'\n",
    "AND f.submitter_id=u.id \n",
    "AND date(f.filing_date at time zone 'utc' at time zone 'pst') = date(current_date-1)\n",
    "ORDER BY FILING_TIMESTAMP_PST;"
   ]
  },
  {
   "cell_type": "code",
   "execution_count": null,
   "metadata": {
    "collapsed": false,
    "pycharm": {
     "is_executing": false,
     "name": "#%%\n"
    }
   },
   "outputs": [],
   "source": [
    "incorp_edt = stat_incorp_filings_daily_completed.DataFrame()\n",
    "\n",
    "datestr = datetime.strftime(datetime.now()-timedelta(1), '%Y-%m-%d')\n",
    "filename = os.getenv('DATA_DIR', '')+'incorporation_filings_daily_stats_' + datestr +'.csv'\n",
    "\n",
    "with open(filename, 'w') as f:\n",
    "    if incorp_edt.empty:\n",
    "        f.write('No Data Retrieved for Incorporation Application on ' + datestr)         \n",
    "    else:  \n",
    "        f.write('Incorporation Application(s) on ' + datestr + ':\\n')            \n",
    "        incorp_edt.to_csv(f, sep=',', encoding='utf-8', index=False)  \n",
    "    f.write('\\n\\n')   "
   ]
  },
  {
   "cell_type": "code",
   "execution_count": null,
   "metadata": {
    "collapsed": false,
    "pycharm": {
     "is_executing": false,
     "name": "#%%\n"
    }
   },
   "outputs": [],
   "source": [
    "%%sql stat_benefit_filings_daily_completed  <<\n",
    "SELECT b.identifier AS INCORPORATION_NUMBER\n",
    "       , b.legal_name AS INCORPORATION_NAME\n",
    "       , u.username AS FILING_USER\n",
    "       , f.status \n",
    "       , f.filing_date at time zone 'utc' at time zone 'pst' AS FILING_TIMESTAMP_PST\n",
    "       , f.effective_date at time zone 'utc' at time zone 'pst' AS EFFECTIVE_TIMESTAMP_PST\n",
    "FROM businesses b, filings f, users u \n",
    "WHERE b.id = f.business_id \n",
    "AND b.legal_type='BEN'\n",
    "AND f.filing_type='alteration'\n",
    "AND f.submitter_id=u.id \n",
    "AND date(f.filing_date at time zone 'utc' at time zone 'pst') = date(current_date-1)\n",
    "ORDER BY FILING_TIMESTAMP_PST;"
   ]
  },
  {
   "cell_type": "code",
   "execution_count": null,
   "metadata": {},
   "outputs": [],
   "source": [
    "benefit_edt = stat_benefit_filings_daily_completed.DataFrame()\n",
    "\n",
    "with open(filename, 'a') as f:  \n",
    "    if benefit_edt.empty:\n",
    "        f.write('No Data Retrieved for Alterations to Benefit Company on ' + datestr)         \n",
    "    else: \n",
    "        f.write('Alterations to Benefit Company on ' + datestr + ':\\n')  \n",
    "        benefit_edt.to_csv(f, sep=',', encoding='utf-8', index=False) \n",
    "    f.write('\\n\\n')  "
   ]
  },
  {
   "cell_type": "code",
   "execution_count": null,
   "metadata": {},
   "outputs": [],
   "source": [
    "%%sql stat_bc_company_filings_daily_completed  <<\n",
    "SELECT b.identifier AS INCORPORATION_NUMBER\n",
    "       , b.legal_name AS INCORPORATION_NAME\n",
    "       , u.username AS FILING_USER\n",
    "       , f.status \n",
    "       , f.filing_date at time zone 'utc' at time zone 'pst' AS FILING_TIMESTAMP_PST\n",
    "       , f.effective_date at time zone 'utc' at time zone 'pst' AS EFFECTIVE_TIMESTAMP_PST\n",
    "FROM businesses b, filings f, users u \n",
    "WHERE b.id = f.business_id \n",
    "AND b.legal_type='BC'\n",
    "AND f.filing_type='alteration'\n",
    "AND f.submitter_id=u.id \n",
    "AND date(f.filing_date at time zone 'utc' at time zone 'pst') = date(current_date-1)\n",
    "ORDER BY FILING_TIMESTAMP_PST;"
   ]
  },
  {
   "cell_type": "code",
   "execution_count": null,
   "metadata": {},
   "outputs": [],
   "source": [
    "bc_company_edt = stat_bc_company_filings_daily_completed.DataFrame()\n",
    "\n",
    "with open(filename, 'a') as f:  \n",
    "    if bc_company_edt.empty:\n",
    "        f.write('No Data Retrieved for Alterations to BC Limited Company on ' + datestr)         \n",
    "    else: \n",
    "        f.write('Alterations to BC Limited Company on ' + datestr + ':\\n')  \n",
    "        bc_company_edt.to_csv(f, sep=',', encoding='utf-8', index=False) \n",
    "    f.write('\\n\\n')    "
   ]
  },
  {
   "cell_type": "code",
   "execution_count": null,
   "metadata": {},
   "outputs": [],
   "source": [
    "%%sql stat_benefit_corporations_total_completed  <<\n",
    "SELECT count(*) \n",
    "FROM businesses b\n",
    "WHERE b.legal_type='BEN';"
   ]
  },
  {
   "cell_type": "code",
   "execution_count": null,
   "metadata": {},
   "outputs": [],
   "source": [
    "with open(filename, 'a') as f:  \n",
    "    f.write('The Total Number of Benefit Companies to Date:\\n')\n",
    "    stat_benefit_corporations_total_completed.DataFrame().to_csv(f, sep=',', encoding='utf-8', index=False) "
   ]
  }
 ],
 "metadata": {
  "celltoolbar": "Tags",
  "kernelspec": {
   "display_name": "Python 3",
   "language": "python",
   "name": "python3"
  },
  "language_info": {
   "codemirror_mode": {
    "name": "ipython",
    "version": 3
   },
   "file_extension": ".py",
   "mimetype": "text/x-python",
   "name": "python",
   "nbconvert_exporter": "python",
   "pygments_lexer": "ipython3",
   "version": "3.7.3-final"
  },
  "pycharm": {
   "stem_cell": {
    "cell_type": "raw",
    "metadata": {
     "collapsed": false
    },
    "source": []
   }
  }
 },
 "nbformat": 4,
 "nbformat_minor": 2
}