{
 "cells": [
  {
   "cell_type": "markdown",
   "metadata": {
    "collapsed": false
   },
   "source": [
    "# Cooperatives Monthly Stats"
   ]
  },
  {
   "cell_type": "markdown",
   "metadata": {
    "collapsed": false
   },
   "source": [
    "We need to load in these libraries into our notebook in order to query, load, manipulate and view the data"
   ]
  },
  {
   "cell_type": "code",
   "execution_count": null,
   "metadata": {},
   "outputs": [],
   "source": [
    "import os\n",
    "import psycopg2\n",
    "import pandas as pd\n",
    "import matplotlib\n",
    "from datetime import datetime, timedelta\n",
    "from dateutil.relativedelta import relativedelta\n",
    "from IPython.core.display import HTML\n",
    "\n",
    "%load_ext sql\n",
    "%config SqlMagic.displaylimit = 5"
   ]
  },
  {
   "cell_type": "markdown",
   "metadata": {
    "collapsed": false
   },
   "source": [
    "This will create the connection to the database and prep the jupyter magic for SQL"
   ]
  },
  {
   "cell_type": "code",
   "execution_count": null,
   "metadata": {},
   "outputs": [],
   "source": [
    "connect_to_db = 'postgresql://' + \\\n",
    "                os.getenv('PG_USER', '') + \":\" + os.getenv('PG_PASSWORD', '') +'@' + \\\n",
    "                os.getenv('PG_HOST', '') + ':' + os.getenv('PG_PORT', '5432') + '/' + os.getenv('PG_DB_NAME', '');\n",
    "    \n",
    "%sql $connect_to_db"
   ]
  },
  {
   "cell_type": "markdown",
   "metadata": {
    "collapsed": false
   },
   "source": [
    "Simplest query to run to ensure our libraries are loaded and our DB connection is working"
   ]
  },
  {
   "cell_type": "code",
   "execution_count": null,
   "metadata": {},
   "outputs": [],
   "source": [
    "%%sql \n",
    "select now() AT TIME ZONE 'PST' as current_date"
   ]
  },
  {
   "cell_type": "markdown",
   "metadata": {
    "collapsed": false
   },
   "source": [
    "monthly total before running time."
   ]
  },
  {
   "cell_type": "code",
   "execution_count": null,
   "metadata": {},
   "outputs": [],
   "source": [
    "%%sql stat_cooperative_created  <<\n",
    "SELECT date_part('year', founding_date) AS year, COUNT(*)\n",
    "FROM businesses \n",
    "WHERE date(founding_date at time zone 'utc' at time zone 'pst')  > date(current_date - interval '9 years')\n",
    "GROUP BY date_part('year', founding_date)\n",
    "ORDER BY date_part('year', founding_date) DESC;"
   ]
  },
  {
   "cell_type": "code",
   "execution_count": null,
   "metadata": {},
   "outputs": [],
   "source": [
    "last_month = datetime.now() - relativedelta(months=1)\n",
    "filename = 'cooperative_monthly_stats_for_' + format(last_month, '%B_%Y') +'.csv'\n",
    "\n",
    "with open(filename, 'w') as f:\n",
    "    f.write('Number of Cooperatives Created in Last 10 Years:\\n')\n",
    "    stat_cooperative_created.DataFrame().to_csv(f, sep=',', encoding='utf-8', index=False)"
   ]
  },
  {
   "cell_type": "code",
   "execution_count": null,
   "metadata": {},
   "outputs": [],
   "source": [
    "%%sql stat_cooperative_disslouted  <<\n",
    "SELECT date_part('year', dissolution_date) AS year\n",
    "      , COUNT(*) companies_dissoluted\n",
    "FROM businesses \n",
    "WHERE dissolution_date is not null AND date(dissolution_date at time zone 'utc' at time zone 'pst')  > date(current_date - interval '9 years')\n",
    "GROUP BY date_part('year', dissolution_date)\n",
    "ORDER BY date_part('year', dissolution_date) DESC;"
   ]
  },
  {
   "cell_type": "code",
   "execution_count": null,
   "metadata": {},
   "outputs": [],
   "source": [
    "df_cooperative_disslouted = stat_cooperative_disslouted.DataFrame()"
   ]
  },
  {
   "cell_type": "code",
   "execution_count": null,
   "metadata": {},
   "outputs": [],
   "source": [
    "with open(filename, 'a') as f:  \n",
    "    if df_cooperative_disslouted.empty:\n",
    "        f.write('\\n\\n\\n Number of Cooperatives Dissoluted in Last 10 Years:\\n count\\n 0\\n')\n",
    "    else: \n",
    "        f.write('\\n\\n\\n Number of Cooperatives Dissoluted in Last 10 Years:\\n')\n",
    "        df_cooperative_disslouted.to_csv(f, sep=',', encoding='utf-8', index=False)      \n",
    "        \n"
   ]
  },
  {
   "cell_type": "code",
   "execution_count": null,
   "metadata": {},
   "outputs": [],
   "source": [
    "%%sql stat_director_number  <<\n",
    "SELECT concat('Having One Director:', ' ', count(*))  AS count\n",
    "FROM (SELECT count(*) AS cnt FROM parties pt, party_roles pr WHERE pt.id=pr.party_id AND pr.cessation_date is null AND pr.role='director' GROUP BY pr.business_id) u\n",
    "WHERE cnt=1\n",
    "UNION ALL\n",
    "SELECT concat('Having Two or Three Directors:', ' ', count(*))  AS count\n",
    "FROM (SELECT count(*) AS cnt FROM parties pt, party_roles pr WHERE pt.id=pr.party_id AND pr.cessation_date is null AND pr.role='director' GROUP BY pr.business_id) u\n",
    "WHERE cnt=2 or cnt=3\n",
    "UNION ALL\n",
    "SELECT concat('Having Four or More Directors:', ' ', count(*)) AS count\n",
    "FROM (SELECT count(*) AS cnt FROM parties pt, party_roles pr WHERE pt.id=pr.party_id AND pr.cessation_date is null AND pr.role='director' GROUP BY pr.business_id) u\n",
    "WHERE cnt>3;"
   ]
  },
  {
   "cell_type": "code",
   "execution_count": null,
   "metadata": {},
   "outputs": [],
   "source": [
    "with open(filename, 'a') as f:  \n",
    "    f.write('\\n\\n\\n Number of Cooperatives with Directors:\\n')\n",
    "    stat_director_number.DataFrame().to_csv(f, sep=',', encoding='utf-8', index=False) "
   ]
  },
  {
   "cell_type": "code",
   "execution_count": null,
   "metadata": {},
   "outputs": [],
   "source": [
    "%%sql stat_none_bc_cooperative  <<\n",
    "SELECT count(*) FROM businesses b, parties pt, party_roles pr, addresses a\n",
    "WHERE b.id = pr.business_id AND pt.id=pr.party_id AND pr.role='director' AND (pt.delivery_address_id=a.id OR pt.mailing_address_id=a.id)\n",
    "AND lower(a.region) not like 'bc';"
   ]
  },
  {
   "cell_type": "code",
   "execution_count": null,
   "metadata": {},
   "outputs": [],
   "source": [
    "df_none_bc_cooperative = stat_none_bc_cooperative.DataFrame()"
   ]
  },
  {
   "cell_type": "code",
   "execution_count": null,
   "metadata": {},
   "outputs": [],
   "source": [
    "with open(filename, 'a') as f:\n",
    "    if df_none_bc_cooperative.empty:\n",
    "        f.write('\\n\\n\\n Number of None BC Businesses:\\n count\\n 0\\n')\n",
    "    else: \n",
    "        f.write('\\n\\n\\n Number of None BC Businesses:\\n')\n",
    "        df_none_bc_cooperative.to_csv(f, sep=',', encoding='utf-8', index=False)   \n"
   ]
  },
  {
   "cell_type": "code",
   "execution_count": null,
   "metadata": {},
   "outputs": [],
   "source": []
  }
 ],
 "metadata": {
  "celltoolbar": "Tags",
  "kernelspec": {
   "display_name": "Python 3",
   "language": "python",
   "name": "python3"
  },
  "language_info": {
   "codemirror_mode": {
    "name": "ipython",
    "version": 3
   },
   "file_extension": ".py",
   "mimetype": "text/x-python",
   "name": "python",
   "nbconvert_exporter": "python",
   "pygments_lexer": "ipython3",
   "version": "3.7.3"
  },
  "pycharm": {
   "stem_cell": {
    "cell_type": "raw",
    "source": [],
    "metadata": {
     "collapsed": false
    }
   }
  }
 },
 "nbformat": 4,
 "nbformat_minor": 2
}