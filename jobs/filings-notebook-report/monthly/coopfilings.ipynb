{
 "cells": [
  {
   "cell_type": "markdown",
   "metadata": {
    "collapsed": false
   },
   "source": [
    "# Filings Monthly Stats"
   ]
  },
  {
   "cell_type": "markdown",
   "metadata": {
    "collapsed": false
   },
   "source": [
    "We need to load in these libraries into our notebook in order to query, load, manipulate and view the data"
   ]
  },
  {
   "cell_type": "code",
   "execution_count": null,
   "metadata": {
    "collapsed": false,
    "pycharm": {
     "is_executing": false,
     "name": "#%%\n"
    }
   },
   "outputs": [],
   "source": [
    "import os\n",
    "import psycopg2\n",
    "import pandas as pd\n",
    "import matplotlib\n",
    "from datetime import datetime, timedelta\n",
    "from dateutil.relativedelta import relativedelta\n",
    "from IPython.core.display import HTML\n",
    "\n",
    "%load_ext sql\n",
    "%config SqlMagic.displaylimit = 5"
   ]
  },
  {
   "cell_type": "markdown",
   "metadata": {
    "collapsed": false
   },
   "source": [
    "This will create the connection to the database and prep the jupyter magic for SQL"
   ]
  },
  {
   "cell_type": "code",
   "execution_count": null,
   "metadata": {
    "collapsed": false,
    "pycharm": {
     "is_executing": false,
     "name": "#%%\n"
    }
   },
   "outputs": [],
   "source": [
    "connect_to_db = 'postgresql://' + \\\n",
    "                os.getenv('PG_USER', '') + \":\" + os.getenv('PG_PASSWORD', '') +'@' + \\\n",
    "                os.getenv('PG_HOST', '') + ':' + os.getenv('PG_PORT', '5432') + '/' + os.getenv('PG_DB_NAME', '');\n",
    "    \n",
    "%sql $connect_to_db"
   ]
  },
  {
   "cell_type": "markdown",
   "metadata": {
    "collapsed": false
   },
   "source": [
    "Simplest query to run to ensure our libraries are loaded and our DB connection is working"
   ]
  },
  {
   "cell_type": "code",
   "execution_count": null,
   "metadata": {
    "collapsed": false,
    "pycharm": {
     "is_executing": false,
     "name": "#%%\n"
    }
   },
   "outputs": [],
   "source": [
    "%%sql \n",
    "select now() AT TIME ZONE 'PST' as current_date"
   ]
  },
  {
   "cell_type": "markdown",
   "metadata": {
    "collapsed": false
   },
   "source": [
    "monthly total before running time."
   ]
  },
  {
   "cell_type": "code",
   "execution_count": null,
   "metadata": {
    "collapsed": false,
    "pycharm": {
     "is_executing": false,
     "name": "#%%\n"
    }
   },
   "outputs": [],
   "source": [
    "%%sql stat_filings_monthly_completed  <<\n",
    "WITH Detail AS \n",
    "(\n",
    "    SELECT b.identifier AS COOPERATIVE_NUMBER\n",
    "           , b.legal_name AS COOPERATIVE_NAME\n",
    "           , COUNT(b.identifier) AS FILINGS_TOTAL_COMPLETED\n",
    "           , STRING_AGG(f.filing_type, ', ')  AS FILING_TYPES_COMPLETED\n",
    "    FROM businesses b,\n",
    "    filings f\n",
    "    WHERE b.id = f.business_id\n",
    "    AND b.legal_type='CP'\n",
    "    AND f.status='COMPLETED'\n",
    "    AND date(f.completion_date at time zone 'utc' at time zone 'pst')  > date(current_date - 1 - interval '1 months')    \n",
    "    AND date(f.completion_date at time zone 'utc' at time zone 'pst')  <= date(current_date - 1)\n",
    "    GROUP BY b.identifier, b.legal_name    \n",
    ")\n",
    "\n",
    "SELECT * FROM Detail\n",
    "UNION ALL\n",
    "SELECT 'SUM' identifier, null, sum(FILINGS_TOTAL_COMPLETED) AS count, null\n",
    "from Detail;\n"
   ]
  },
  {
   "cell_type": "code",
   "execution_count": null,
   "metadata": {
    "collapsed": false,
    "pycharm": {
     "is_executing": false,
     "name": "#%%\n"
    }
   },
   "outputs": [],
   "source": [
    "edt = stat_filings_monthly_completed.DataFrame()"
   ]
  },
  {
   "cell_type": "code",
   "execution_count": null,
   "metadata": {
    "collapsed": false,
    "pycharm": {
     "is_executing": false,
     "name": "#%%\n"
    }
   },
   "outputs": [],
   "source": []
  },
  {
   "cell_type": "markdown",
   "metadata": {
    "collapsed": false
   },
   "source": [
    "Save to CSV"
   ]
  },
  {
   "cell_type": "code",
   "execution_count": null,
   "metadata": {
    "collapsed": false,
    "pycharm": {
     "is_executing": false,
     "name": "#%%\n"
    }
   },
   "outputs": [],
   "source": [
    "last_month = datetime.now() - relativedelta(months=1)\n",
    "filename = os.getenv('DATA_DIR', '')+'coop_filings_monthly_stats_for_' + format(last_month, '%B_%Y') +'.csv'\n",
    "edt.to_csv(filename, sep=',', encoding='utf-8', index=False)"
   ]
  },
  {
   "cell_type": "code",
   "execution_count": null,
   "metadata": {
    "collapsed": false,
    "pycharm": {
     "is_executing": false,
     "name": "#%%\n"
    }
   },
   "outputs": [],
   "source": []
  }
 ],
 "metadata": {
  "celltoolbar": "Tags",
  "kernelspec": {
   "display_name": "Python 3",
   "language": "python",
   "name": "python3"
  },
  "language_info": {
   "codemirror_mode": {
    "name": "ipython",
    "version": 3
   },
   "file_extension": ".py",
   "mimetype": "text/x-python",
   "name": "python",
   "nbconvert_exporter": "python",
   "pygments_lexer": "ipython3",
   "version": "3.7.3"
  },
  "pycharm": {
   "stem_cell": {
    "cell_type": "raw",
    "metadata": {
     "collapsed": false
    },
    "source": []
   }
  }
 },
 "nbformat": 4,
 "nbformat_minor": 2
}