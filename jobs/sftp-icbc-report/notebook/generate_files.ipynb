{
 "cells": [
  {
   "cell_type": "markdown",
   "metadata": {},
   "source": [
    "# Filings Daily Stats"
   ]
  },
  {
   "cell_type": "markdown",
   "metadata": {},
   "source": [
    "We need to load in these libraries into our notebook in order to query, load, manipulate and view the data"
   ]
  },
  {
   "cell_type": "code",
   "execution_count": null,
   "metadata": {
    "pycharm": {
     "is_executing": false,
     "name": "#%%\n"
    }
   },
   "outputs": [],
   "source": [
    "import os\n",
    "import csv\n",
    "import gzip\n",
    "from datetime import datetime\n",
    "\n",
    "%load_ext sql\n",
    "%load_ext dotenv\n",
    "%config SqlMagic.displaylimit = 5"
   ]
  },
  {
   "cell_type": "code",
   "execution_count": null,
   "metadata": {},
   "outputs": [],
   "source": [
    "from dotenv import find_dotenv\n",
    "from dotenv import load_dotenv\n",
    "load_dotenv(find_dotenv())"
   ]
  },
  {
   "cell_type": "code",
   "execution_count": null,
   "metadata": {},
   "outputs": [],
   "source": [
    "%dotenv -o"
   ]
  },
  {
   "cell_type": "markdown",
   "metadata": {},
   "source": [
    "### DB Connection "
   ]
  },
  {
   "cell_type": "code",
   "execution_count": null,
   "metadata": {
    "pycharm": {
     "is_executing": false,
     "name": "#%%\n"
    }
   },
   "outputs": [],
   "source": [
    "import google.auth\n",
    "from google.cloud.sql.connector import Connector\n",
    "import sqlalchemy\n",
    "\n",
    "DB_USER = os.getenv(\"DATABASE_USERNAME\", \"\")\n",
    "DB_NAME = os.getenv(\"DATABASE_NAME\", \"\")\n",
    "DB_PASSWORD = os.getenv(\"DATABASE_PASSWORD\", \"\")\n",
    "DB_HOST = os.getenv(\"DATABASE_HOST\", \"\")\n",
    "DB_PORT = os.getenv(\"DATABASE_PORT\", \"\")\n",
    "DB_CONNECTION_NAME = os.getenv(\"LEAR_DB_CONNECTION_NAME\")  # project:region:instance-name\n",
    "\n",
    "# initialize Connector object\n",
    "connector = Connector()\n",
    "\n",
    "# function to return the database connection object\n",
    "def get_conn():\n",
    "    conn = connector.connect(\n",
    "        DB_CONNECTION_NAME,\n",
    "        \"pg8000\",\n",
    "        ip_type=\"public\",\n",
    "        user=DB_USER,\n",
    "        db=DB_NAME,\n",
    "        enable_iam_auth=True\n",
    "    )\n",
    "    return conn\n",
    "\n",
    "def get_pool():\n",
    "    # create connection pool with 'creator' argument to our connection object function\n",
    "    if not DB_CONNECTION_NAME:\n",
    "        connect_string = f'postgresql://{DB_USER}:{DB_PASSWORD}@{DB_HOST}:{DB_PORT}/{DB_NAME}'\n",
    "        pool = sqlalchemy.create_engine(connect_string)\n",
    "    else:\n",
    "        # NOTE: also need GOOGLE_APPLICATION_CREDENTIALS to be set in the .env\n",
    "        #    - when running the notebook on its own, the ^ cred path starts in this folder instead of the root of the service\n",
    "        #    - if this path is invalid or the creds are invalid the line below will fail\n",
    "        credentials, project_id = google.auth.default()\n",
    "        pool = sqlalchemy.create_engine(\n",
    "            \"postgresql+pg8000://\",\n",
    "            creator=get_conn,\n",
    "        )\n",
    "    \n",
    "    return pool"
   ]
  },
  {
   "cell_type": "code",
   "execution_count": null,
   "metadata": {},
   "outputs": [],
   "source": [
    "lear_pool = get_pool()\n",
    "%sql lear_pool --alias lear\n",
    "%sql lear"
   ]
  },
  {
   "cell_type": "code",
   "execution_count": null,
   "metadata": {},
   "outputs": [],
   "source": [
    "%sql --connections"
   ]
  },
  {
   "cell_type": "markdown",
   "metadata": {},
   "source": [
    "Simple query to run to ensure our libraries are loaded and our DB connection is working"
   ]
  },
  {
   "cell_type": "code",
   "execution_count": null,
   "metadata": {
    "pycharm": {
     "is_executing": false,
     "name": "#%%\n"
    }
   },
   "outputs": [],
   "source": [
    "%%sql \n",
    "select now() AT TIME ZONE 'PST' as current_date"
   ]
  },
  {
   "cell_type": "markdown",
   "metadata": {},
   "source": [
    "### Collect data"
   ]
  },
  {
   "cell_type": "code",
   "execution_count": null,
   "metadata": {},
   "outputs": [],
   "source": [
    "%%sql  icbc_data  <<\n",
    "select\n",
    " CASE WHEN state='ACTIVE' THEN '1'\n",
    "            WHEN state='HISTORICAL' THEN '2'\n",
    "  END \n",
    "|| \n",
    "legal_type\n",
    "||' '\n",
    "||substr(identifier,3,7)\n",
    "||upper(legal_name)\n",
    "from businesses\n",
    "where legal_type in ('SP','GP');"
   ]
  },
  {
   "cell_type": "markdown",
   "metadata": {},
   "source": [
    "### Save data to file"
   ]
  },
  {
   "cell_type": "code",
   "execution_count": null,
   "metadata": {},
   "outputs": [],
   "source": [
    "import functools\n",
    "\n",
    "# datestr = datetime.strftime(datetime.now(), '%Y%m%d')\n",
    "icbc_data_filename = os.path.join(os.getcwd(), r'data/') +'from_openshift.txt'\n",
    "   \n",
    "with open(icbc_data_filename, 'w') as f:\n",
    "    if not icbc_data.DataFrame().empty:\n",
    "        df=icbc_data.DataFrame()\n",
    "        # folling for looper change the string output from right alignment to left alignment.\n",
    "        formatters = {}        \n",
    "        for li in list(df.columns):\n",
    "            max = df[li].str.len().max()\n",
    "            form = \"{{:<{}s}}\".format(max)\n",
    "            formatters[li] = functools.partial(str.format, form)\n",
    "\n",
    "        dfAsString = df.to_string(formatters=formatters, header=False, index=False) \n",
    "        f.write(dfAsString)\n"
   ]
  }
 ],
 "metadata": {
  "celltoolbar": "Tags",
  "kernelspec": {
   "display_name": "venv",
   "language": "python",
   "name": "venv"
  },
  "language_info": {
   "codemirror_mode": {
    "name": "ipython",
    "version": 3
   },
   "file_extension": ".py",
   "mimetype": "text/x-python",
   "name": "python",
   "nbconvert_exporter": "python",
   "pygments_lexer": "ipython3",
   "version": "3.8.18"
  },
  "pycharm": {
   "stem_cell": {
    "cell_type": "raw",
    "metadata": {
     "collapsed": false
    },
    "source": []
   }
  },
  "vscode": {
   "interpreter": {
    "hash": "fcb35bce15c55b4cacb5112e543368f86c7f98ed17acd45e6841ee83ed1df6e3"
   }
  }
 },
 "nbformat": 4,
 "nbformat_minor": 2
}
