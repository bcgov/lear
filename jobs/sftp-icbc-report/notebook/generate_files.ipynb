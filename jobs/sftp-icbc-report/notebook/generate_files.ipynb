{
 "cells": [
  {
   "cell_type": "markdown",
   "metadata": {},
   "source": [
    "# Filings Daily Stats"
   ]
  },
  {
   "cell_type": "markdown",
   "metadata": {},
   "source": [
    "We need to load in these libraries into our notebook in order to query, load, manipulate and view the data"
   ]
  },
  {
   "cell_type": "code",
   "execution_count": null,
   "metadata": {
    "pycharm": {
     "is_executing": false,
     "name": "#%%\n"
    }
   },
   "outputs": [],
   "source": [
    "import os\n",
    "import pandas as pd\n",
    "import gzip\n",
    "from datetime import datetime, timedelta\n",
    "from cloud_sql_connector import DBConfig, getconn\n",
    "import pg8000\n",
    "import sqlalchemy"
   ]
  },
  {
   "cell_type": "code",
   "execution_count": null,
   "metadata": {},
   "outputs": [],
   "source": [
    "from dotenv import find_dotenv\n",
    "from dotenv import load_dotenv\n",
    "load_dotenv(find_dotenv())"
   ]
  },
  {
   "cell_type": "markdown",
   "metadata": {},
   "source": [
    "### DB Connection "
   ]
  },
  {
   "cell_type": "code",
   "execution_count": null,
   "metadata": {
    "pycharm": {
     "is_executing": false,
     "name": "#%%\n"
    }
   },
   "outputs": [],
   "source": [
    "config = DBConfig(\n",
    "    instance_name=os.getenv('LEAR_DB_CONNECTION_NAME'),\n",
    "    database=os.getenv('DATABASE_NAME'),\n",
    "    user=os.getenv('DATABASE_USER'),\n",
    "    ip_type=\"public\",\n",
    "    schema=\"business\"\n",
    "    )\n",
    "\n",
    "def get_conn():\n",
    "    \"\"\"Create a connection to Google Cloud SQL using the custom cloud-sql-connector.\"\"\"\n",
    "    return getconn(config)\n",
    "\n",
    "print('LEAR_DB_CONNECTION_NAME:', os.getenv('LEAR_DB_CONNECTION_NAME'))\n",
    "print('DATABASE_NAME:', os.getenv('DATABASE_NAME'))\n",
    "print('DATABASE_USER:', os.getenv('DATABASE_USER'))\n",
    "print('GOOGLE_APPLICATION_CREDENTIALS:', os.getenv('GOOGLE_APPLICATION_CREDENTIALS'))\n",
    "print('DBConfig:', config)\n",
    "\n",
    "engine = sqlalchemy.create_engine(\n",
    "    \"postgresql+pg8000://\",\n",
    "    creator=get_conn,\n",
    "    )\n",
    "\n",
    "print(\"Cloud SQL engine created successfully!\")\n",
    "print(f\"Engine: {engine}\")\n",
    "\n",
    "# Test the connection\n",
    "try:\n",
    "    with engine.connect() as connection:\n",
    "        result = connection.execute(sqlalchemy.text(\"SELECT 1 as test\"))\n",
    "        print(\"✅ Database connection test successful!\")\n",
    "        print(f\"Test result: {result.fetchone()}\")\n",
    "except Exception as e:\n",
    "    print(f\"❌ Connection failed: {e}\")\n",
    "\n"
   ]
  },
  {
   "cell_type": "markdown",
   "metadata": {},
   "source": [
    "### Collect data"
   ]
  },
  {
   "cell_type": "code",
   "execution_count": null,
   "metadata": {},
   "outputs": [],
   "source": [
    "icbc_query = \"\"\"\n",
    "select\n",
    " CASE WHEN state='ACTIVE' THEN '1'\n",
    "         WHEN state='HISTORICAL' THEN '2'\n",
    " END\n",
    "|| \n",
    "legal_type\n",
    "||' '\n",
    "||substr(identifier,3,7)\n",
    "||upper(legal_name)\n",
    "from businesses\n",
    "where legal_type in ('SP','GP');\n",
    "\"\"\"\n",
    "icbc_df = pd.read_sql(icbc_query, engine)"
   ]
  },
  {
   "cell_type": "markdown",
   "metadata": {},
   "source": [
    "### Save data to file"
   ]
  },
  {
   "cell_type": "code",
   "execution_count": null,
   "metadata": {},
   "outputs": [],
   "source": [
    "import functools\n",
    "\n",
    "datestr = datetime.strftime(datetime.now(), '%Y%m%d')\n",
    "icbc_data_filename = os.path.join(os.getcwd(), 'data', f'icbc_data_{datestr}.txt')\n",
    "os.makedirs(os.path.dirname(icbc_data_filename), exist_ok=True)\n",
    "\n",
    "with open(icbc_data_filename, 'w') as f:\n",
    "    if not icbc_df.empty:\n",
    "        # Change the string output from right alignment to left alignment.\n",
    "        formatters = {}\n",
    "        for li in list(icbc_df.columns):\n",
    "            maxlen = icbc_df[li].astype(str).str.len().max()\n",
    "            form = f'{{:<{maxlen}s}}'\n",
    "            formatters[li] = functools.partial(str.format, form)\n",
    "        dfAsString = icbc_df.to_string(formatters=formatters, header=False, index=False)\n",
    "        f.write(dfAsString)"
   ]
  }
 ],
 "metadata": {
  "celltoolbar": "Tags",
  "kernelspec": {
   "display_name": ".venv",
   "language": "python",
   "name": "python3"
  },
  "language_info": {
   "codemirror_mode": {
    "name": "ipython",
    "version": 3
   },
   "file_extension": ".py",
   "mimetype": "text/x-python",
   "name": "python",
   "nbconvert_exporter": "python",
   "pygments_lexer": "ipython3",
   "version": "3.13.4"
  },
  "pycharm": {
   "stem_cell": {
    "cell_type": "raw",
    "metadata": {
     "collapsed": false
    },
    "source": []
   }
  }
 },
 "nbformat": 4,
 "nbformat_minor": 2
}
