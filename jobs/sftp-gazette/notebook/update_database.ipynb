{
 "cells": [
  {
   "cell_type": "markdown",
   "metadata": {
    "collapsed": false
   },
   "source": [
    "# Filings Daily Stats"
   ]
  },
  {
   "cell_type": "markdown",
   "metadata": {
    "collapsed": false
   },
   "source": [
    "We need to load in these libraries into our notebook in order to query, load, manipulate and view the data"
   ]
  },
  {
   "cell_type": "code",
   "execution_count": null,
   "metadata": {
    "collapsed": false,
    "pycharm": {
     "is_executing": false,
     "name": "#%%\n"
    }
   },
   "outputs": [],
   "source": [
    "import os\n",
    "import csv\n",
    "from datetime import datetime\n",
    "\n",
    "%load_ext sql\n",
    "%load_ext dotenv\n",
    "%config SqlMagic.displaylimit = 5"
   ]
  },
  {
   "cell_type": "code",
   "execution_count": null,
   "metadata": {},
   "outputs": [],
   "source": [
    "from dotenv import find_dotenv\n",
    "from dotenv import load_dotenv\n",
    "\n",
    "load_dotenv(find_dotenv())"
   ]
  },
  {
   "cell_type": "code",
   "execution_count": null,
   "metadata": {},
   "outputs": [],
   "source": [
    "%dotenv -o"
   ]
  },
  {
   "cell_type": "markdown",
   "metadata": {},
   "source": [
    "### DB Connection"
   ]
  },
  {
   "cell_type": "code",
   "execution_count": null,
   "metadata": {},
   "outputs": [],
   "source": [
    "import google.auth\n",
    "from google.cloud.sql.connector import Connector\n",
    "import sqlalchemy\n",
    "\n",
    "DB_USER = os.getenv(\"DATABASE_USERNAME\", \"\")\n",
    "DB_NAME = os.getenv(\"DATABASE_NAME\", \"\")\n",
    "DB_PASSWORD = os.getenv(\"DATABASE_PASSWORD\", \"\")\n",
    "DB_HOST = os.getenv(\"DATABASE_HOST\", \"\")\n",
    "DB_PORT = os.getenv(\"DATABASE_PORT\", \"\")\n",
    "DB_CONNECTION_NAME = os.getenv(\"LEAR_DB_CONNECTION_NAME\")  # project:region:instance-name\n",
    "\n",
    "# initialize Connector object\n",
    "connector = Connector()\n",
    "\n",
    "# function to return the database connection object\n",
    "def get_conn():\n",
    "    conn = connector.connect(\n",
    "        DB_CONNECTION_NAME,\n",
    "        \"pg8000\",\n",
    "        ip_type=\"public\",\n",
    "        user=DB_USER,\n",
    "        db=DB_NAME,\n",
    "        enable_iam_auth=True\n",
    "    )\n",
    "    return conn\n",
    "\n",
    "def get_pool():\n",
    "    # create connection pool with 'creator' argument to our connection object function\n",
    "    if not DB_CONNECTION_NAME:\n",
    "        connect_string = f'postgresql://{DB_USER}:{DB_PASSWORD}@{DB_HOST}:{DB_PORT}/{DB_NAME}'\n",
    "        pool = sqlalchemy.create_engine(connect_string)\n",
    "    else:\n",
    "        # NOTE: also need GOOGLE_APPLICATION_CREDENTIALS to be set in the .env\n",
    "        #    - when running the notebook on its own, the ^ cred path starts in this folder instead of the root of the service\n",
    "        #    - if this path is invalid or the creds are invalid the line below will fail\n",
    "        credentials, project_id = google.auth.default()\n",
    "        pool = sqlalchemy.create_engine(\n",
    "            \"postgresql+pg8000://\",\n",
    "            creator=get_conn,\n",
    "        )\n",
    "    \n",
    "    return pool"
   ]
  },
  {
   "cell_type": "code",
   "execution_count": null,
   "metadata": {
    "collapsed": false,
    "pycharm": {
     "is_executing": false,
     "name": "#%%\n"
    }
   },
   "outputs": [],
   "source": [
    "lear_pool = get_pool()\n",
    "%sql lear_pool --alias lear\n",
    "%sql lear"
   ]
  },
  {
   "cell_type": "code",
   "execution_count": null,
   "metadata": {},
   "outputs": [],
   "source": [
    "%sql --connections"
   ]
  },
  {
   "cell_type": "markdown",
   "metadata": {
    "collapsed": false
   },
   "source": [
    "Simple query to run to ensure our libraries are loaded and our DB connection is working"
   ]
  },
  {
   "cell_type": "code",
   "execution_count": null,
   "metadata": {
    "collapsed": false,
    "pycharm": {
     "is_executing": false,
     "name": "#%%\n"
    }
   },
   "outputs": [],
   "source": [
    "%%sql \n",
    "select now() AT TIME ZONE 'PST' as current_date"
   ]
  },
  {
   "cell_type": "markdown",
   "metadata": {},
   "source": [
    "### Update db"
   ]
  },
  {
   "cell_type": "code",
   "execution_count": null,
   "metadata": {},
   "outputs": [],
   "source": [
    "%%sql \n",
    "update sent_to_gazette\n",
    "set sent_to_gazette_date = now() \n",
    "from (select f.id from  filings f, businesses b, sent_to_gazette stg, businesses_version old, businesses_version new  \n",
    "          where f.filing_type in ('alteration', 'changeOfName')                  \n",
    "                and f.business_id=b.id\n",
    "                and f.id=stg.filing_id\n",
    "                and b.legal_type in ('CP', 'XCP')\n",
    "                and f.transaction_id=old.end_transaction_id \n",
    "                and f.transaction_id=new.transaction_id                \n",
    "                and old.legal_name != new.legal_name\n",
    "                and stg.sent_to_gazette_date is null \n",
    "    ) AS subquery\n",
    "where sent_to_gazette.filing_id=subquery.id; "
   ]
  },
  {
   "cell_type": "code",
   "execution_count": null,
   "metadata": {},
   "outputs": [],
   "source": [
    "%%sql \n",
    "update sent_to_gazette\n",
    "set sent_to_gazette_date = now() \n",
    "from (select f.id from  filings f, businesses b, sent_to_gazette stg  \n",
    "          where f.filing_type in ('dissolved', 'voluntaryLiquidation', 'dissolution') \n",
    "                and f.business_id=b.id\n",
    "                and f.id=stg.filing_id\n",
    "                and b.legal_type in ('CP', 'XCP')\n",
    "                and stg.sent_to_gazette_date is null\n",
    "    ) AS subquery\n",
    "where sent_to_gazette.filing_id=subquery.id; "
   ]
  },
  {
   "cell_type": "code",
   "execution_count": null,
   "metadata": {},
   "outputs": [],
   "source": [
    "%%sql \n",
    "update sent_to_gazette\n",
    "set sent_to_gazette_date = now() \n",
    "from (select f.id from  filings f, businesses b, sent_to_gazette stg    \n",
    "          where f.filing_type in ('incorporationApplication','amalgamationApplication')      \n",
    "                and f.business_id=b.id\n",
    "                and f.id=stg.filing_id\n",
    "                and b.legal_type in ('CP', 'XCP')\n",
    "                and stg.sent_to_gazette_date is null\n",
    "    ) AS subquery\n",
    "where sent_to_gazette.filing_id=subquery.id; "
   ]
  },
  {
   "cell_type": "code",
   "execution_count": null,
   "metadata": {},
   "outputs": [],
   "source": [
    "%%sql \n",
    "update sent_to_gazette\n",
    "set sent_to_gazette_date = now() \n",
    "from (select f.id from  filings f, businesses b, sent_to_gazette stg    \n",
    "          where f.filing_type = 'restoration'    \n",
    "                and f.business_id=b.id\n",
    "                and f.id=stg.filing_id\n",
    "                and b.legal_type in ('CP', 'XCP')\n",
    "                and stg.sent_to_gazette_date is null\n",
    "    ) AS subquery\n",
    "where sent_to_gazette.filing_id=subquery.id; "
   ]
  }
 ],
 "metadata": {
  "celltoolbar": "Tags",
  "interpreter": {
   "hash": "2f51ab31a2dc705fa8f30eb4a9eb7cf6dd7d3f8031fa996a6e89563846c10d91"
  },
  "kernelspec": {
   "display_name": "Python 3.8.0 64-bit",
   "name": "python3"
  },
  "language_info": {
   "codemirror_mode": {
    "name": "ipython",
    "version": 3
   },
   "file_extension": ".py",
   "mimetype": "text/x-python",
   "name": "python",
   "nbconvert_exporter": "python",
   "pygments_lexer": "ipython3",
   "version": "3.8.0"
  },
  "pycharm": {
   "stem_cell": {
    "cell_type": "raw",
    "metadata": {
     "collapsed": false
    },
    "source": []
   }
  }
 },
 "nbformat": 4,
 "nbformat_minor": 2
}
