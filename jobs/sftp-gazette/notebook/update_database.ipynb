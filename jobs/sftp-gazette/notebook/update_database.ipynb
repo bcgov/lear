{
 "cells": [
  {
   "cell_type": "markdown",
   "metadata": {
    "collapsed": false
   },
   "source": [
    "# Filings Daily Stats"
   ]
  },
  {
   "cell_type": "markdown",
   "metadata": {
    "collapsed": false
   },
   "source": [
    "We need to load in these libraries into our notebook in order to query, load, manipulate and view the data"
   ]
  },
  {
   "cell_type": "code",
   "execution_count": null,
   "metadata": {
    "collapsed": false,
    "pycharm": {
     "is_executing": false,
     "name": "#%%\n"
    }
   },
   "outputs": [],
   "source": [
    "import os\n",
    "import csv\n",
    "from datetime import datetime\n",
    "\n",
    "%load_ext sql\n",
    "%config SqlMagic.displaylimit = 5"
   ]
  },
  {
   "cell_type": "markdown",
   "metadata": {
    "collapsed": false
   },
   "source": [
    "This will create the connection to the database and prep the jupyter magic for SQL"
   ]
  },
  {
   "cell_type": "markdown",
   "metadata": {},
   "source": []
  },
  {
   "cell_type": "code",
   "execution_count": null,
   "metadata": {
    "collapsed": false,
    "pycharm": {
     "is_executing": false,
     "name": "#%%\n"
    }
   },
   "outputs": [],
   "source": [
    "connect_to_db = 'postgresql://' + \\\n",
    "                os.getenv('PG_USER', '') + \":\" + os.getenv('PG_PASSWORD', '') +'@' + \\\n",
    "                os.getenv('PG_HOST', '') + ':' + os.getenv('PG_PORT', '5432') + '/' + os.getenv('PG_DB_NAME', '');\n",
    "    \n",
    "%sql $connect_to_db"
   ]
  },
  {
   "cell_type": "markdown",
   "metadata": {
    "collapsed": false
   },
   "source": [
    "Simplest query to run to ensure our libraries are loaded and our DB connection is working"
   ]
  },
  {
   "cell_type": "code",
   "execution_count": null,
   "metadata": {
    "collapsed": false,
    "pycharm": {
     "is_executing": false,
     "name": "#%%\n"
    }
   },
   "outputs": [],
   "source": [
    "%%sql \n",
    "select now() AT TIME ZONE 'PST' as current_date"
   ]
  },
  {
   "cell_type": "code",
   "execution_count": null,
   "metadata": {},
   "outputs": [],
   "source": [
    "%%sql \n",
    "update sent_to_gazette\n",
    "set sent_to_gazette_date = now() \n",
    "from (select f.id from  filings f, businesses b, sent_to_gazette stg, businesses_version old, businesses_version new  \n",
    "          where f.filing_type in ('alteration', 'changeOfName')                  \n",
    "                and f.business_id=b.id\n",
    "                and f.id=stg.filing_id\n",
    "                and f.transaction_id=old.end_transaction_id \n",
    "                and f.transaction_id=new.transaction_id                \n",
    "                and old.legal_name != new.legal_name\n",
    "                and stg.sent_to_gazette_date is null \n",
    "    ) AS subquery\n",
    "where sent_to_gazette.filing_id=subquery.id; "
   ]
  },
  {
   "cell_type": "code",
   "execution_count": null,
   "metadata": {},
   "outputs": [],
   "source": [
    "%%sql \n",
    "update sent_to_gazette\n",
    "set sent_to_gazette_date = now() \n",
    "from (select f.id from  filings f, businesses b, sent_to_gazette stg  \n",
    "          where f.filing_type in ('dissolved', 'dissolution')\n",
    "                and f.business_id=b.id\n",
    "                and f.id=stg.filing_id\n",
    "                and stg.sent_to_gazette_date is null\n",
    "    ) AS subquery\n",
    "where sent_to_gazette.filing_id=subquery.id; "
   ]
  },
  {
   "cell_type": "code",
   "execution_count": null,
   "metadata": {},
   "outputs": [],
   "source": [
    "%%sql \n",
    "update sent_to_gazette\n",
    "set sent_to_gazette_date = now() \n",
    "from (select f.id from  filings f, businesses b, sent_to_gazette stg    \n",
    "          where f.filing_type in ('incorporationApplication','amalgamationApplication')      \n",
    "                and f.business_id=b.id\n",
    "                and f.id=stg.filing_id\n",
    "                and stg.sent_to_gazette_date is null\n",
    "    ) AS subquery\n",
    "where sent_to_gazette.filing_id=subquery.id; "
   ]
  },
  {
   "cell_type": "code",
   "execution_count": null,
   "metadata": {},
   "outputs": [],
   "source": [
    "%%sql \n",
    "update sent_to_gazette\n",
    "set sent_to_gazette_date = now() \n",
    "from (select f.id from  filings f, businesses b, sent_to_gazette stg    \n",
    "          where f.filing_type = 'restoration'    \n",
    "                and f.business_id=b.id\n",
    "                and f.id=stg.filing_id\n",
    "                and stg.sent_to_gazette_date is null\n",
    "    ) AS subquery\n",
    "where sent_to_gazette.filing_id=subquery.id; "
   ]
  }
 ],
 "metadata": {
  "celltoolbar": "Tags",
  "interpreter": {
   "hash": "2f51ab31a2dc705fa8f30eb4a9eb7cf6dd7d3f8031fa996a6e89563846c10d91"
  },
  "kernelspec": {
   "display_name": "Python 3.8.0 64-bit",
   "name": "python3"
  },
  "language_info": {
   "codemirror_mode": {
    "name": "ipython",
    "version": 3
   },
   "file_extension": ".py",
   "mimetype": "text/x-python",
   "name": "python",
   "nbconvert_exporter": "python",
   "pygments_lexer": "ipython3",
   "version": "3.8.0"
  },
  "pycharm": {
   "stem_cell": {
    "cell_type": "raw",
    "metadata": {
     "collapsed": false
    },
    "source": []
   }
  }
 },
 "nbformat": 4,
 "nbformat_minor": 2
}
