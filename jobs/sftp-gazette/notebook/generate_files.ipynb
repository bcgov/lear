{
 "cells": [
  {
   "cell_type": "markdown",
   "metadata": {
    "collapsed": false
   },
   "source": [
    "# Filings Daily Stats"
   ]
  },
  {
   "cell_type": "markdown",
   "metadata": {
    "collapsed": false
   },
   "source": [
    "We need to load in these libraries into our notebook in order to query, load, manipulate and view the data"
   ]
  },
  {
   "cell_type": "code",
   "execution_count": null,
   "metadata": {
    "collapsed": false,
    "pycharm": {
     "is_executing": false,
     "name": "#%%\n"
    }
   },
   "outputs": [],
   "source": [
    "import os\n",
    "import csv\n",
    "from datetime import datetime\n",
    "\n",
    "%load_ext sql\n",
    "%config SqlMagic.displaylimit = 5"
   ]
  },
  {
   "cell_type": "markdown",
   "metadata": {
    "collapsed": false
   },
   "source": [
    "This will create the connection to the database and prep the jupyter magic for SQL"
   ]
  },
  {
   "cell_type": "markdown",
   "metadata": {},
   "source": []
  },
  {
   "cell_type": "code",
   "execution_count": null,
   "metadata": {
    "collapsed": false,
    "pycharm": {
     "is_executing": false,
     "name": "#%%\n"
    }
   },
   "outputs": [],
   "source": [
    "connect_to_db = 'postgresql://' + \\\n",
    "                os.getenv('PG_USER', '') + \":\" + os.getenv('PG_PASSWORD', '') +'@' + \\\n",
    "                os.getenv('PG_HOST', '') + ':' + os.getenv('PG_PORT', '5432') + '/' + os.getenv('PG_DB_NAME', '');\n",
    "    \n",
    "%sql $connect_to_db"
   ]
  },
  {
   "cell_type": "markdown",
   "metadata": {
    "collapsed": false
   },
   "source": [
    "Simplest query to run to ensure our libraries are loaded and our DB connection is working"
   ]
  },
  {
   "cell_type": "code",
   "execution_count": null,
   "metadata": {
    "collapsed": false,
    "pycharm": {
     "is_executing": false,
     "name": "#%%\n"
    }
   },
   "outputs": [],
   "source": [
    "%%sql \n",
    "select now() AT TIME ZONE 'PST' as current_date"
   ]
  },
  {
   "cell_type": "code",
   "execution_count": null,
   "metadata": {},
   "outputs": [],
   "source": [
    "%%sql \n",
    "insert into sent_to_gazette (filing_id, identifier, sent_to_gazette_date)\n",
    "select f.id, b.identifier, null\n",
    "from filings      f\n",
    "    ,businesses   b \n",
    "    ,businesses_version old \n",
    "    ,businesses_version new \n",
    "where f.filing_type in ('alteration', 'changeOfName')   \n",
    "    and f.business_id=b.id\n",
    "    and f.transaction_id=old.end_transaction_id \n",
    "    and f.transaction_id=new.transaction_id\n",
    "    and f.source='LEAR' \n",
    "    and old.legal_name != new.legal_name\n",
    "    and f.id not in (select filing_id from sent_to_gazette);  "
   ]
  },
  {
   "cell_type": "code",
   "execution_count": null,
   "metadata": {},
   "outputs": [],
   "source": [
    "%%sql  coop_gazette_changeofname  <<\n",
    "select\n",
    "  to_char(f.effective_date,'MON dd, yyyy')\n",
    "||';'\n",
    "|| CASE WHEN b.legal_type='CP' THEN 'CP'||substr(b.identifier,6,4) ||'    '\n",
    "        WHEN b.legal_type='XCP' THEN 'XCP'||substr(b.identifier,7,4)||'   '\n",
    "        ELSE b.identifier||' '\n",
    "   END  \n",
    "||';'\n",
    "||rpad(substr(old.legal_name,1,52),52)\n",
    "||';'\n",
    "||' to '\n",
    "||';'\n",
    "||rpad(substr(new.legal_name,1,58),58)\n",
    "from filings      f\n",
    "    ,businesses   b   \n",
    "    ,sent_to_gazette stg\n",
    "    ,businesses_version old \n",
    "    ,businesses_version new \n",
    "where f.filing_type in ('alteration', 'changeOfName')\n",
    "    and f.business_id=b.id\n",
    "    and f.id=stg.filing_id  \n",
    "    and f.transaction_id=old.end_transaction_id \n",
    "    and f.transaction_id=new.transaction_id\n",
    "    and old.legal_name != new.legal_name\n",
    "    and stg.sent_to_gazette_date is null   \n",
    "order by f.effective_date;"
   ]
  },
  {
   "cell_type": "code",
   "execution_count": null,
   "metadata": {},
   "outputs": [],
   "source": [
    "datestr = datetime.strftime(datetime.now(), '%Y%m%d')\n",
    "coop_gazette_changeofname_filename = os.getenv('DATA_DIR', '')+'COOP_GAZETTE_CHANGEOFNAME_' + datestr +'.TXT'\n",
    "\n",
    "with open(coop_gazette_changeofname_filename, 'w') as f:\n",
    "    if not coop_gazette_changeofname.DataFrame().empty:\n",
    "        dfAsString = coop_gazette_changeofname.DataFrame().to_string(header=False, index=False)\n",
    "        f.write(dfAsString)"
   ]
  },
  {
   "cell_type": "code",
   "execution_count": null,
   "metadata": {},
   "outputs": [],
   "source": [
    "%%sql \n",
    "insert into sent_to_gazette (filing_id, identifier, sent_to_gazette_date)\n",
    "select f.id, b.identifier, null\n",
    "from filings      f\n",
    "    ,businesses   b    \n",
    "where f.filing_type in ('dissolved', 'dissolution') \n",
    "    and f.business_id=b.id \n",
    "    and f.source='LEAR' \n",
    "    and f.id not in (select filing_id from sent_to_gazette);"
   ]
  },
  {
   "cell_type": "code",
   "execution_count": null,
   "metadata": {},
   "outputs": [],
   "source": [
    "%%sql coop_gazette_dissolution  <<\n",
    "select\n",
    "  to_char(f.effective_date,'yyyymmdd')\n",
    "||';'\n",
    "|| CASE WHEN b.legal_type='CP' THEN 'CP '||substr(b.identifier,3,7)\n",
    "        WHEN b.legal_type='XCP' THEN 'XCP'||substr(b.identifier,4,7) \n",
    "        ELSE 'BC '||substr(b.identifier,3,7)   \n",
    "   END                     \n",
    "||';' \n",
    "||rpad(b.legal_name,150)\n",
    "||';'\n",
    "|| CASE WHEN f.filing_type = 'dissolved' THEN '1'\n",
    "        WHEN f.filing_type = 'dissolution' THEN '2'        \n",
    "   end   \n",
    "||rpad(' ',27)\n",
    "from filings      f\n",
    "    ,businesses   b   \n",
    "    ,sent_to_gazette stg\n",
    "where f.filing_type in ('dissolved', 'dissolution')  \n",
    "      and f.business_id=b.id\n",
    "      and f.id=stg.filing_id      \n",
    "      and stg.sent_to_gazette_date is null   \n",
    "order by f.effective_date;      "
   ]
  },
  {
   "cell_type": "code",
   "execution_count": null,
   "metadata": {},
   "outputs": [],
   "source": [
    "coop_gazette_dissolution_filename = os.getenv('DATA_DIR', '')+'COOP_GAZETTE_DISSOLUTION_' + datestr +'.TXT'\n",
    "\n",
    "with open(coop_gazette_dissolution_filename, 'w') as f:  \n",
    "    if not coop_gazette_dissolution.DataFrame().empty:\n",
    "        dfAsString = coop_gazette_dissolution.DataFrame().to_string(header=False, index=False)\n",
    "        f.write(dfAsString)"
   ]
  },
  {
   "cell_type": "code",
   "execution_count": null,
   "metadata": {},
   "outputs": [],
   "source": [
    "%%sql \n",
    "insert into sent_to_gazette (filing_id, identifier, sent_to_gazette_date)\n",
    "select f.id, b.identifier, null\n",
    "from filings      f\n",
    "    ,businesses   b    \n",
    "where f.filing_type in ('incorporationApplication','amalgamationApplication') \n",
    "    and f.business_id=b.id \n",
    "    and f.source='LEAR' \n",
    "    and f.id not in (select filing_id from sent_to_gazette);"
   ]
  },
  {
   "cell_type": "code",
   "execution_count": null,
   "metadata": {},
   "outputs": [],
   "source": [
    "%%sql coop_gazette_incorporation  <<\n",
    "select\n",
    "  to_char(b.founding_date,'MON dd, yyyy')\n",
    "||';'\n",
    "|| CASE WHEN b.legal_type='CP' THEN 'CP' ||substr(b.identifier,6,4)||'    '\n",
    "       WHEN b.legal_type='XCP' THEN 'XCP'||substr(b.identifier,7,4)||'   '\n",
    "        ELSE b.identifier ||' '\n",
    "   END                 \n",
    "||';'\n",
    "||rpad(b.legal_name,150)\n",
    "||rpad(' ',59)\n",
    "from filings      f\n",
    "    ,businesses   b    \n",
    "    ,sent_to_gazette stg\n",
    "where f.filing_type in ('incorporationApplication','amalgamationApplication') \n",
    "    and f.business_id=b.id \n",
    "    and f.id=stg.filing_id\n",
    "    and stg.sent_to_gazette_date is null   \n",
    "order by b.founding_date;"
   ]
  },
  {
   "cell_type": "code",
   "execution_count": null,
   "metadata": {},
   "outputs": [],
   "source": [
    "coop_gazette_incorporation_filename = os.getenv('DATA_DIR', '')+'COOP_GAZETTE_INCORPORATION_' + datestr +'.TXT'\n",
    "\n",
    "with open(coop_gazette_incorporation_filename, 'w') as f:\n",
    "    if not coop_gazette_incorporation.DataFrame().empty:\n",
    "        dfAsString = coop_gazette_incorporation.DataFrame().to_string(header=False, index=False)\n",
    "        f.write(dfAsString)"
   ]
  },
  {
   "cell_type": "code",
   "execution_count": null,
   "metadata": {},
   "outputs": [],
   "source": [
    "%%sql \n",
    "insert into sent_to_gazette (filing_id, identifier, sent_to_gazette_date)\n",
    "select f.id, b.identifier, null\n",
    "from filings      f\n",
    "    ,businesses   b    \n",
    "where f.filing_type = 'restoration' \n",
    "    and f.business_id=b.id \n",
    "    and f.source='LEAR' \n",
    "    and f.id not in (select filing_id from sent_to_gazette);"
   ]
  },
  {
   "cell_type": "code",
   "execution_count": null,
   "metadata": {},
   "outputs": [],
   "source": [
    "%%sql  coop_gazette_restoration  <<\n",
    "select\n",
    "  to_char(f.effective_date,'yyyymmdd')\n",
    "||';'\n",
    "|| CASE WHEN b.legal_type='CP' THEN 'CP    '||substr(b.identifier,6,4)\n",
    "       WHEN b.legal_type='XCP' THEN 'XCP   '||substr(b.identifier,7,4)\n",
    "       ELSE 'BC '||substr(b.identifier,3,7)\n",
    "   END                     \n",
    "||';'\n",
    "||rpad(b.legal_name,112)\n",
    "from filings      f\n",
    "    ,businesses   b    \n",
    "    ,sent_to_gazette stg\n",
    "where f.filing_type = 'restoration'  \n",
    "  and f.business_id=b.id \n",
    "  and f.id=stg.filing_id\n",
    "  and stg.sent_to_gazette_date is null \n",
    "order by f.effective_date;"
   ]
  },
  {
   "cell_type": "code",
   "execution_count": null,
   "metadata": {},
   "outputs": [],
   "source": [
    "coop_gazette_restoration_filename = os.getenv('DATA_DIR', '')+'COOP_GAZETTE_RESTORATION_' + datestr +'.TXT'\n",
    "\n",
    "with open(coop_gazette_restoration_filename, 'w') as f:\n",
    "    if not coop_gazette_restoration.DataFrame().empty:\n",
    "        dfAsString = coop_gazette_restoration.DataFrame().to_string(header=False, index=False)\n",
    "        f.write(dfAsString)"
   ]
  }
 ],
 "metadata": {
  "celltoolbar": "Tags",
  "interpreter": {
   "hash": "2f51ab31a2dc705fa8f30eb4a9eb7cf6dd7d3f8031fa996a6e89563846c10d91"
  },
  "kernelspec": {
   "display_name": "Python 3.8.0 64-bit",
   "name": "python3"
  },
  "language_info": {
   "codemirror_mode": {
    "name": "ipython",
    "version": 3
   },
   "file_extension": ".py",
   "mimetype": "text/x-python",
   "name": "python",
   "nbconvert_exporter": "python",
   "pygments_lexer": "ipython3",
   "version": "3.8.0"
  },
  "pycharm": {
   "stem_cell": {
    "cell_type": "raw",
    "metadata": {
     "collapsed": false
    },
    "source": []
   }
  }
 },
 "nbformat": 4,
 "nbformat_minor": 2
}
