{
 "cells": [
  {
   "cell_type": "markdown",
   "metadata": {
    "collapsed": false
   },
   "source": [
    "# Filings Daily Stats"
   ]
  },
  {
   "cell_type": "markdown",
   "metadata": {
    "collapsed": false
   },
   "source": [
    "We need to load in these libraries into our notebook in order to query, load, manipulate and view the data"
   ]
  },
  {
   "cell_type": "code",
   "execution_count": null,
   "metadata": {
    "collapsed": false,
    "pycharm": {
     "is_executing": false,
     "name": "#%%\n"
    }
   },
   "outputs": [],
   "source": [
    "import os\n",
    "import csv\n",
    "import pandas as pd\n",
    "import numpy as np\n",
    "import json\n",
    "import gspread\n",
    "import re\n",
    "from pytz import timezone\n",
    "from config import Config\n",
    "from pathlib import Path\n",
    "from jinja2 import Template\n",
    "\n",
    "from datetime import datetime, timedelta, tzinfo, timezone\n",
    "from oauth2client.service_account import ServiceAccountCredentials\n",
    "from df2gspread import df2gspread as d2g\n",
    "\n",
    "%load_ext sql\n",
    "%config SqlMagic.displaylimit = 5"
   ]
  },
  {
   "cell_type": "markdown",
   "metadata": {
    "collapsed": false
   },
   "source": [
    "This will create the connection to the database and prep the jupyter magic for SQL"
   ]
  },
  {
   "cell_type": "markdown",
   "metadata": {},
   "source": []
  },
  {
   "cell_type": "code",
   "execution_count": null,
   "metadata": {
    "collapsed": false,
    "pycharm": {
     "is_executing": false,
     "name": "#%%\n"
    }
   },
   "outputs": [],
   "source": [
    "%sql $Config.SQLALCHEMY_DATABASE_URI"
   ]
  },
  {
   "cell_type": "markdown",
   "metadata": {},
   "source": [
    "Define the scope of the report for corp types and filing types"
   ]
  },
  {
   "cell_type": "code",
   "execution_count": 2,
   "metadata": {},
   "outputs": [
    {
     "data": {
      "text/plain": [
       "\"('alteration','incorporationApplication','continuationOut','dissolution','restoration','registration')\""
      ]
     },
     "execution_count": 2,
     "metadata": {},
     "output_type": "execute_result"
    }
   ],
   "source": [
    "corpTypesStr = ''\n",
    "corpTypeList = ['BC', 'BEN', 'C', 'CBEN', 'CC', 'CCC', 'CUL', 'ULC']\n",
    "for x in range(len(corpTypeList)):\n",
    "    corpTypesStr += '\\'' + corpTypeList[x] + '\\'' + ','\n",
    "corpTypesStr = '('+corpTypesStr[:-1]+')'   \n",
    "\n",
    "filingTypesDic = {'alteration': ['CHANGES OF NAME', 'CHANGES OF TYPE']\n",
    "                  , 'incorporationApplication': ['INCORPORATIONS']\n",
    "                #   , 'amalgamationApplication': ['AMALGAMATIONS']\n",
    "                #   , 'continuationIn': ['CONTINUATIONS IN']\n",
    "                  , 'continuationOut': ['CONTINUATIONS OUT']\n",
    "                  , 'dissolution': ['DISSOLUTIONS']\n",
    "                  , 'restoration': ['RESTORATIONS']\n",
    "                  , 'registration': ['REGISTRATIONS']}\n",
    "\n",
    "filingTypesStr = '' \n",
    "for i in filingTypesDic:\n",
    "    filingTypesStr += '\\'' +i + '\\'' + ','\n",
    "filingTypesStr = '('+filingTypesStr[:-1]+')'     \n",
    "\n",
    "# Following dictionary defined the value of the corp type which is not exact the same as the full desc in the corp_type table \n",
    "# so it will display on the report as required.\n",
    "corp_type_dict = {'BC': 'BC Company', 'BEN': 'BC Benefit Company', \n",
    "                    'C': 'Continue in BC Limited Company', 'CBEN': 'Continue in BC Benefit Company',\n",
    "                    'CC': 'BC Community Contribution Company', 'CCC': 'BC Community Contribution Company', \n",
    "                    'CUL': 'Continuation in BC Unlimited Liability Company', 'ULC': 'BC Unlimited Liability Company'}\n",
    "\n",
    "corp_class_dict = {'BC': 'BC Company(s)', 'XPRO': 'Extraprovincial Company(s)', 'SOC': 'BC Societies', 'FIRM': 'BC Partnership'}"
   ]
  },
  {
   "cell_type": "code",
   "execution_count": null,
   "metadata": {},
   "outputs": [],
   "source": [
    "def generateOutputList(df, v_category, items_list, unsupport_items_list):\n",
    "    if not df.empty:        \n",
    "        t_category_values = []\n",
    "        t_sub_category_values = []\n",
    "        t_corp_class_values = []\n",
    "        t_desc_values = [] \n",
    "        seq = ''\n",
    "                \n",
    "        for ind, row in df.iterrows(): \n",
    "            seq = df['legal_name'] + ' at ' +  df['effective_date'].dt.strftime('%I:%M %p') + ' Pacific Time' \n",
    "            if v_category == 'CHANGES OF NAME':               \n",
    "                t_category_values.append(v_category)  \n",
    "                t_sub_category_values.append('')   \n",
    "                if corp_class_dict.get(row['corp_class']) != None:  \n",
    "                    t_corp_class_values.append(corp_class_dict.get(row['corp_class']))                                        \n",
    "                    t_desc_values.append('The Registrar of Companies hereby gives notice that the following ' + corp_class_dict.get(row['corp_class']).replace('y(s)', 'ies').replace('BC ', '').lower() + ' have changed their names')                \n",
    "                    seq = df['from_name'] + ' to ' +  df['to_name'] + ' at ' +  df['effective_date'].dt.strftime('%I:%M %p') + ' Pacific Time' \n",
    "                else:\n",
    "                    t_corp_class_values.append('') \n",
    "                    t_desc_values.append('UNSUPPORT')    \n",
    "            elif v_category == 'CHANGES OF TYPE':               \n",
    "                if  (corp_type_dict.get(row['from_type']) != None and corp_type_dict.get(row['to_type']) != None):\n",
    "                    t_category_values.append('ALTERATION TO BECOME A ' + corp_type_dict.get(row['to_type']).upper())        \n",
    "                    t_sub_category_values.append('') \n",
    "                    t_corp_class_values.append(corp_class_dict.get(row['corp_class']))           \n",
    "                    t_desc_values.append('The Registrar of Companies hereby gives notice that the following ' + corp_type_dict.get(row['from_type'])[0:-1] + 'ies filed a notice of alteration to become ' + corp_type_dict.get(row['to_type'])[0:-1] + 'ies')                  \n",
    "                    seq = corp_type_dict.get(row['from_type']) + ' became ' +  corp_type_dict.get(row['to_type']) + ' at ' +  df['effective_date'].dt.strftime('%I:%M %p') + ' Pacific Time'  \n",
    "                else:\n",
    "                    t_category_values.append('')\n",
    "                    t_sub_category_values.append('')\n",
    "                    t_corp_class_values.append('')   \n",
    "                    t_desc_values.append('UNSUPPORT')            \n",
    "            #  CONTINUATIONS IN has not been implemented yet. seq value need to be updated after it is in the filing table.                         \n",
    "            # elif v_category == 'CONTINUATIONS IN':  \n",
    "            #         t_category_values.append(v_category)\n",
    "            #         t_sub_category_values.append('')                     \n",
    "            #         t_corp_class_values.append(corp_class_dict.get(row['corp_class']))  \n",
    "            #         t_desc_values.append('The Registrar of Companies hereby gives notice that the following foreign corporations have continued into British Columbia')   # checked\n",
    "            elif v_category == 'CONTINUATIONS OUT':              \n",
    "                    t_category_values.append(v_category)\n",
    "                    t_sub_category_values.append('') \n",
    "                    t_corp_class_values.append(corp_class_dict.get(row['corp_class']))  \n",
    "                    t_desc_values.append('The Registrar of Companies hereby gives notice that the following companies were removed from the registry and continued out of British Columbia')   # checked                    \n",
    "                    seq = df['legal_name'] + df['foreign_text'] \n",
    "                    # don't want time... + ' at ' +  df['effective_date'].dt.strftime('%I:%M %p') + ' Pacific Time'             \n",
    "            else: \n",
    "                t_category_values.append(v_category)   \n",
    "                if v_category == 'INCORPORATIONS':\n",
    "                    t_sub_category_values.append('') \n",
    "                    if corp_class_dict.get(row['corp_class']) != None:\n",
    "                            t_corp_class_values.append(corp_class_dict.get(row['corp_class']))  \n",
    "                    else: \n",
    "                        t_corp_class_values.append('')  \n",
    "                    t_desc_values.append('The Registrar of Companies hereby gives notice of the incorporation of the following companies')                               \n",
    "                # AMALGAMATIONS has not been implement yet. seq value need to be updated after it is in the filing table.     \n",
    "                elif v_category == 'AMALGAMATIONS':   \n",
    "                    t_sub_category_values.append('') \n",
    "                    if row['corp_class'] == 'BC': \n",
    "                        t_corp_class_values.append(corp_class_dict.get(row['corp_class']))  \n",
    "                        t_desc_values.append('The Registrar of Companies hereby gives notice that the following companies have amalgamated')                                          \n",
    "                    elif row['corp_class'] == 'XPRO' and (row['corp_type_cd'] == 'A' or row['corp_type_cd'] == 'B'): \n",
    "                        t_corp_class_values.append('BC Company(s) with Foreign Corporations')\n",
    "                        t_desc_values.append('The Registrar of Companies hereby gives notice that the following companies and foreign corporations have amalgamated')                                               \n",
    "                    elif row['corp_class'] == 'XPRO' and row['corp_type_cd'] == 'FOR':\n",
    "                        t_corp_class_values.append('Foreign Entities')\n",
    "                        t_desc_values.append('The Registrar of Companies hereby gives notice that the following extraprovincial companies have registered an amalgamation')                                                 \n",
    "                    else:\n",
    "                        t_corp_class_values.append('') \n",
    "                        t_desc_values.append('UNSUPPORT')   \n",
    "                elif v_category == 'DISSOLUTIONS':\n",
    "                    if row['filing_sub_type'] != None:\n",
    "                        t_sub_category_values.append(row['filing_sub_type'].capitalize()) \n",
    "                        if corp_class_dict.get(row['corp_class']) != None:\n",
    "                            t_corp_class_values.append(corp_class_dict.get(row['corp_class']))  \n",
    "                        else: \n",
    "                            t_corp_class_values.append('')                           \n",
    "                        t_desc_values.append('The Registrar of Companies hereby gives notice that the following companies were dissolved as a result of a ' + row['filing_sub_type'] + ' dissolution')  \n",
    "                    else:\n",
    "                        t_sub_category_values.append('') \n",
    "                        if corp_class_dict.get(row['corp_class']) != None:\n",
    "                            t_corp_class_values.append(corp_class_dict.get(row['corp_class']))  \n",
    "                        else: \n",
    "                            t_corp_class_values.append('') \n",
    "                        t_desc_values.append('The Registrar of Companies hereby gives notice that the following companies were dissolved under section 317, 422 or 423 of the Business Corporations Act')    \n",
    "                elif v_category == 'REGISTRATIONS':\n",
    "                    t_sub_category_values.append('') \n",
    "                    if corp_class_dict.get(row['corp_class']) != None:\n",
    "                        t_corp_class_values.append(corp_class_dict.get(row['corp_class']))  \n",
    "                        if row['corp_class'] == 'XPRO':\n",
    "                            t_desc_values.append('The Registrar of Companies hereby gives notice of the registration of the following foreign entities as extraprovincial companies')   \n",
    "                        else:\n",
    "                            t_desc_values.append('The Registrar of Companies hereby gives notice of the registration of the following companies')     \n",
    "                    else: \n",
    "                        t_corp_class_values.append('')  \n",
    "                        t_desc_values.append('UNSUPPORT') \n",
    "                elif v_category == 'RESTORATIONS':    #it is not in filings table yet. seq value need to be updated after it is in the filing table.       \n",
    "                    t_sub_category_values.append('')      \n",
    "                    if row['filing_sub_type'] == 'fullRestoration' or  \\\n",
    "                       row['filing_sub_type'] == 'limitedRestoration' or \\\n",
    "                       row['filing_sub_type'] == 'limitedRestorationExtension' or \\\n",
    "                       row['filing_sub_type'] == 'expiredLimitedRestoration' or \\\n",
    "                       row['filing_sub_type'] == 'limitedRestorationToFull': \n",
    "                        str = re.sub(r\"\\B([A-Z])\", r\" \\1\", row['filing_sub_type'])  \n",
    "                        str = str[:1].upper() + str[1:]                         \n",
    "                        if corp_class_dict.get(row['corp_class']) != None:\n",
    "                            t_corp_class_values.append(corp_class_dict.get(row['corp_class']))  \n",
    "                            if row['corp_class'] == 'XPRO':\n",
    "                                t_desc_values.append('The Registrar of Companies hereby gives notice of the ' + str.lower() + ' of the following foreign entities as extraprovincial companies') \n",
    "                            else:    \n",
    "                                t_desc_values.append('The Registrar of Companies hereby gives notice of the ' + str.lower() + ' of the following companies') \n",
    "                        else: \n",
    "                            t_corp_class_values.append('') \n",
    "                            t_desc_values.append('UNSUPPORT') \n",
    "                    else:\n",
    "                        t_corp_class_values.append('') \n",
    "                        t_desc_values.append('UNSUPPORT')                              \n",
    "        \n",
    "      \n",
    "        # put these fields in the front of the df        \n",
    "        df = pd.concat([pd.Series(seq, index=df.index, name='text'), df], axis=1)  # fifth column\n",
    "        df = pd.concat([pd.Series(t_desc_values, index=df.index, name='t_desc'), df], axis=1)  # fourth column\n",
    "        df = pd.concat([pd.Series(t_corp_class_values, index=df.index, name='t_corp_class'), df], axis=1)  # third column\n",
    "        df = pd.concat([pd.Series(t_sub_category_values, index=df.index, name='t_sub_category'), df], axis=1)  # second column        \n",
    "        df = pd.concat([pd.Series(t_category_values, index=df.index, name='t_category'), df], axis=1)   # first column\n",
    "\n",
    "        for i, x in df.groupby(['t_desc']):  \n",
    "            for k, gr in df.loc[df['t_desc'] == i].groupby([df['effective_date'].dt.strftime('%Y %m, %d')]):\n",
    "                if 'UNSUPPORT' in gr.values:\n",
    "                    unsupport_items_list.append(list(gr.values.tolist()))\n",
    "                else:                                    \n",
    "                    items_list.append(list(gr.values.tolist()))            "
   ]
  },
  {
   "cell_type": "code",
   "execution_count": null,
   "metadata": {},
   "outputs": [],
   "source": [
    "%%sql \n",
    "INSERT INTO sent_to_gazette (filing_id, filing_type, identifier, sent_to_gazette_date)\n",
    "SELECT f.id, f.filing_type, b.identifier, null\n",
    "FROM businesses b, filings f\n",
    "WHERE b.id = f.business_id\n",
    "    AND b.legal_type in {corpTypesStr} \n",
    "    AND f.status='COMPLETED'    \n",
    "    AND f.source='LEAR'\n",
    "    AND f.filing_type in {filingTypesStr} \n",
    "    AND f.id not in (select filing_id from sent_to_gazette)\n",
    "    AND to_char(f.filing_date at time zone 'America/Vancouver','yyyymmdd') >= to_char(now() at time zone 'America/Vancouver' - interval '9 day','yyyymmdd')   \n",
    "    AND to_char(f.filing_date at time zone 'America/Vancouver','yyyymmdd') <= to_char(now() at time zone 'America/Vancouver' - interval '3 day','yyyymmdd');"
   ]
  },
  {
   "cell_type": "code",
   "execution_count": null,
   "metadata": {},
   "outputs": [],
   "source": [
    "%%sql  all_data  <<\n",
    "    SELECT b.identifier, b.legal_name, b.legal_type, f.effective_date, f.filing_type, f.id, f.status, ct.corp_class, ct.full_desc, f.filing_sub_type,\n",
    "    f.meta_data-> 'alteration'->>'fromLegalType' as from_type, \n",
    "    f.meta_data-> 'alteration'->>'toLegalType' as to_type, \n",
    "    f.meta_data-> 'alteration'->>'fromLegalName' as from_name, \n",
    "    f.meta_data-> 'alteration'->>'toLegalName' as to_name,\n",
    "    ' (continued into '||coalesce(foreign_jurisdiction,' ')||case when foreign_jurisdiction_region is null then ' ' else '-'\n",
    "    ||foreign_jurisdiction_region end||'), being continued under the name '||coalesce(foreign_legal_name,' ') AS foreign_text\n",
    "    FROM businesses b, corp_types ct, filings f, sent_to_gazette stg\n",
    "    WHERE b.id = f.business_id\n",
    "    AND f.id=stg.filing_id\n",
    "    AND b.legal_type = ct.corp_type_cd\n",
    "    AND stg.sent_to_gazette_date is null\n",
    "    ORDER BY 9, 8, 4;"
   ]
  },
  {
   "cell_type": "code",
   "execution_count": null,
   "metadata": {},
   "outputs": [],
   "source": [
    "all_df = all_data.DataFrame()\n",
    "\n",
    "items_list = []\n",
    "unsupport_items_list = []\n",
    "sent_to_gazette_filename = os.path.join(os.getcwd(), r'data/')+'sent_to_gazette.xml'\n",
    "if not os.path.isfile(sent_to_gazette_filename):\n",
    "        Path(sent_to_gazette_filename).touch()\n",
    "\n",
    "if not all_df.empty:\n",
    "    all_df['effective_date'] = all_df['effective_date'].dt.tz_convert('US/Pacific')\n",
    "    for key in filingTypesDic:\n",
    "        df = all_df.loc[all_df['filing_type'] == key]\n",
    "        if (key == 'alteration'): \n",
    "            generateOutputList(df.loc[df['to_name'].ne(df['from_name'])] , filingTypesDic[key][0], items_list, unsupport_items_list)  # for 'CHANGES OF NAME'\n",
    "            for x in range(len(corpTypeList)): \n",
    "                generateOutputList(df.loc[df['to_type'].ne(df['from_type'])].loc[df['to_type'] == corpTypeList[x]], filingTypesDic[key][1], items_list, unsupport_items_list)  # for 'CHANGES OF TYPE'\n",
    "        else:\n",
    "            generateOutputList(df, filingTypesDic[key][0], items_list, unsupport_items_list)     \n",
    "\n",
    "    headList = [] \n",
    "    for i in items_list:\n",
    "        # To make sure there is no duplicated on the header\n",
    "        if (str(i[0][0]) + ':' + str(i[0][1]) + ':' + str(i[0][2]) + ':' + str(i[0][3])) not in headList:\n",
    "            headList.append(str(i[0][0]) + ':' + str(i[0][1]) + ':' + str(i[0][2]) + ':' + str(i[0][3])) \n",
    "\n",
    "    data = { \n",
    "            'headItems': list(headList),\n",
    "            'filingItems': list(items_list)        \n",
    "            }\n",
    "\n",
    "    template = Path(f'{Config.TEMPLATE_PATH}/public_notice.xml').read_text()    \n",
    "    jnja_template = Template(template, autoescape=True)\n",
    "    output_from_parsed_template = jnja_template.render(data)\n",
    "\n",
    "with open(sent_to_gazette_filename, 'w') as fh:\n",
    "    if all_df.empty:\n",
    "        fh.write('No data available during this period')\n",
    "    else:\n",
    "        fh.write(output_from_parsed_template)  \n",
    "        \n",
    "       "
   ]
  },
  {
   "cell_type": "code",
   "execution_count": null,
   "metadata": {},
   "outputs": [],
   "source": [
    "df = pd.DataFrame(unsupport_items_list)    \n",
    "\n",
    "upstr = f'999999,'\n",
    "for idx, row in df.iterrows():\n",
    "    for col in list(df.columns):\n",
    "        if df[col][idx] !=None:\n",
    "            upstr += f'''{df[col][idx][10]},'''\n",
    "\n",
    "upstr = upstr[:-1]+')'   \n"
   ]
  },
  {
   "cell_type": "code",
   "execution_count": null,
   "metadata": {},
   "outputs": [],
   "source": [
    "%%sql  all  << \n",
    "UPDATE sent_to_gazette set sent_to_gazette_date=now(), status='unsupport' where filing_id in ({upstr[:-1]})"
   ]
  }
 ],
 "metadata": {
  "celltoolbar": "Tags",
  "kernelspec": {
   "display_name": "Python 3",
   "language": "python",
   "name": "python3"
  },
  "language_info": {
   "codemirror_mode": {
    "name": "ipython",
    "version": 3
   },
   "file_extension": ".py",
   "mimetype": "text/x-python",
   "name": "python",
   "nbconvert_exporter": "python",
   "pygments_lexer": "ipython3",
   "version": "3.10.4"
  },
  "pycharm": {
   "stem_cell": {
    "cell_type": "raw",
    "metadata": {
     "collapsed": false
    },
    "source": []
   }
  },
  "vscode": {
   "interpreter": {
    "hash": "fcb35bce15c55b4cacb5112e543368f86c7f98ed17acd45e6841ee83ed1df6e3"
   }
  }
 },
 "nbformat": 4,
 "nbformat_minor": 2
}
