{
 "cells": [
  {
   "cell_type": "markdown",
   "metadata": {},
   "source": [
    "# Add Registrar's Notation to all existing BENs alterd from other types"
   ]
  },
  {
   "cell_type": "markdown",
   "metadata": {},
   "source": [
    "<b> Purpose: Add Registrar's Notation filing to all existing BENs which are altered from other types.</b>\n",
    "\n",
    "This is a one time (python) script to be run at a given date/time.<br>\n",
    "Set the configuration (client_id, client_secret, url(s)) for a scpecific environment.<br>\n",
    "Get access token for authorization.\n"
   ]
  },
  {
   "cell_type": "code",
   "execution_count": null,
   "metadata": {},
   "outputs": [],
   "source": [
    "import os\n",
    "from dotenv import load_dotenv, find_dotenv\n",
    "import psycopg2\n",
    "import pandas as pd\n",
    "\n",
    "# this will load all the envars from a .env file located in the project root (api)\n",
    "load_dotenv(find_dotenv())\n",
    "\n",
    "%load_ext sql"
   ]
  },
  {
   "cell_type": "code",
   "execution_count": null,
   "metadata": {},
   "outputs": [],
   "source": [
    "connect_to_db = 'postgresql://' + \\\n",
    "                os.getenv('ENTITY_DATABASE_USERNAME', '') + \":\" + os.getenv('ENTITY_DATABASE_PASSWORD', '') +'@' + \\\n",
    "                os.getenv('ENTITY_DATABASE_HOST', '') + ':' + os.getenv('ENTITY_DATABASE_PORT', '5434') + '/' + \\\n",
    "                os.getenv('ENTITY_DATABASE_NAME', '');\n",
    "connect_to_db\n",
    "    \n",
    "%sql $connect_to_db"
   ]
  },
  {
   "cell_type": "code",
   "execution_count": null,
   "metadata": {},
   "outputs": [],
   "source": [
    "%%sql \n",
    "select now() AT TIME ZONE 'PST' as current_date"
   ]
  },
  {
   "cell_type": "code",
   "execution_count": null,
   "metadata": {},
   "outputs": [],
   "source": [
    "import requests\n",
    "import os\n",
    "from datetime import datetime\n",
    "\n",
    "# token_url, client_id, client_secret, base_url - update based on environment\n",
    "token_url = os.getenv('ACCOUNT_SVC_AUTH_URL')\n",
    "client_id = os.getenv('ACCOUNT_SVC_CLIENT_ID')\n",
    "client_secret = os.getenv('ACCOUNT_SVC_CLIENT_SECRET')\n",
    "base_url = os.getenv('LEGAL_API_BASE_URL')\n",
    "\n",
    "header = {\n",
    "    \"Content-Type\": \"application/x-www-form-urlencoded\"\n",
    "}\n",
    "\n",
    "data = 'grant_type=client_credentials'\n",
    "\n",
    "res = requests.post(token_url, data, auth=(client_id, client_secret), headers=header)\n",
    "\n",
    "# Check the status code of the response\n",
    "if res.status_code == 200:\n",
    "    print(f\"Access token returned successfully : {base_url}\")\n",
    "    token = res.json()[\"access_token\"]\n",
    "else:\n",
    "    print(f\"Failed to make POST request. Status code: {res.status_code}\")\n",
    "    print(res.text)  # Print the error message if the request fails\n",
    "\n"
   ]
  },
  {
   "cell_type": "markdown",
   "metadata": {},
   "source": [
    "Call API (POST) endpoint to create Registrar's Notation filing for businesses."
   ]
  },
  {
   "cell_type": "code",
   "execution_count": null,
   "metadata": {},
   "outputs": [],
   "source": [
    "from urllib.parse import urljoin\n",
    "from rn_output import businesses\n",
    "\n",
    "current_date = datetime.now().date().isoformat()\n",
    "headers = {\n",
    "    'Content-Type': 'application/json',\n",
    "    'Authorization': 'Bearer ' + token\n",
    "}\n",
    "\n",
    "successful_identifiers = []\n",
    "failed_identifiers = []\n",
    "skipped_identifiers = []\n",
    "\n",
    "# loop through list of businesses to create filing\n",
    "for identifier in businesses:\n",
    "    filing_details = %sql \\\n",
    "        SELECT f.id, f.filing_date \\\n",
    "        FROM businesses b \\\n",
    "        JOIN filings f ON b.id = f.business_id \\\n",
    "        WHERE f.filing_type = 'alteration' \\\n",
    "        AND f.meta_data->'alteration'->>'fromLegalType' IN ('BC', 'ULC', 'CC', 'C', 'CUL', 'CCC') \\\n",
    "        AND f.meta_data->'alteration'->>'toLegalType' IN ('BEN', 'CBEN') \\\n",
    "        AND b.identifier = :identifier\n",
    "                              \n",
    "    if filing_details:\n",
    "        filing_id = filing_details[0]['id']\n",
    "        filing_date = filing_details[0]['filing_date']\n",
    "\n",
    "        formatted_filing_date = filing_date.strftime(\"%B %d, %Y\")\n",
    "    \n",
    "    draft_details = %sql \\\n",
    "        SELECT b.state, \\\n",
    "            (SELECT COUNT(1) \\\n",
    "                FROM filings f \\\n",
    "                WHERE f.business_id = b.id \\\n",
    "                AND f.status in ('DRAFT', 'PENDING')) <> 0 AS has_draft \\\n",
    "        FROM businesses b \\\n",
    "        WHERE b.identifier = :identifier\n",
    "    \n",
    "    if draft_details:\n",
    "        state = draft_details[0]['state']\n",
    "        has_draft = draft_details[0]['has_draft']\n",
    "    \n",
    "    if state == 'HISTORICAL' or has_draft:\n",
    "        skipped_identifiers.append(identifier)\n",
    "        continue\n",
    "    \n",
    "    filing_data = {\n",
    "        \"filing\": {\n",
    "            \"header\": {\n",
    "                \"name\": \"registrarsNotation\",\n",
    "                \"date\": current_date,\n",
    "                \"certifiedBy\": \"system\"\n",
    "            },\n",
    "            \"business\": {\n",
    "                \"identifier\": identifier,\n",
    "                \"legalType\": \"BEN\"\n",
    "            },\n",
    "            \"registrarsNotation\": {\n",
    "                \"orderDetails\": \"BC benefit company statement contained in notice of articles as required under \" + \n",
    "                \"section 51.992 of the Business Corporations Act corrected from \" +\n",
    "                \"\\\"This company is a benefit company and, as such, has purposes that include conducting its business \" +\n",
    "                \" in a responsible and sustainable manner and promoting one or more public benefits\\\" to \" + \n",
    "                \"\\\"This company is a benefit company and, as such, is committed to conducting its business in a \" + \n",
    "                \"responsible and sustainable manner and promoting one or more public benefits\\\".\"\n",
    "            }\n",
    "        }\n",
    "    }\n",
    "\n",
    "    filing_url = urljoin(base_url, f\"/api/v2/businesses/{identifier}/filings\")\n",
    "    response = requests.post(filing_url, headers=headers, json=filing_data)\n",
    "\n",
    "    # Check the status code of the response\n",
    "    if response.status_code == 201:\n",
    "        successful_identifiers.append(identifier)\n",
    "    else:\n",
    "        failed_identifiers.append(identifier)\n",
    "        print(f\"Failed to make POST request. Status code: {response.status_code} for {identifier}\")\n",
    "print('Successfully filed Registrar Notation for:', successful_identifiers) # Print the successful identifiers\n",
    "print('Failed to file Registrar Notation for:', failed_identifiers) # Print the failed identifiers\n",
    "print('Skipped to file Registrar Notation for:', skipped_identifiers) # Print the skipped identifiers\n"
   ]
  }
 ],
 "metadata": {
  "kernelspec": {
   "display_name": "Python 3",
   "language": "python",
   "name": "python3"
  },
  "language_info": {
   "codemirror_mode": {
    "name": "ipython",
    "version": 3
   },
   "file_extension": ".py",
   "mimetype": "text/x-python",
   "name": "python",
   "nbconvert_exporter": "python",
   "pygments_lexer": "ipython3",
   "version": "3.8.17"
  }
 },
 "nbformat": 4,
 "nbformat_minor": 2
}
