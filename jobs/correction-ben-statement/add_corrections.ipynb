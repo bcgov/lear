{
 "cells": [
  {
   "cell_type": "markdown",
   "metadata": {},
   "source": [
    "# Add Correction filing for All active existing companies"
   ]
  },
  {
   "cell_type": "markdown",
   "metadata": {},
   "source": [
    "<b> Purpose: Add Corrections filing for all active existing BENs.</b>\n",
    "\n",
    "This is a one time (python) script to be run at a given date/time.<br>\n",
    "Set the configuration (client_id, client_secret, url(s)) for a scpecific environment.<br>\n",
    "Get access token for authorization.\n"
   ]
  },
  {
   "cell_type": "code",
   "execution_count": 1,
   "metadata": {},
   "outputs": [
    {
     "name": "stdout",
     "output_type": "stream",
     "text": [
      "Access token returned successfully\n"
     ]
    }
   ],
   "source": [
    "import requests\n",
    "import os\n",
    "from datetime import datetime\n",
    "\n",
    "# token_url, client_id, client_secret, base_url - update based on environment\n",
    "token_url = os.getenv('ACCOUNT_SVC_AUTH_URL')\n",
    "client_id = os.getenv('ACCOUNT_SVC_CLIENT_ID')\n",
    "client_secret = os.getenv('ACCOUNT_SVC_CLIENT_SECRET')\n",
    "base_url = os.getenv('LEGAL_API_BASE_URL')\n",
    "\n",
    "header = {\n",
    "    \"Content-Type\": \"application/x-www-form-urlencoded\"\n",
    "}\n",
    "\n",
    "data = 'grant_type=client_credentials'\n",
    "\n",
    "res = requests.post(token_url, data, auth=(client_id, client_secret), headers=header)\n",
    "\n",
    "# Check the status code of the response\n",
    "if res.status_code == 200:\n",
    "    print(\"Access token returned successfully\")\n",
    "    token = res.json()[\"access_token\"]\n",
    "    # token = 'eyJhbGciOiJSUzI1NiIsInR5cCIgOiAiSldUIiwia2lkIiA6ICJreXk4aGdkTzVsM3Nwb3k3RnlPWU4wN1ZIWnhYT1hmYUxiV2tuaTZIZHhFIn0.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.UQcaIGtrm37glD3khEivzxzp_uG2eApO8GHXeXZk1auAfooKPItKdotbJGNcHivmRLPpClFtdz-BEZyztstpXLAYE4T21ONDqi5bpYeDpmC0XB--UukVLCNK_KNgKRsHbt3KqpH3VTrtlomkN_D5wV6O9waVjR233IQ6QWiskgWwyrLM7LDdftkkUTRwnAmLdDgIrkKbpVx3fGAGHcKk3zqFnkR1c558QL9lxAeKgC0ZObLffTFl3pWDDlDVgwO3lCa7s0hvJsagX1pdygxadvX45txtC6eUv5Mr0TLxadoOGLHIOpJfLtJDxz2kOrBSw-t_MOKeVDMKPtez9kzx_A'\n",
    "else:\n",
    "    print(f\"Failed to make POST request. Status code: {res.status_code}\")\n",
    "    print(res.text)  # Print the error message if the request fails\n",
    "\n"
   ]
  },
  {
   "cell_type": "markdown",
   "metadata": {},
   "source": [
    "Call API (POST) endpoint to createCorrection filing with details as Ben correction statement for businesses."
   ]
  },
  {
   "cell_type": "code",
   "execution_count": 2,
   "metadata": {},
   "outputs": [
    {
     "name": "stdout",
     "output_type": "stream",
     "text": [
      "Correction created successfully for BC0871147\n",
      "Correction created successfully for BC0871183\n",
      "Correction created successfully for BC0871186\n"
     ]
    }
   ],
   "source": [
    "from urllib.parse import urljoin\n",
    "from corrections_output import correction_businesses\n",
    "\n",
    "current_date = datetime.now().date().isoformat()\n",
    "headers = {\n",
    "    'Content-Type': 'application/json',\n",
    "    'Authorization': 'Bearer ' + token\n",
    "}\n",
    "\n",
    "# loop through list of businesses to create filing\n",
    "for correction_businesse in correction_businesses:\n",
    "    identifier = correction_businesse[0]\n",
    "    filind_id = correction_businesse[1]\n",
    "    correction_filing_data = {\n",
    "        \"filing\": {\n",
    "            \"header\": {\n",
    "                \"name\": \"correction\",\n",
    "                \"date\": current_date,\n",
    "                \"certifiedBy\": \"system\"\n",
    "            },\n",
    "            \"business\": {\n",
    "                \"identifier\": identifier,\n",
    "                \"legalType\": \"BC\"\n",
    "            },\n",
    "            \"correction\": {\n",
    "                \"details\": \"First correction\",\n",
    "                \"correctedFilingId\": filind_id,\n",
    "                \"correctedFilingType\": \"incorporationApplication\",\n",
    "                \"comment\": f\"\"\"Correction for Incorporation Application filed on {current_date} \\n\n",
    "                            BC benefit company statement contained in notice of articles as required under section \n",
    "                            51.992 of the Business Corporations Act corrected from “This company is a benefit company \n",
    "                            and, as such, has purposes that include conducting its business in a responsible and \n",
    "                            sustainable manner and promoting one or more public benefits” to \n",
    "                            “This company is a benefit company and, as such, is committed to conducting its business in \n",
    "                            a responsible and sustainable manner and promoting one or more public benefits”.\"\"\"\n",
    "            }\n",
    "        }\n",
    "    }\n",
    "\n",
    "    filing_url = urljoin(base_url, f\"/api/v2/businesses/{identifier}/filings\")\n",
    "    rv = requests.post(filing_url, headers=headers, json=correction_filing_data)\n",
    "\n",
    "    # Check the status code of the response\n",
    "    if rv.status_code == 201:\n",
    "        print(f\"Correction created successfully for {identifier}\")\n",
    "    else:\n",
    "        print(f\"Failed to make POST request. Status code: {rv.status_code}\")\n",
    "        print(rv.text)  # Print the error message if the request fails\n",
    "        \n"
   ]
  }
 ],
 "metadata": {
  "kernelspec": {
   "display_name": "Python 3",
   "language": "python",
   "name": "python3"
  },
  "language_info": {
   "codemirror_mode": {
    "name": "ipython",
    "version": 3
   },
   "file_extension": ".py",
   "mimetype": "text/x-python",
   "name": "python",
   "nbconvert_exporter": "python",
   "pygments_lexer": "ipython3",
   "version": "3.8.17"
  }
 },
 "nbformat": 4,
 "nbformat_minor": 2
}
