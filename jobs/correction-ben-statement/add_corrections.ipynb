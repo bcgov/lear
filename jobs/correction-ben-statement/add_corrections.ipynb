{
 "cells": [
  {
   "cell_type": "markdown",
   "metadata": {},
   "source": [
    "# Add Correction filing for All active existing companies"
   ]
  },
  {
   "cell_type": "markdown",
   "metadata": {},
   "source": [
    "<b> Purpose: Add Corrections filing for all active existing BENs.</b>\n",
    "\n",
    "This is a one time (python) script to be run at a given date/time.<br>\n",
    "Set the configuration (client_id, client_secret, url(s)) for a scpecific environment.<br>\n",
    "Get access token for authorization.\n"
   ]
  },
  {
   "cell_type": "code",
   "execution_count": 2,
   "metadata": {},
   "outputs": [
    {
     "name": "stdout",
     "output_type": "stream",
     "text": [
      "Access token returned successfully\n"
     ]
    }
   ],
   "source": [
    "import requests\n",
    "import os\n",
    "from datetime import datetime\n",
    "\n",
    "# token_url, client_id, client_secret, base_url - update based on environment\n",
    "token_url = os.getenv('ACCOUNT_SVC_AUTH_URL')\n",
    "client_id = os.getenv('ACCOUNT_SVC_CLIENT_ID')\n",
    "client_secret = os.getenv('ACCOUNT_SVC_CLIENT_SECRET')\n",
    "base_url = os.getenv('LEGAL_API_BASE_URL')\n",
    "\n",
    "header = {\n",
    "    \"Content-Type\": \"application/x-www-form-urlencoded\"\n",
    "}\n",
    "\n",
    "data = 'grant_type=client_credentials'\n",
    "\n",
    "res = requests.post(token_url, data, auth=(client_id, client_secret), headers=header)\n",
    "\n",
    "# Check the status code of the response\n",
    "if res.status_code == 200:\n",
    "    print(\"Access token returned successfully\")\n",
    "    token = res.json()[\"access_token\"]\n",
    "else:\n",
    "    print(f\"Failed to make POST request. Status code: {res.status_code}\")\n",
    "    print(res.text)  # Print the error message if the request fails\n",
    "\n"
   ]
  },
  {
   "cell_type": "markdown",
   "metadata": {},
   "source": [
    "Call API (POST) endpoint to createCorrection filing with details as Ben correction statement for businesses."
   ]
  },
  {
   "cell_type": "code",
   "execution_count": null,
   "metadata": {},
   "outputs": [
    {
     "name": "stdout",
     "output_type": "stream",
     "text": [
      "Correction created successfully for BC0879965 and correction filing_id is 193384\n"
     ]
    }
   ],
   "source": [
    "from urllib.parse import urljoin\n",
    "from corrections_output import correction_businesses\n",
    "\n",
    "current_date = datetime.now().date().isoformat()\n",
    "formatted_current_date = datetime.now().date().strftime('%B %d, %Y')\n",
    "correction_statement = (\"BC benefit company statement contained in notice of articles as required under section \" \n",
    "\"51.992 of the Business Corporations Act corrected from “This company is a benefit company and, as such, has purposes \"\n",
    "\"that include conducting its business in a responsible and sustainable manner and promoting one or more public \"\n",
    "\"benefits” to “This company is a benefit company and, as such, is committed to conducting its business in a \"\n",
    "\"responsible and sustainable manner and promoting one or more public benefits”\")\n",
    "\n",
    "headers = {\n",
    "    'Content-Type': 'application/json',\n",
    "    'Authorization': 'Bearer ' + token\n",
    "}\n",
    "\n",
    "# loop through list of businesses to create filing\n",
    "for correction_businesse in correction_businesses:\n",
    "    identifier = correction_businesse[0]\n",
    "    filind_id = correction_businesse[1]\n",
    "    correction_filing_data = {\n",
    "        \"filing\": {\n",
    "            \"header\": {\n",
    "                \"name\": \"correction\",\n",
    "                \"date\": current_date,\n",
    "                \"certifiedBy\": \"system\",\n",
    "                \"correctionBenStatement\": True\n",
    "            },\n",
    "            \"business\": {\n",
    "                \"identifier\": identifier,\n",
    "                \"legalType\": \"BC\"\n",
    "            },\n",
    "            \"correction\": {\n",
    "                \"details\": \"BEN Correction statement\",\n",
    "                \"correctedFilingId\": filind_id,\n",
    "                \"correctedFilingType\": \"incorporationApplication\",\n",
    "                \"comment\": f\"\"\"Correction for Incorporation Application filed on {formatted_current_date} \\n{correction_statement}\"\"\"\n",
    "            }\n",
    "        }\n",
    "    }\n",
    "\n",
    "    filing_url = urljoin(base_url, f\"/api/v2/businesses/{identifier}/filings\")\n",
    "    rv = requests.post(filing_url, headers=headers, json=correction_filing_data)\n",
    "\n",
    "    # Check the status code of the response\n",
    "    if rv.status_code == 201:\n",
    "        correction_filing_id = rv.json()[\"filing\"][\"header\"][\"filingId\"]\n",
    "        print(f\"Correction created successfully for {identifier} and correction filing_id is {correction_filing_id}\")\n",
    "    else:\n",
    "        print(f\"Failed to make POST request. Status code: {rv.status_code}: {rv.text}\")\n",
    "        print(rv.text)  # Print the error message if the request fails\n",
    "        \n"
   ]
  }
 ],
 "metadata": {
  "kernelspec": {
   "display_name": "Python 3",
   "language": "python",
   "name": "python3"
  },
  "language_info": {
   "codemirror_mode": {
    "name": "ipython",
    "version": 3
   },
   "file_extension": ".py",
   "mimetype": "text/x-python",
   "name": "python",
   "nbconvert_exporter": "python",
   "pygments_lexer": "ipython3",
   "version": "3.8.17"
  }
 },
 "nbformat": 4,
 "nbformat_minor": 2
}
