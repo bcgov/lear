{
 "cells": [
  {
   "cell_type": "markdown",
   "metadata": {},
   "source": [
    "# Filings Daily Stats"
   ]
  },
  {
   "cell_type": "markdown",
   "metadata": {},
   "source": [
    "We need to load in these libraries into our notebook in order to query, load, manipulate and view the data"
   ]
  },
  {
   "cell_type": "code",
   "execution_count": null,
   "metadata": {
    "pycharm": {
     "is_executing": false,
     "name": "#%%\n"
    }
   },
   "outputs": [],
   "source": [
    "import os\n",
    "import pandas as pd\n",
    "import gzip\n",
    "from datetime import datetime, timedelta\n",
    "from cloud_sql_connector import DBConfig, getconn\n",
    "import pg8000\n",
    "import sqlalchemy"
   ]
  },
  {
   "cell_type": "code",
   "execution_count": null,
   "metadata": {},
   "outputs": [],
   "source": [
    "from dotenv import find_dotenv\n",
    "from dotenv import load_dotenv\n",
    "load_dotenv(find_dotenv())"
   ]
  },
  {
   "cell_type": "markdown",
   "metadata": {},
   "source": [
    "### DB Connection "
   ]
  },
  {
   "cell_type": "code",
   "execution_count": null,
   "metadata": {
    "pycharm": {
     "is_executing": false,
     "name": "#%%\n"
    }
   },
   "outputs": [],
   "source": [
    "config = DBConfig(\n",
    "    instance_name=os.getenv('LEAR_DB_CONNECTION_NAME'),\n",
    "    database=os.getenv('DATABASE_NAME'),\n",
    "    user=os.getenv('DATABASE_USER'),\n",
    "    ip_type=\"public\",\n",
    "    schema=\"business\"\n",
    "    )\n",
    "\n",
    "def get_conn():\n",
    "    \"\"\"Create a connection to Google Cloud SQL using the custom cloud-sql-connector.\"\"\"\n",
    "    return getconn(config)"
   ]
  },
  {
   "cell_type": "code",
   "execution_count": null,
   "metadata": {},
   "outputs": [],
   "source": [
    "print('LEAR_DB_CONNECTION_NAME:', os.getenv('LEAR_DB_CONNECTION_NAME'))\n",
    "print('DATABASE_NAME:', os.getenv('DATABASE_NAME'))\n",
    "print('DATABASE_USER:', os.getenv('DATABASE_USER'))\n",
    "print('GOOGLE_APPLICATION_CREDENTIALS:', os.getenv('GOOGLE_APPLICATION_CREDENTIALS'))\n",
    "print('DBConfig:', config)\n",
    "\n",
    "engine = sqlalchemy.create_engine(\n",
    "    \"postgresql+pg8000://\",\n",
    "    creator=get_conn,\n",
    "    )\n",
    "\n",
    "print(\"Cloud SQL engine created successfully!\")\n",
    "print(f\"Engine: {engine}\")\n",
    "\n",
    "# Test the connection\n",
    "try:\n",
    "    with engine.connect() as connection:\n",
    "        result = connection.execute(sqlalchemy.text(\"SELECT 1 as test\"))\n",
    "        print(\"✅ Database connection test successful!\")\n",
    "        print(f\"Test result: {result.fetchone()}\")\n",
    "except Exception as e:\n",
    "    print(f\"❌ Connection failed: {e}\")"
   ]
  },
  {
   "cell_type": "markdown",
   "metadata": {},
   "source": [
    "### Collect data"
   ]
  },
  {
   "cell_type": "code",
   "execution_count": null,
   "metadata": {},
   "outputs": [],
   "source": [
    "bcfn_mr_query = '''\n",
    "select               -- CURRENT NAME AND ACTIVE\n",
    "' FM'\n",
    "||substr(identifier,3,7)\n",
    "||to_char(founding_date at time zone 'America/Vancouver','yyyymmdd')\n",
    "||' '\n",
    "||rpad(legal_type,3)\n",
    "||' 1'\n",
    "||'00000000'\n",
    "||rpad(' ',42)\n",
    "||rpad(legal_name,454)\n",
    "from businesses\n",
    "where legal_type in ('SP','GP')\n",
    "and state='ACTIVE'\n",
    "UNION ALL\n",
    "select               -- CURRENT NAME AND HISTORICAL\n",
    "' FM'\n",
    "||substr(identifier,3,7)\n",
    "||to_char(founding_date at time zone 'America/Vancouver','yyyymmdd')\n",
    "||' '\n",
    "||rpad(legal_type,3)\n",
    "||' 2'\n",
    "||CASE WHEN dissolution_date at time zone 'America/Vancouver' is NULL THEN rpad('', 8)\n",
    "       WHEN dissolution_date at time zone 'America/Vancouver' is NOT NULL THEN to_char(dissolution_date at time zone 'America/Vancouver','yyyymmdd')\n",
    "  END \n",
    "||rpad(' ',42)\n",
    "||rpad(legal_name,454)\n",
    "from businesses\n",
    "where legal_type in ('SP','GP')\n",
    "and state='HISTORICAL'\n",
    "UNION ALL\n",
    "select               -- OLD NAME IN THE LAST 2 YEARS\n",
    "distinct \n",
    "' CH'\n",
    "||substr(b.identifier,3,7)\n",
    "||'00000000'\n",
    "||' '\n",
    "||'CH '\n",
    "||' 2'\n",
    "||'00000000'\n",
    "||rpad(' ',42)\n",
    "||rpad(bv.legal_name,454)\n",
    "from businesses         b\n",
    "    ,businesses_version bv\n",
    "    ,filings            f\n",
    "where b.identifier=bv.identifier\n",
    "and b.legal_name != bv.legal_name\n",
    "and b.legal_type in ('SP','GP')\n",
    "and f.transaction_id=bv.end_transaction_id\n",
    "and f.effective_date at time zone 'America/Vancouver' > current_date at time zone 'America/Vancouver' - interval '2 years';\n",
    "'''\n",
    "\n",
    "bcfn_mr_df = pd.read_sql(bcfn_mr_query, engine)"
   ]
  },
  {
   "cell_type": "markdown",
   "metadata": {},
   "source": [
    "### Save data to file"
   ]
  },
  {
   "cell_type": "code",
   "execution_count": null,
   "metadata": {},
   "outputs": [],
   "source": []
  },
  {
   "cell_type": "code",
   "execution_count": null,
   "metadata": {},
   "outputs": [],
   "source": [
    "datestr = datetime.strftime(datetime.now(), '%Y%m%d')\n",
    "BCFN_MR_filename = os.path.join(os.getcwd(), 'data', 'BCFN_MR_' + datestr)\n",
    "\n",
    "# Ensure the directory exists\n",
    "os.makedirs(os.path.dirname(BCFN_MR_filename), exist_ok=True)\n",
    "\n",
    "with open(BCFN_MR_filename, 'w') as f:\n",
    "    if not bcfn_mr_df.empty:\n",
    "        dfAsString = bcfn_mr_df.to_string(header=False, index=False)\n",
    "        f.write(dfAsString)"
   ]
  },
  {
   "cell_type": "code",
   "execution_count": null,
   "metadata": {},
   "outputs": [],
   "source": [
    "# open file in read mode and rename it with a line number at the end of the filename.\n",
    "with open(BCFN_MR_filename, 'r') as f:\n",
    "    new_BCFN_MR_filename = BCFN_MR_filename + '_' + str(len(f.readlines()))\n",
    "    os.rename(BCFN_MR_filename, new_BCFN_MR_filename)"
   ]
  },
  {
   "cell_type": "code",
   "execution_count": null,
   "metadata": {},
   "outputs": [],
   "source": [
    "with open(new_BCFN_MR_filename, 'rb') as f_in, gzip.open(new_BCFN_MR_filename+'.gz', 'wb') as f_out:\n",
    "    f_out.writelines(f_in) \n",
    "os.remove(new_BCFN_MR_filename)"
   ]
  }
 ],
 "metadata": {
  "celltoolbar": "Tags",
  "kernelspec": {
   "display_name": ".venv",
   "language": "python",
   "name": "python3"
  },
  "language_info": {
   "codemirror_mode": {
    "name": "ipython",
    "version": 3
   },
   "file_extension": ".py",
   "mimetype": "text/x-python",
   "name": "python",
   "nbconvert_exporter": "python",
   "pygments_lexer": "ipython3",
   "version": "3.13.4"
  },
  "pycharm": {
   "stem_cell": {
    "cell_type": "raw",
    "metadata": {
     "collapsed": false
    },
    "source": []
   }
  }
 },
 "nbformat": 4,
 "nbformat_minor": 4
}
