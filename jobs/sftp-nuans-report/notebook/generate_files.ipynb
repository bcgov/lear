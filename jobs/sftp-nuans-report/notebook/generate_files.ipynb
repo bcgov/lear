{
 "cells": [
  {
   "cell_type": "markdown",
   "metadata": {},
   "source": [
    "# Filings Daily Stats"
   ]
  },
  {
   "cell_type": "markdown",
   "metadata": {},
   "source": [
    "We need to load in these libraries into our notebook in order to query, load, manipulate and view the data"
   ]
  },
  {
   "cell_type": "code",
   "execution_count": null,
   "metadata": {
    "pycharm": {
     "is_executing": false,
     "name": "#%%\n"
    }
   },
   "outputs": [],
   "source": [
    "import os\n",
    "import csv\n",
    "import gzip\n",
    "from datetime import datetime\n",
    "\n",
    "%load_ext sql\n",
    "%load_ext dotenv\n",
    "%config SqlMagic.displaylimit = 5"
   ]
  },
  {
   "cell_type": "code",
   "execution_count": null,
   "metadata": {},
   "outputs": [],
   "source": [
    "from dotenv import find_dotenv\n",
    "from dotenv import load_dotenv\n",
    "load_dotenv(find_dotenv())"
   ]
  },
  {
   "cell_type": "code",
   "execution_count": null,
   "metadata": {},
   "outputs": [],
   "source": [
    "%dotenv -o"
   ]
  },
  {
   "cell_type": "markdown",
   "metadata": {},
   "source": [
    "### DB Connection "
   ]
  },
  {
   "cell_type": "code",
   "execution_count": null,
   "metadata": {
    "pycharm": {
     "is_executing": false,
     "name": "#%%\n"
    }
   },
   "outputs": [],
   "source": [
    "import google.auth\n",
    "from google.cloud.sql.connector import Connector\n",
    "import sqlalchemy\n",
    "\n",
    "DB_USER = os.getenv(\"DATABASE_USERNAME\", \"\")\n",
    "DB_NAME = os.getenv(\"DATABASE_NAME\", \"\")\n",
    "DB_PASSWORD = os.getenv(\"DATABASE_PASSWORD\", \"\")\n",
    "DB_HOST = os.getenv(\"DATABASE_HOST\", \"\")\n",
    "DB_PORT = os.getenv(\"DATABASE_PORT\", \"\")\n",
    "DB_CONNECTION_NAME = os.getenv(\"LEAR_DB_CONNECTION_NAME\")  # project:region:instance-name\n",
    "\n",
    "# initialize Connector object\n",
    "connector = Connector()\n",
    "\n",
    "# function to return the database connection object\n",
    "def get_conn():\n",
    "    conn = connector.connect(\n",
    "        DB_CONNECTION_NAME,\n",
    "        \"pg8000\",\n",
    "        ip_type=\"public\",\n",
    "        user=DB_USER,\n",
    "        db=DB_NAME,\n",
    "        enable_iam_auth=True\n",
    "    )\n",
    "    return conn\n",
    "\n",
    "def get_pool():\n",
    "    # create connection pool with 'creator' argument to our connection object function\n",
    "    if not DB_CONNECTION_NAME:\n",
    "        connect_string = f'postgresql://{DB_USER}:{DB_PASSWORD}@{DB_HOST}:{DB_PORT}/{DB_NAME}'\n",
    "        pool = sqlalchemy.create_engine(connect_string)\n",
    "    else:\n",
    "        # NOTE: also need GOOGLE_APPLICATION_CREDENTIALS to be set in the .env\n",
    "        #    - when running the notebook on its own, the ^ cred path starts in this folder instead of the root of the service\n",
    "        #    - if this path is invalid or the creds are invalid the line below will fail\n",
    "        credentials, project_id = google.auth.default()\n",
    "        pool = sqlalchemy.create_engine(\n",
    "            \"postgresql+pg8000://\",\n",
    "            creator=get_conn,\n",
    "        )\n",
    "    \n",
    "    return pool"
   ]
  },
  {
   "cell_type": "code",
   "execution_count": null,
   "metadata": {},
   "outputs": [],
   "source": [
    "lear_pool = get_pool()\n",
    "%sql lear_pool --alias lear\n",
    "%sql lear"
   ]
  },
  {
   "cell_type": "code",
   "execution_count": null,
   "metadata": {},
   "outputs": [],
   "source": [
    "%sql --connections"
   ]
  },
  {
   "cell_type": "markdown",
   "metadata": {},
   "source": [
    "Simplest query to run to ensure our libraries are loaded and our DB connection is working"
   ]
  },
  {
   "cell_type": "code",
   "execution_count": null,
   "metadata": {
    "pycharm": {
     "is_executing": false,
     "name": "#%%\n"
    }
   },
   "outputs": [],
   "source": [
    "%%sql \n",
    "select now() AT TIME ZONE 'PST' as current_date"
   ]
  },
  {
   "cell_type": "markdown",
   "metadata": {},
   "source": [
    "### Collect data"
   ]
  },
  {
   "cell_type": "code",
   "execution_count": null,
   "metadata": {},
   "outputs": [],
   "source": [
    "%%sql  BCFN_MR  <<\n",
    "select               -- CURRENT NAME AND ACTIVE\n",
    "' FM'\n",
    "||substr(identifier,3,7)\n",
    "||to_char(founding_date at time zone 'America/Vancouver','yyyymmdd')\n",
    "||' '\n",
    "||rpad(legal_type,3)\n",
    "||' 1'\n",
    "||'00000000'\n",
    "||rpad(' ',42)\n",
    "||rpad(legal_name,454)\n",
    "from businesses\n",
    "where legal_type in ('SP','GP')\n",
    "and state='ACTIVE'\n",
    "UNION ALL\n",
    "select               -- CURRENT NAME AND HISTORICAL\n",
    "' FM'\n",
    "||substr(identifier,3,7)\n",
    "||to_char(founding_date at time zone 'America/Vancouver','yyyymmdd')\n",
    "||' '\n",
    "||rpad(legal_type,3)\n",
    "||' 2'\n",
    "||CASE WHEN dissolution_date at time zone 'America/Vancouver' is NULL THEN rpad('', 8)\n",
    "       WHEN dissolution_date at time zone 'America/Vancouver' is NOT NULL THEN to_char(dissolution_date at time zone 'America/Vancouver','yyyymmdd')\n",
    "  END \n",
    "||rpad(' ',42)\n",
    "||rpad(legal_name,454)\n",
    "from businesses\n",
    "where legal_type in ('SP','GP')\n",
    "and state='HISTORICAL'\n",
    "UNION ALL\n",
    "select               -- OLD NAME IN THE LAST 2 YEARS\n",
    "distinct \n",
    "' CH'\n",
    "||substr(b.identifier,3,7)\n",
    "||'00000000'\n",
    "||' '\n",
    "||'CH '\n",
    "||' 2'\n",
    "||'00000000'\n",
    "||rpad(' ',42)\n",
    "||rpad(bv.legal_name,454)\n",
    "from businesses         b\n",
    "    ,businesses_version bv\n",
    "    ,filings            f\n",
    "where b.identifier=bv.identifier\n",
    "and b.legal_name != bv.legal_name\n",
    "and b.legal_type in ('SP','GP')\n",
    "and f.transaction_id=bv.end_transaction_id\n",
    "and f.effective_date at time zone 'America/Vancouver' > current_date at time zone 'America/Vancouver' - interval '2 years'; "
   ]
  },
  {
   "cell_type": "markdown",
   "metadata": {},
   "source": [
    "### Save data to file"
   ]
  },
  {
   "cell_type": "code",
   "execution_count": null,
   "metadata": {},
   "outputs": [],
   "source": [
    "datestr = datetime.strftime(datetime.now(), '%Y%m%d')\n",
    "BCFN_MR_filename = os.path.join(os.getcwd(), r'data/')+'BCFN_MR_' + datestr\n",
    "\n",
    "with open(BCFN_MR_filename, 'w') as f:\n",
    "    if not BCFN_MR.DataFrame().empty:\n",
    "        dfAsString = BCFN_MR.DataFrame().to_string(header=False, index=False)\n",
    "        f.write(dfAsString)"
   ]
  },
  {
   "cell_type": "code",
   "execution_count": null,
   "metadata": {},
   "outputs": [],
   "source": [
    "# open file in read mode and rename it with a line number at the end of the filename.\n",
    "with open(BCFN_MR_filename, 'r') as f:\n",
    "    new_BCFN_MR_filename=BCFN_MR_filename+'_' + str(len(f.readlines()))\n",
    "    os.rename(BCFN_MR_filename, new_BCFN_MR_filename)  "
   ]
  },
  {
   "cell_type": "code",
   "execution_count": null,
   "metadata": {},
   "outputs": [],
   "source": [
    "# gzip the file\n",
    "with open(new_BCFN_MR_filename, 'rb') as f_in, gzip.open(new_BCFN_MR_filename+'.gz', 'wb') as f_out:\n",
    "    f_out.writelines(f_in) \n",
    "# delete this file and  keep a zip file only\n",
    "os.remove(new_BCFN_MR_filename)    "
   ]
  }
 ],
 "metadata": {
  "celltoolbar": "Tags",
  "kernelspec": {
   "display_name": "venv",
   "language": "python",
   "name": "venv"
  },
  "language_info": {
   "codemirror_mode": {
    "name": "ipython",
    "version": 3
   },
   "file_extension": ".py",
   "mimetype": "text/x-python",
   "name": "python",
   "nbconvert_exporter": "python",
   "pygments_lexer": "ipython3",
   "version": "3.8.18"
  },
  "pycharm": {
   "stem_cell": {
    "cell_type": "raw",
    "metadata": {
     "collapsed": false
    },
    "source": []
   }
  },
  "vscode": {
   "interpreter": {
    "hash": "fcb35bce15c55b4cacb5112e543368f86c7f98ed17acd45e6841ee83ed1df6e3"
   }
  }
 },
 "nbformat": 4,
 "nbformat_minor": 4
}
